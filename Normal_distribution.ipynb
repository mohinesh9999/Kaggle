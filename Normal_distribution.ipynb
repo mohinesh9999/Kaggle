{
  "nbformat": 4,
  "nbformat_minor": 0,
  "metadata": {
    "colab": {
      "name": "Normal distribution",
      "provenance": [],
      "authorship_tag": "ABX9TyOeEaa6S2q7GDRUy1I5hgv4",
      "include_colab_link": true
    },
    "kernelspec": {
      "name": "python3",
      "display_name": "Python 3"
    },
    "language_info": {
      "name": "python"
    }
  },
  "cells": [
    {
      "cell_type": "markdown",
      "metadata": {
        "id": "view-in-github",
        "colab_type": "text"
      },
      "source": [
        "<a href=\"https://colab.research.google.com/github/mohinesh9999/Kaggle/blob/main/Normal_distribution.ipynb\" target=\"_parent\"><img src=\"https://colab.research.google.com/assets/colab-badge.svg\" alt=\"Open In Colab\"/></a>"
      ]
    },
    {
      "cell_type": "code",
      "execution_count": 11,
      "metadata": {
        "colab": {
          "base_uri": "https://localhost:8080/"
        },
        "id": "rTLZIz-9B3qV",
        "outputId": "54a4f9d2-361f-4831-923e-8a59f5541c4b"
      },
      "outputs": [
        {
          "output_type": "stream",
          "name": "stdout",
          "text": [
            "(1000,)\n",
            "[ 3.36920371e-01  2.28226437e-01  3.22069851e-01  2.22311821e-01\n",
            " -1.19827849e+00 -6.38195376e-01  6.42696651e-01  1.94265861e+00\n",
            "  7.38033670e-01  1.52790795e+00 -8.57046024e-01 -1.30559407e+00\n",
            " -4.43114461e-01 -1.15562419e+00  1.51790128e+00  1.05484790e+00\n",
            " -8.66901255e-01  4.48514193e-01  4.93832257e-01 -9.99797433e-01\n",
            " -5.77163706e-01  1.79412173e+00 -1.92353297e-01 -1.19611142e-01\n",
            " -2.31829978e-01  1.62024023e-01  9.69879581e-01  6.17895839e-01\n",
            " -7.96400964e-01 -1.14728698e+00 -3.41514158e-02  1.74121535e+00\n",
            "  1.56463003e-01 -6.00471610e-01  2.49513263e+00 -1.26611753e+00\n",
            "  1.00247524e+00 -9.11395043e-01 -5.31411354e-01  1.19196845e+00\n",
            "  5.68387998e-01 -4.37050518e-01 -8.75089915e-01 -2.43623292e-01\n",
            " -5.12752457e-01  1.48871589e+00  1.79148397e+00  6.32456570e-02\n",
            " -1.79986701e+00  1.11744831e+00  7.81289924e-02 -8.03464923e-01\n",
            " -4.62737967e-01  9.86662415e-02 -5.39382798e-01  9.58379780e-02\n",
            "  1.29599878e-01 -9.96037674e-01  1.98921988e-01  5.00461033e-01\n",
            "  1.80197324e-01 -1.04411799e+00 -5.89138467e-01 -1.33328108e+00\n",
            "  2.90806823e-01 -4.32656253e-01 -2.95899239e-03  1.34318987e+00\n",
            "  9.97419670e-01 -3.22909801e-01 -8.80854953e-01 -2.68068725e-01\n",
            "  2.27292439e+00 -4.92983962e-01 -4.17876753e-01  1.19959872e+00\n",
            "  1.11405350e+00  3.77386872e-01  1.47563148e+00 -1.36294758e+00\n",
            " -3.03017288e-01 -1.68627934e+00  1.96000453e-01 -8.14933657e-01\n",
            " -1.20351841e+00  4.26323369e-01 -2.22128594e-01 -1.14558799e+00\n",
            " -1.36396867e+00 -6.51743926e-01 -7.64914746e-01 -8.99345338e-01\n",
            "  2.49694408e-01 -3.81395972e-01 -3.26508557e-01 -8.08696343e-01\n",
            " -1.63454720e-01 -1.26825926e+00 -1.90312879e+00  1.06718859e-01\n",
            "  7.62757774e-01  1.00470738e+00 -9.44614778e-01  6.63960111e-01\n",
            " -1.10581965e+00 -5.60836022e-01  5.32497475e-01  6.26154769e-01\n",
            "  1.18476640e+00 -2.59461996e-01  1.32304137e-01  1.36148557e+00\n",
            " -8.52611222e-02  1.13388713e+00  2.15456191e-01 -3.01599867e-02\n",
            " -7.27535218e-01 -8.24273221e-02 -9.67149794e-01  7.56972043e-01\n",
            " -1.66838806e+00  2.00508798e+00  6.86638078e-01  4.92909241e-01\n",
            " -8.75658316e-01 -5.75556927e-01  1.03238451e+00 -3.20688260e-01\n",
            "  2.83375258e-01  3.42015674e-01  1.54300975e+00  1.47021159e+00\n",
            " -2.24779366e-01  9.18527305e-01  7.21808298e-01 -2.27728887e-01\n",
            "  2.45479574e-01 -8.32505171e-01  2.89307103e-01  8.01148143e-01\n",
            "  8.14900054e-01  1.15797631e+00  3.72607287e-01 -8.98367328e-03\n",
            "  6.64397120e-01  5.13123658e-01  3.84388688e-02  1.00155441e+00\n",
            " -3.36596662e-01  1.98173786e+00  1.41202437e+00 -1.46073967e+00\n",
            " -1.58659025e+00 -4.05469562e-02 -7.98508572e-01  1.09743423e+00\n",
            "  1.10745203e+00  5.86756261e-01  3.48825576e-01 -1.09050295e+00\n",
            "  1.27867046e+00  4.28064638e-01  9.65048453e-01  8.74808183e-01\n",
            " -8.64303672e-01 -2.11365597e+00  1.03025654e+00  1.14771782e+00\n",
            "  1.60311159e-01  1.53101406e+00  5.54552412e-02  4.21358541e-01\n",
            "  8.57753350e-01 -4.50070821e-01  5.52644436e-01 -2.03837611e+00\n",
            "  4.71392036e-01  2.97985495e-02 -7.21163306e-02  2.05138013e-01\n",
            "  7.81812017e-01  4.08252373e-01 -2.14522932e-01 -8.25840142e-01\n",
            "  2.10045257e+00 -1.10350150e-01  4.44235103e-01 -6.51203417e-01\n",
            "  1.59175232e+00  8.18569192e-01 -4.55069258e-01 -1.94614040e+00\n",
            " -2.10802228e-01  1.09415658e+00  1.29633644e+00 -1.71668683e+00\n",
            " -2.81245988e-01 -1.37379789e+00  1.82652359e-01  1.56399876e+00\n",
            "  1.84779537e+00  2.37681329e-01  1.17246539e-04 -2.69931436e-01\n",
            "  4.15959773e-01  1.08319500e+00  1.07469097e-01  3.42719521e-01\n",
            "  1.97270438e+00  3.01121014e-01  4.50990031e-01 -9.89277118e-01\n",
            " -3.25337586e-02  1.32917085e+00  6.27343692e-01 -7.44783359e-01\n",
            " -6.64243399e-02  9.30507361e-02  1.07404557e+00  6.57765933e-01\n",
            "  2.09208665e+00 -6.94582197e-01  5.22798531e-01 -1.46616189e+00\n",
            "  1.65989722e+00 -5.05357560e-01 -2.16879328e-01 -4.83304341e-01\n",
            "  7.76462471e-01 -1.80033227e+00 -1.23080146e+00 -1.02194403e+00\n",
            "  8.35270101e-01  9.32541567e-01  1.45959637e+00 -1.17841080e+00\n",
            "  3.27191887e-01  7.32335610e-01  9.68228413e-01 -4.12334533e-01\n",
            "  1.86817015e-01 -1.15540683e+00  1.99199786e-01 -2.73417237e-01\n",
            " -7.53336211e-01  6.09633721e-01  1.11288954e-01  1.32891751e+00\n",
            "  1.28453015e+00  3.39498585e+00 -6.99631393e-01 -7.59486691e-01\n",
            "  2.35474270e+00  5.22810059e-01  2.23287947e+00 -2.22993026e-01\n",
            "  1.02302318e+00  5.99526046e-01  1.35199858e+00  2.18573860e+00\n",
            "  1.90638618e+00  1.06589556e+00  9.57741421e-01 -9.67237397e-02\n",
            "  2.35206234e-02 -4.74491296e-01 -4.41601834e-03 -7.28575595e-01\n",
            " -1.16684078e+00 -7.34185428e-01 -2.14080815e-01  1.12020460e+00\n",
            " -7.35050229e-01 -9.44550133e-01  4.17155370e-01  2.85417836e-01\n",
            "  7.56487699e-01 -5.91857179e-01  1.58848046e+00 -1.05831610e+00\n",
            " -3.89897634e-01 -5.42015729e-01 -1.79010986e+00 -7.16496368e-01\n",
            "  2.09747989e-02 -5.31516020e-01  9.41602504e-01 -8.62948014e-01\n",
            "  2.28306350e-02  1.71124883e+00  6.77980312e-01  1.08372975e-01\n",
            " -6.03946568e-02  1.00535952e+00 -1.08138040e+00 -1.09809153e+00\n",
            "  1.34601120e+00 -1.47243557e-01 -1.09428716e+00  7.00439937e-02\n",
            " -3.61366384e-01 -2.00959717e+00  7.37423028e-02 -1.46520135e+00\n",
            "  8.48342294e-01 -1.06379420e+00 -3.18819706e-01  5.28244853e-01\n",
            " -6.07214980e-01  3.41469384e-01 -7.99972098e-01  6.49611693e-02\n",
            "  9.64728489e-02  1.03206227e-01  7.33895315e-01  1.18591358e+00\n",
            "  1.00565235e+00 -9.68877720e-01  1.10717996e+00  5.64679802e-01\n",
            " -4.28253065e-01  1.19638850e+00  2.18497259e-02  1.21518391e+00\n",
            "  4.28046120e-01 -6.60072474e-01  2.90350157e-01 -6.24018528e-01\n",
            "  4.56301815e-01 -7.02286835e-01 -1.67605051e+00  5.33506404e-01\n",
            "  2.51274561e+00  5.63403210e-01 -1.53327348e-01  8.61629276e-01\n",
            " -4.33532634e-01  6.45683644e-01 -7.70711385e-02  1.74288162e+00\n",
            "  8.79342053e-01  1.65389811e+00  1.57453245e-01  1.13611760e+00\n",
            " -5.83885326e-01  8.79031815e-02 -2.01693009e-01 -1.47424636e-01\n",
            "  1.16618470e+00  5.06880337e-01  1.00442400e+00  1.12133959e+00\n",
            "  2.00188413e-01 -8.57843397e-01 -4.03682093e-01 -4.02625727e-01\n",
            "  6.00810343e-01 -4.46828939e-01 -3.57593831e-01 -1.64728658e+00\n",
            " -8.95636508e-01 -3.06277310e-01  1.57030661e-01  1.90767642e-01\n",
            "  3.37222570e-01 -2.56922340e-01 -3.42513506e-01 -3.24462807e-02\n",
            " -5.94655169e-01 -1.89890210e+00  9.08008861e-01  5.20235616e-01\n",
            "  1.67298353e-02  3.13176534e-01 -1.75526043e-01  8.05136540e-01\n",
            " -7.03269527e-01  3.32028863e-03  1.60735891e+00 -7.51807022e-01\n",
            "  1.33052806e+00 -3.48158037e-01 -1.70986609e+00 -6.72180290e-02\n",
            " -3.26259092e-01  1.49903049e-01  6.58094115e-01 -4.72494293e-01\n",
            "  1.00731420e-01 -7.80245062e-02 -9.47147454e-01 -1.70281021e-01\n",
            " -5.11019847e-01 -1.03944031e+00  2.14237363e-01  1.91191094e+00\n",
            " -1.38119619e+00 -1.24524248e+00 -1.09015069e+00  4.16877962e-02\n",
            "  1.28144449e+00  1.15463760e+00 -3.68546972e-01  5.77403408e-01\n",
            "  9.73965209e-01  1.26081370e+00  5.84640925e-01  1.62022863e+00\n",
            " -9.62137197e-01 -1.15349204e+00  7.03453652e-01 -1.13185412e-01\n",
            " -1.47590994e-01 -1.13819586e+00  1.31671329e+00  4.24191033e-01\n",
            " -2.68732103e-01 -4.02915390e-01  8.71716193e-01  2.12595615e-01\n",
            "  1.96682504e+00 -1.11485290e+00 -1.16226165e+00  3.07105528e-01\n",
            " -4.27273553e-01  9.31297986e-01 -2.35993179e+00  7.49264009e-01\n",
            "  8.68536567e-01  9.75439217e-01  2.24570388e+00 -1.41509315e-01\n",
            " -1.42648807e+00 -1.53262453e-01 -8.39665173e-01  4.36609309e-01\n",
            " -1.41699823e+00  1.01157507e+00  1.54865137e+00  2.12402118e+00\n",
            " -1.00966576e+00  5.75576432e-01 -1.07967255e+00  1.70701242e+00\n",
            " -5.62057364e-01 -1.10986333e+00 -3.63994502e-01  1.45065362e+00\n",
            " -1.40481037e+00  2.55626477e+00 -2.92130757e-01 -4.31276949e-01\n",
            "  5.84224613e-01 -1.74858276e+00  1.86073429e+00  1.04012556e+00\n",
            " -1.43558063e+00 -1.96338391e+00 -3.87057813e-01 -2.26541640e-01\n",
            "  1.78451294e+00  8.19727534e-01  7.63518121e-01 -2.19920279e-01\n",
            "  2.44323540e+00  1.30723774e+00  6.34489233e-01 -3.02603463e-01\n",
            "  5.80723896e-02  1.43251856e+00 -6.30932287e-01  1.44182366e+00\n",
            "  1.42291058e+00  4.88722994e-01  1.71242523e-01 -6.17163594e-01\n",
            "  5.96664842e-01  1.20301095e+00 -1.19686661e+00  1.31748002e+00\n",
            " -7.58907198e-01 -4.12528685e-01 -4.67061390e-01  2.03247147e+00\n",
            "  2.40136178e-01 -1.06727838e+00 -7.56522366e-01  1.35462057e-01\n",
            "  3.37400772e-01  7.73528012e-01 -9.10533560e-01  1.57971136e-01\n",
            " -1.12391331e+00 -1.27525514e+00  6.15009526e-01  3.59074521e-01\n",
            "  1.17419471e-01  1.37784184e-01 -9.06720842e-01  9.71061953e-01\n",
            "  1.02674208e-01 -6.06898073e-01  8.49548246e-01 -8.40250619e-01\n",
            " -6.31204089e-01 -1.33009430e+00  7.47268941e-02  2.57991142e+00\n",
            " -1.16155210e+00 -1.32462782e-01  5.02501192e-01 -1.50859933e+00\n",
            "  8.56411104e-01 -5.03668043e-01 -2.49045450e-01 -5.48537187e-01\n",
            "  1.49381471e-01  1.13588521e-03 -6.67623831e-01 -1.51373668e+00\n",
            " -1.29522970e+00 -4.24139813e-01 -7.77250841e-01  1.12807215e+00\n",
            " -1.15114753e+00 -9.01862697e-01 -4.03022811e-01  7.41006550e-01\n",
            "  7.12457877e-01 -7.83857886e-01 -7.26691928e-01 -2.94192147e+00\n",
            " -1.00011386e+00 -2.21418488e+00  2.40118599e+00  8.02660573e-02\n",
            "  3.99047799e-01  3.61957886e-01  1.15029080e-01 -8.00185612e-01\n",
            " -8.83317617e-01 -1.59715181e-01  8.11734228e-01  3.15802683e-01\n",
            "  3.57755210e-01 -4.07431200e-01  1.76338665e+00 -1.15377665e+00\n",
            "  1.54726330e+00 -5.97261281e-01 -1.19530930e+00  2.82629006e-01\n",
            " -2.17495127e+00  6.39716744e-01 -1.73114873e+00  1.17654855e+00\n",
            " -9.86463925e-01  7.24709902e-01  1.81240093e-01  1.17102003e+00\n",
            "  1.97912054e-01  1.31944818e+00 -8.88949360e-01  3.79174266e-02\n",
            " -7.84136033e-01 -6.39733191e-01 -2.07917846e-01 -2.35355464e+00\n",
            " -1.96489705e+00 -6.46352049e-01  7.01783184e-01 -2.81319175e-02\n",
            "  2.37776193e+00  4.46591335e-01 -2.46204402e+00  5.88562137e-01\n",
            " -1.34317469e+00 -1.00107605e+00 -7.85849211e-01  2.94530825e-01\n",
            " -4.85064374e-01 -1.07406248e+00 -3.01499095e-01  4.43545049e-01\n",
            "  1.13343372e+00  3.80686082e-01  1.72346962e+00 -4.14453407e-01\n",
            "  1.22560076e-01  8.59144897e-01 -4.52510751e-01 -1.17149154e+00\n",
            " -1.24204302e+00  1.34792391e+00 -1.40446635e+00  1.45692123e-01\n",
            "  1.11146455e+00  5.87477951e-01  1.24738825e+00  1.68610023e+00\n",
            " -1.53667901e-01  1.08452354e+00 -1.13356889e+00 -3.53684705e-03\n",
            "  1.17978954e+00  1.95508992e-01 -2.03267571e+00 -6.55120362e-01\n",
            "  1.18501572e+00  7.38332647e-02  2.96904530e-02  1.02612564e+00\n",
            "  4.37594710e-01 -2.57946085e-01  1.39410909e+00 -1.08851852e+00\n",
            "  1.49665267e-01  2.94776934e-01 -5.57975025e-01 -3.34621186e-01\n",
            " -7.50535680e-01 -4.17889121e-01  4.14915161e-01 -6.23648897e-01\n",
            " -1.38844623e-01 -4.84994309e-01  1.44566531e+00  1.56219865e+00\n",
            " -5.55848912e-01  7.52943507e-01  1.07123850e+00 -8.81553568e-02\n",
            "  1.60947009e+00  1.93038314e-02 -1.45710528e-02 -1.47880047e-01\n",
            " -5.67248736e-01 -1.57017213e-01  6.00427687e-01  7.75440540e-01\n",
            " -2.19900835e-01  5.73252350e-01  6.88070030e-01  8.19647419e-01\n",
            " -1.49222302e+00  5.71905142e-01 -1.07989332e+00  2.29181706e+00\n",
            "  9.24945605e-01  2.98482905e-01 -1.76992933e+00  1.14603532e+00\n",
            "  2.25851642e-01 -3.84164868e-01  3.75284306e-01  9.45652324e-02\n",
            "  1.42185215e+00 -8.24822875e-01  8.51507194e-03  2.41009696e-01\n",
            "  1.46112486e+00  2.97649359e-01 -1.48472976e+00 -4.95394560e-01\n",
            "  1.19699443e-01  8.40822126e-01  1.25654267e-01  1.92681284e+00\n",
            "  1.48270984e+00  1.73895137e+00  7.35129785e-01  8.92042133e-01\n",
            "  8.07453313e-01  7.13005994e-01  9.01536477e-01  1.62131395e+00\n",
            "  5.54860828e-01  3.67914539e-01  1.72137147e+00 -6.33361848e-01\n",
            " -3.92758680e-01 -7.37742328e-02  4.32247660e-02 -2.35132647e+00\n",
            "  1.87717396e+00 -2.47618296e+00  6.21369964e-01  1.74437002e+00\n",
            "  3.65573321e-01  5.25100026e-01 -3.17983870e-01 -2.78954239e-02\n",
            " -2.20421138e+00  1.11094720e-01 -3.17948536e-01  1.14397317e+00\n",
            " -1.22554005e-01  1.39705335e+00  1.86874040e-01  5.94322153e-01\n",
            " -1.74852888e+00  6.96167838e-01  7.37698084e-01  1.00922737e+00\n",
            " -1.79318973e-01  2.55506734e-01  6.40574168e-01  5.76759010e-01\n",
            " -1.18445145e+00 -8.89852989e-01 -1.29231024e-02  3.59000011e-01\n",
            "  8.87996039e-01  6.26417373e-01  8.06732760e-01 -3.16501649e-01\n",
            "  3.38344783e-01 -1.09414475e+00  7.93175229e-01 -7.59264560e-01\n",
            " -7.87557007e-02 -2.58850341e-01 -6.85273526e-01  1.51806382e+00\n",
            "  1.06053923e+00 -4.40981571e-02 -4.60199444e-01 -6.58165104e-01\n",
            " -1.49085994e+00  1.68289425e+00 -1.31360234e+00  4.14155928e-01\n",
            "  1.46660707e+00 -1.23622825e+00  1.01379258e+00 -1.58188883e+00\n",
            "  9.57609790e-01 -1.87474497e+00 -1.66247418e+00  1.30523772e+00\n",
            " -1.90516865e-01  5.07969802e-01  1.93334938e+00  1.15070881e+00\n",
            "  3.67605148e-02  1.07111991e+00 -1.81264662e+00  1.25772255e-03\n",
            "  5.14515268e-01  6.28017021e-01 -7.86549407e-02  7.85942733e-01\n",
            "  1.02054686e+00  1.37503872e+00 -6.33085766e-03 -3.24635431e-01\n",
            "  1.72424285e+00 -1.05917121e+00 -2.00301681e+00  3.25713973e-01\n",
            " -2.11090028e+00  9.62887359e-02 -1.55440332e+00 -5.54948354e-01\n",
            "  3.25403865e-01 -2.36311110e-01 -1.91862444e-02  1.04097431e-01\n",
            "  7.26738069e-01  3.51323138e-01 -2.78615230e-01 -3.39164608e-01\n",
            "  1.13161921e+00  1.18614746e+00 -1.39151831e+00  1.84431241e-01\n",
            "  8.58930907e-01  1.16133909e-01 -5.94768323e-01  4.81183034e-01\n",
            "  1.79882358e+00  3.37891261e-02 -5.00207176e-01 -1.23670627e+00\n",
            "  6.76158734e-01  3.46315853e-01  1.90075840e-01 -1.43854436e-01\n",
            " -7.63755099e-01  1.87506515e+00  6.81918024e-01  1.70956683e+00\n",
            "  4.59198680e-01  4.00054888e-01 -1.03776490e+00 -4.14729806e-01\n",
            "  9.61670639e-01  4.44635138e-01 -8.83568968e-01  5.59195855e-01\n",
            "  1.87673011e+00  2.19647819e-01 -8.19320803e-01 -1.45754712e+00\n",
            "  1.08021553e-02  1.00333881e+00 -1.24039748e+00 -2.24143523e-01\n",
            "  4.58008573e-01  1.13273356e+00  2.90940818e-01  1.43006822e+00\n",
            "  2.31257399e-01  1.89914255e-01  8.02037544e-01 -1.08541416e+00\n",
            " -4.21287436e-02  3.08738108e-01 -7.43725757e-01 -4.64555902e-01\n",
            "  1.36477519e+00 -5.68497616e-01  8.02849660e-01 -1.64946769e+00\n",
            " -9.30668402e-01  1.03513854e+00 -4.07047810e-01  6.70343748e-01\n",
            " -9.81904860e-01 -1.29540419e+00 -7.87062977e-01  4.52472375e-01\n",
            "  7.89129570e-01  1.08006625e+00  6.38336227e-01 -2.32970470e-01\n",
            "  1.41704442e-01  1.53127857e+00 -2.17490927e-01 -1.83879709e+00\n",
            " -1.64181995e+00  1.06304205e+00 -1.22317198e+00  3.96861017e-01\n",
            " -5.81095781e-01  9.69988082e-01 -1.42937778e+00 -2.90757990e-01\n",
            "  1.58669911e-01 -1.09329508e+00 -2.09417792e+00  8.78130163e-01\n",
            "  4.62951176e-01 -7.01084320e-02  1.79562147e-01  6.77161598e-01\n",
            " -5.53827264e-01 -6.15491612e-01  1.33738486e-01  6.49193869e-02\n",
            " -7.65951735e-01 -8.83516777e-01 -2.03463652e+00  1.21733528e+00\n",
            " -4.96085010e-01  5.67807294e-01  1.54100891e+00 -9.81075003e-01\n",
            " -4.99514635e-01 -6.62490575e-01 -3.22565780e-01 -1.71740350e+00\n",
            "  8.18746046e-01 -2.56458268e-01  2.04203665e+00  2.20123542e+00\n",
            "  3.30213167e-01 -1.44032930e+00 -3.06011638e-01 -1.76400328e+00\n",
            " -1.35259966e+00  1.19227774e+00  1.92640225e-01 -9.45712802e-01\n",
            " -6.78732144e-01  3.63208498e-01 -1.57175847e+00  7.45422722e-01\n",
            " -5.53011487e-01  4.61260110e-01  2.29013454e+00 -8.84524295e-01\n",
            "  1.74482975e+00 -1.16408766e-01  9.11862572e-01  1.64386231e+00\n",
            " -2.62132760e+00 -9.59006393e-01 -2.59934699e-01  2.33608373e+00\n",
            "  5.06818365e-01 -3.07196652e-01  1.03594120e+00  8.24705349e-01\n",
            "  1.13474066e+00 -1.42083655e-01  3.47691211e-01 -1.95648324e+00\n",
            "  2.00574462e-01 -3.33822764e-01  7.94735164e-01  4.74904662e-01\n",
            " -3.13670235e-01  2.44070472e-01  1.18658760e-02  2.44214763e+00\n",
            " -9.22285298e-02 -1.51654757e-01  3.89739532e-01 -2.28264519e+00\n",
            "  8.78060110e-01  5.64464088e-01 -1.37188223e-01 -1.15563110e+00\n",
            "  7.18398681e-01  5.22994422e-01 -1.10349976e+00 -5.38487200e-01\n",
            " -3.21434991e-01 -6.65662285e-03  3.11553935e-01  1.09022372e+00\n",
            "  2.27286742e-01 -3.33023964e-01 -1.57195530e-01  3.44405362e-01\n",
            " -2.82814839e-01 -1.37277442e+00 -5.05191675e-01  1.04783035e-01\n",
            "  3.76688141e-01  3.83903875e-01 -1.08471297e+00 -3.65755608e-01\n",
            "  1.12332561e+00  9.30228179e-01 -5.19352404e-01  7.25217039e-01\n",
            "  2.38829185e-02 -7.27368964e-01 -3.98673284e-01  7.38519786e-01\n",
            "  4.59525433e-01  4.81592972e-01 -2.09913357e+00  1.41944652e+00\n",
            " -8.42829905e-01 -6.03557882e-01  6.05298434e-01  2.28775712e-01\n",
            " -5.94305568e-01 -6.05078563e-01 -7.65034097e-01  3.87304695e-01\n",
            " -9.15415841e-01 -8.55211921e-01 -7.19226149e-01 -1.42592316e+00\n",
            "  1.07213708e+00  6.74048133e-02 -5.92602867e-01  7.78288869e-01\n",
            "  5.13301285e-01  1.29106999e-01 -4.98691106e-01 -1.94823589e+00\n",
            "  2.54814498e+00  1.58571332e+00 -9.11389808e-01  1.28437018e-01\n",
            "  2.71379529e-01  2.27383916e+00 -1.55105785e-02 -4.61611083e-01\n",
            " -2.04678005e+00  2.43379422e-02  6.42497169e-02 -3.47934550e-01\n",
            "  5.81050710e-01 -3.89671909e-01 -8.99456402e-01 -1.61278880e+00\n",
            " -1.88884641e-01  1.38538463e-01  3.07062956e-01  1.21916348e+00\n",
            " -2.63866422e-01  9.74313190e-01  3.05276837e-01 -9.84757324e-01]\n"
          ]
        }
      ],
      "source": [
        "#generate a normal distribution !-D\n",
        "import numpy as np\n",
        "u=0\n",
        "sigma=1\n",
        "#also known as standard normal distribution\n",
        "\n",
        "vals=np.random.randn(1000)#n stands for normal distribution\n",
        "print(vals.shape)\n",
        "print(vals)"
      ]
    },
    {
      "cell_type": "code",
      "source": [
        "#sigma means spread\n",
        "import matplotlib.pyplot as plt\n",
        "u=5\n",
        "sigma=1\n",
        "vals=u+sigma*vals\n",
        "plt.hist(vals,10)\n",
        "plt.show()"
      ],
      "metadata": {
        "colab": {
          "base_uri": "https://localhost:8080/",
          "height": 265
        },
        "id": "wMtT5iqOEG3Y",
        "outputId": "27d38552-dc55-4c68-880c-eb1ddba54498"
      },
      "execution_count": 12,
      "outputs": [
        {
          "output_type": "display_data",
          "data": {
            "image/png": "[encoded data removed]",
            "text/plain": [
              "<Figure size 432x288 with 1 Axes>"
            ]
          },
          "metadata": {
            "needs_background": "light"
          }
        }
      ]
    },
    {
      "cell_type": "code",
      "source": [
        "vals=np.round(vals)\n",
        "z=np.unique(vals,return_counts=True)"
      ],
      "metadata": {
        "id": "vpOjd5dxEr98"
      },
      "execution_count": 13,
      "outputs": []
    },
    {
      "cell_type": "code",
      "source": [
        "z\n"
      ],
      "metadata": {
        "colab": {
          "base_uri": "https://localhost:8080/"
        },
        "id": "hOmwhzgvFQr5",
        "outputId": "2d27f489-c477-495b-b212-35d1ec90793b"
      },
      "execution_count": 14,
      "outputs": [
        {
          "output_type": "execute_result",
          "data": {
            "text/plain": [
              "(array([2., 3., 4., 5., 6., 7., 8.]),\n",
              " array([  2,  54, 229, 379, 258,  73,   5]))"
            ]
          },
          "metadata": {},
          "execution_count": 14
        }
      ]
    },
    {
      "cell_type": "code",
      "source": [
        "#univarient normal distribution\n",
        "sigma=0.5#spread\n",
        "vals=u+sigma*np.random.randn(100)\n",
        "x=vals\n",
        "y=np.zeros(x.shape)\n",
        "plt.hist(x,10)\n",
        "plt.show()\n",
        "plt.scatter(x,y)"
      ],
      "metadata": {
        "colab": {
          "base_uri": "https://localhost:8080/",
          "height": 530
        },
        "id": "neQ1YQGsFR2w",
        "outputId": "b5339ea4-3340-4175-a478-4afb8432efd8"
      },
      "execution_count": 19,
      "outputs": [
        {
          "output_type": "display_data",
          "data": {
            "image/png": "[encoded data removed]",
            "text/plain": [
              "<Figure size 432x288 with 1 Axes>"
            ]
          },
          "metadata": {
            "needs_background": "light"
          }
        },
        {
          "output_type": "execute_result",
          "data": {
            "text/plain": [
              "<matplotlib.collections.PathCollection at 0x7fe2a9522ed0>"
            ]
          },
          "metadata": {},
          "execution_count": 19
        },
        {
          "output_type": "display_data",
          "data": {
            "image/png": "[encoded data removed]",
            "text/plain": [
              "<Figure size 432x288 with 1 Axes>"
            ]
          },
          "metadata": {
            "needs_background": "light"
          }
        }
      ]
    },
    {
      "cell_type": "code",
      "source": [
        "#multivarient normal distribution\n",
        "'''\n",
        "probability distribution\n",
        "is also same as nd\n",
        "\n",
        "check probabilty normal distibution formula\n",
        "\n",
        "'''"
      ],
      "metadata": {
        "colab": {
          "base_uri": "https://localhost:8080/",
          "height": 53
        },
        "id": "TcPSfseXG0K9",
        "outputId": "bcef8eb8-0890-43b6-ec20-c91bcde06e80"
      },
      "execution_count": 20,
      "outputs": [
        {
          "output_type": "execute_result",
          "data": {
            "application/vnd.google.colaboratory.intrinsic+json": {
              "type": "string"
            },
            "text/plain": [
              "'\\nprobability distribution\\nis also same as nd\\n\\ncheck probabilty normal distibution formula\\n\\n'"
            ]
          },
          "metadata": {},
          "execution_count": 20
        }
      ]
    },
    {
      "cell_type": "code",
      "source": [
        "#Bivariate\n",
        "mean=np.array([0.0,0.0])\n",
        "cov=np.array([[1,0],[0,3]])\n",
        "dist=np.random.multivariate_normal(mean,cov,500)\n",
        "print(dist.shape)\n",
        "plt.scatter(dist[:,0],dist[:,1])\n",
        "\n",
        "mean2=np.array([5.0,6.0])\n",
        "cov2=np.array([[1.3,0.2],[0.2,1.1]])\n",
        "dist1=np.random.multivariate_normal(mean2,cov2,500)\n",
        "plt.scatter(dist1[:,0],dist1[:,1])"
      ],
      "metadata": {
        "colab": {
          "base_uri": "https://localhost:8080/",
          "height": 301
        },
        "id": "Ln3kNnXgLWcQ",
        "outputId": "aa6be343-293a-4c77-d70f-ab904b52df0b"
      },
      "execution_count": 28,
      "outputs": [
        {
          "output_type": "stream",
          "name": "stdout",
          "text": [
            "(500, 2)\n"
          ]
        },
        {
          "output_type": "execute_result",
          "data": {
            "text/plain": [
              "<matplotlib.collections.PathCollection at 0x7fe2a7601ed0>"
            ]
          },
          "metadata": {},
          "execution_count": 28
        },
        {
          "output_type": "display_data",
          "data": {
            "image/png": "[encoded data removed]",
            "text/plain": [
              "<Figure size 432x288 with 1 Axes>"
            ]
          },
          "metadata": {
            "needs_background": "light"
          }
        }
      ]
    },
    {
      "cell_type": "code",
      "source": [
        "#find mean and variance of stream of number\n",
        "#sigma=sqrt(1/n*(sum([(x[i]-u)**2 for i in range(n)])))\n",
        "#expand sigma get answer in O(1)"
      ],
      "metadata": {
        "id": "HqYupK8cNAVY"
      },
      "execution_count": 29,
      "outputs": []
    },
    {
      "cell_type": "code",
      "source": [
        ""
      ],
      "metadata": {
        "id": "tTsI9oYUQOoM"
      },
      "execution_count": null,
      "outputs": []
    }
  ]
}