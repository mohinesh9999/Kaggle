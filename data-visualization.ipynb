{
 "cells": [
  {
   "cell_type": "code",
   "execution_count": 1,
   "id": "7b355c16",
   "metadata": {
    "_cell_guid": "b1076dfc-b9ad-4769-8c92-a6c4dae69d19",
    "_uuid": "8f2839f25d086af736a60e9eeb907d3b93b6e0e5",
    "execution": {
     "iopub.execute_input": "2022-02-16T13:33:25.038391Z",
     "iopub.status.busy": "2022-02-16T13:33:25.036583Z",
     "iopub.status.idle": "2022-02-16T13:33:25.050061Z",
     "shell.execute_reply": "2022-02-16T13:33:25.050600Z"
    },
    "papermill": {
     "duration": 0.02906,
     "end_time": "2022-02-16T13:33:25.050980",
     "exception": false,
     "start_time": "2022-02-16T13:33:25.021920",
     "status": "completed"
    },
    "tags": []
   },
   "outputs": [],
   "source": [
    "# This Python 3 environment comes with many helpful analytics libraries installed\n",
    "# It is defined by the kaggle/python Docker image: https://github.com/kaggle/docker-python\n",
    "# For example, here's several helpful packages to load\n",
    "\n",
    "import numpy as np # linear algebra\n",
    "import pandas as pd # data processing, CSV file I/O (e.g. pd.read_csv)\n",
    "\n",
    "# Input data files are available in the read-only \"../input/\" directory\n",
    "# For example, running this (by clicking run or pressing Shift+Enter) will list all files under the input directory\n",
    "\n",
    "import os\n",
    "for dirname, _, filenames in os.walk('/kaggle/input'):\n",
    "    for filename in filenames:\n",
    "        print(os.path.join(dirname, filename))\n",
    "\n",
    "# You can write up to 20GB to the current directory (/kaggle/working/) that gets preserved as output when you create a version using \"Save & Run All\" \n",
    "# You can also write temporary files to /kaggle/temp/, but they won't be saved outside of the current session"
   ]
  },
  {
   "cell_type": "code",
   "execution_count": 2,
   "id": "67398af2",
   "metadata": {
    "execution": {
     "iopub.execute_input": "2022-02-16T13:33:25.074170Z",
     "iopub.status.busy": "2022-02-16T13:33:25.073477Z",
     "iopub.status.idle": "2022-02-16T13:33:25.075171Z",
     "shell.execute_reply": "2022-02-16T13:33:25.075621Z",
     "shell.execute_reply.started": "2022-02-16T13:22:48.444391Z"
    },
    "papermill": {
     "duration": 0.015596,
     "end_time": "2022-02-16T13:33:25.075808",
     "exception": false,
     "start_time": "2022-02-16T13:33:25.060212",
     "status": "completed"
    },
    "tags": []
   },
   "outputs": [],
   "source": [
    "import matplotlib.pyplot as plt\n",
    "import numpy as np"
   ]
  },
  {
   "cell_type": "code",
   "execution_count": 3,
   "id": "c2e02a42",
   "metadata": {
    "execution": {
     "iopub.execute_input": "2022-02-16T13:33:25.099408Z",
     "iopub.status.busy": "2022-02-16T13:33:25.095429Z",
     "iopub.status.idle": "2022-02-16T13:33:25.104059Z",
     "shell.execute_reply": "2022-02-16T13:33:25.104654Z",
     "shell.execute_reply.started": "2022-02-16T13:24:52.823794Z"
    },
    "papermill": {
     "duration": 0.020493,
     "end_time": "2022-02-16T13:33:25.104852",
     "exception": false,
     "start_time": "2022-02-16T13:33:25.084359",
     "status": "completed"
    },
    "tags": []
   },
   "outputs": [
    {
     "name": "stdout",
     "output_type": "stream",
     "text": [
      "[0 1 2 3 4 5 6 7 8 9]\n",
      "[ 0  1  4  9 16 25 36 49 64 81]\n",
      "[ 3  5  7  9 11 13 15 17 19 21]\n"
     ]
    }
   ],
   "source": [
    "#line plot y=mx+c , y=ax2+bx+c\n",
    "x=np.arange(10)\n",
    "y=x**2\n",
    "y2=2*x+3\n",
    "print(x,y,y2,sep='\\n')\n"
   ]
  },
  {
   "cell_type": "code",
   "execution_count": 4,
   "id": "170058ed",
   "metadata": {
    "execution": {
     "iopub.execute_input": "2022-02-16T13:33:25.127390Z",
     "iopub.status.busy": "2022-02-16T13:33:25.126393Z",
     "iopub.status.idle": "2022-02-16T13:33:25.388500Z",
     "shell.execute_reply": "2022-02-16T13:33:25.387900Z",
     "shell.execute_reply.started": "2022-02-16T13:32:49.881136Z"
    },
    "papermill": {
     "duration": 0.274436,
     "end_time": "2022-02-16T13:33:25.388655",
     "exception": false,
     "start_time": "2022-02-16T13:33:25.114219",
     "status": "completed"
    },
    "tags": []
   },
   "outputs": [
    {
     "data": {
      "image/png": "[encoded data removed]",
      "text/plain": [
       "<Figure size 576x396 with 1 Axes>"
      ]
     },
     "metadata": {},
     "output_type": "display_data"
    }
   ],
   "source": [
    "plt.style.use('seaborn')\n",
    "plt.plot(x,y,color='red',label=\"Apple\",marker='o')\n",
    "#plt.show()#for diff visuals\n",
    "plt.plot(x,y2,color='green',label=\"Kiwi\",linestyle=\"dashed\",marker='*')\n",
    "plt.xlabel('Time')\n",
    "plt.ylabel('Price')\n",
    "plt.title(\"price of fruits over time\")\n",
    "plt.legend()\n",
    "plt.show()"
   ]
  },
  {
   "cell_type": "code",
   "execution_count": 5,
   "id": "4b6703f8",
   "metadata": {
    "execution": {
     "iopub.execute_input": "2022-02-16T13:33:25.413380Z",
     "iopub.status.busy": "2022-02-16T13:33:25.412530Z",
     "iopub.status.idle": "2022-02-16T13:33:25.418920Z",
     "shell.execute_reply": "2022-02-16T13:33:25.418321Z",
     "shell.execute_reply.started": "2022-02-16T13:26:30.525429Z"
    },
    "papermill": {
     "duration": 0.020293,
     "end_time": "2022-02-16T13:33:25.419152",
     "exception": false,
     "start_time": "2022-02-16T13:33:25.398859",
     "status": "completed"
    },
    "tags": []
   },
   "outputs": [
    {
     "data": {
      "text/plain": [
       "['Solarize_Light2',\n",
       " '_classic_test_patch',\n",
       " '_mpl-gallery',\n",
       " '_mpl-gallery-nogrid',\n",
       " 'bmh',\n",
       " 'classic',\n",
       " 'dark_background',\n",
       " 'fast',\n",
       " 'fivethirtyeight',\n",
       " 'ggplot',\n",
       " 'grayscale',\n",
       " 'seaborn',\n",
       " 'seaborn-bright',\n",
       " 'seaborn-colorblind',\n",
       " 'seaborn-dark',\n",
       " 'seaborn-dark-palette',\n",
       " 'seaborn-darkgrid',\n",
       " 'seaborn-deep',\n",
       " 'seaborn-muted',\n",
       " 'seaborn-notebook',\n",
       " 'seaborn-paper',\n",
       " 'seaborn-pastel',\n",
       " 'seaborn-poster',\n",
       " 'seaborn-talk',\n",
       " 'seaborn-ticks',\n",
       " 'seaborn-white',\n",
       " 'seaborn-whitegrid',\n",
       " 'tableau-colorblind10']"
      ]
     },
     "execution_count": 5,
     "metadata": {},
     "output_type": "execute_result"
    }
   ],
   "source": [
    "plt.style.available"
   ]
  },
  {
   "cell_type": "code",
   "execution_count": 6,
   "id": "ddd4c080",
   "metadata": {
    "execution": {
     "iopub.execute_input": "2022-02-16T13:33:25.603386Z",
     "iopub.status.busy": "2022-02-16T13:33:25.602637Z",
     "iopub.status.idle": "2022-02-16T13:33:25.655692Z",
     "shell.execute_reply": "2022-02-16T13:33:25.656371Z",
     "shell.execute_reply.started": "2022-02-16T13:31:27.686819Z"
    },
    "papermill": {
     "duration": 0.226792,
     "end_time": "2022-02-16T13:33:25.656583",
     "exception": false,
     "start_time": "2022-02-16T13:33:25.429791",
     "status": "completed"
    },
    "tags": []
   },
   "outputs": [],
   "source": [
    "plt.plot?"
   ]
  },
  {
   "cell_type": "code",
   "execution_count": null,
   "id": "c40f883f",
   "metadata": {
    "papermill": {
     "duration": 0.010289,
     "end_time": "2022-02-16T13:33:25.677803",
     "exception": false,
     "start_time": "2022-02-16T13:33:25.667514",
     "status": "completed"
    },
    "tags": []
   },
   "outputs": [],
   "source": []
  }
 ],
 "metadata": {
  "kernelspec": {
   "display_name": "Python 3",
   "language": "python",
   "name": "python3"
  },
  "language_info": {
   "codemirror_mode": {
    "name": "ipython",
    "version": 3
   },
   "file_extension": ".py",
   "mimetype": "text/x-python",
   "name": "python",
   "nbconvert_exporter": "python",
   "pygments_lexer": "ipython3",
   "version": "3.7.12"
  },
  "papermill": {
   "default_parameters": {},
   "duration": 11.380366,
   "end_time": "2022-02-16T13:33:26.600666",
   "environment_variables": {},
   "exception": null,
   "input_path": "__notebook__.ipynb",
   "output_path": "__notebook__.ipynb",
   "parameters": {},
   "start_time": "2022-02-16T13:33:15.220300",
   "version": "2.3.3"
  }
 },
 "nbformat": 4,
 "nbformat_minor": 5
}
