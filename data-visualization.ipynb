{
 "cells": [
  {
   "cell_type": "code",
   "execution_count": 1,
   "id": "f1f4e656",
   "metadata": {
    "_cell_guid": "b1076dfc-b9ad-4769-8c92-a6c4dae69d19",
    "_uuid": "8f2839f25d086af736a60e9eeb907d3b93b6e0e5",
    "execution": {
     "iopub.execute_input": "2022-02-16T14:01:42.294533Z",
     "iopub.status.busy": "2022-02-16T14:01:42.292731Z",
     "iopub.status.idle": "2022-02-16T14:01:42.304699Z",
     "shell.execute_reply": "2022-02-16T14:01:42.305281Z"
    },
    "papermill": {
     "duration": 0.033256,
     "end_time": "2022-02-16T14:01:42.305568",
     "exception": false,
     "start_time": "2022-02-16T14:01:42.272312",
     "status": "completed"
    },
    "tags": []
   },
   "outputs": [],
   "source": [
    "# This Python 3 environment comes with many helpful analytics libraries installed\n",
    "# It is defined by the kaggle/python Docker image: https://github.com/kaggle/docker-python\n",
    "# For example, here's several helpful packages to load\n",
    "\n",
    "import numpy as np # linear algebra\n",
    "import pandas as pd # data processing, CSV file I/O (e.g. pd.read_csv)\n",
    "\n",
    "# Input data files are available in the read-only \"../input/\" directory\n",
    "# For example, running this (by clicking run or pressing Shift+Enter) will list all files under the input directory\n",
    "\n",
    "import os\n",
    "for dirname, _, filenames in os.walk('/kaggle/input'):\n",
    "    for filename in filenames:\n",
    "        print(os.path.join(dirname, filename))\n",
    "\n",
    "# You can write up to 20GB to the current directory (/kaggle/working/) that gets preserved as output when you create a version using \"Save & Run All\" \n",
    "# You can also write temporary files to /kaggle/temp/, but they won't be saved outside of the current session"
   ]
  },
  {
   "cell_type": "code",
   "execution_count": 2,
   "id": "5a269bd7",
   "metadata": {
    "execution": {
     "iopub.execute_input": "2022-02-16T14:01:42.342106Z",
     "iopub.status.busy": "2022-02-16T14:01:42.341115Z",
     "iopub.status.idle": "2022-02-16T14:01:42.344515Z",
     "shell.execute_reply": "2022-02-16T14:01:42.344960Z",
     "shell.execute_reply.started": "2022-02-16T13:22:48.444391Z"
    },
    "papermill": {
     "duration": 0.021751,
     "end_time": "2022-02-16T14:01:42.345121",
     "exception": false,
     "start_time": "2022-02-16T14:01:42.323370",
     "status": "completed"
    },
    "tags": []
   },
   "outputs": [],
   "source": [
    "import matplotlib.pyplot as plt\n",
    "import numpy as np"
   ]
  },
  {
   "cell_type": "code",
   "execution_count": 3,
   "id": "9db81f6d",
   "metadata": {
    "execution": {
     "iopub.execute_input": "2022-02-16T14:01:42.378468Z",
     "iopub.status.busy": "2022-02-16T14:01:42.377508Z",
     "iopub.status.idle": "2022-02-16T14:01:42.384538Z",
     "shell.execute_reply": "2022-02-16T14:01:42.385002Z",
     "shell.execute_reply.started": "2022-02-16T13:24:52.823794Z"
    },
    "papermill": {
     "duration": 0.025246,
     "end_time": "2022-02-16T14:01:42.385171",
     "exception": false,
     "start_time": "2022-02-16T14:01:42.359925",
     "status": "completed"
    },
    "tags": []
   },
   "outputs": [
    {
     "name": "stdout",
     "output_type": "stream",
     "text": [
      "[0 1 2 3 4 5 6 7 8 9]\n",
      "[ 0  1  4  9 16 25 36 49 64 81]\n",
      "[ 3  5  7  9 11 13 15 17 19 21]\n"
     ]
    }
   ],
   "source": [
    "#line plot y=mx+c , y=ax2+bx+c\n",
    "x=np.arange(10)\n",
    "y=x**2\n",
    "y2=2*x+3\n",
    "print(x,y,y2,sep='\\n')\n"
   ]
  },
  {
   "cell_type": "code",
   "execution_count": 4,
   "id": "2e9a9522",
   "metadata": {
    "execution": {
     "iopub.execute_input": "2022-02-16T14:01:42.427390Z",
     "iopub.status.busy": "2022-02-16T14:01:42.426671Z",
     "iopub.status.idle": "2022-02-16T14:01:42.675184Z",
     "shell.execute_reply": "2022-02-16T14:01:42.674645Z",
     "shell.execute_reply.started": "2022-02-16T13:32:49.881136Z"
    },
    "papermill": {
     "duration": 0.274503,
     "end_time": "2022-02-16T14:01:42.675335",
     "exception": false,
     "start_time": "2022-02-16T14:01:42.400832",
     "status": "completed"
    },
    "tags": []
   },
   "outputs": [
    {
     "data": {
      "image/png": "[encoded data removed]",
      "text/plain": [
       "<Figure size 576x396 with 1 Axes>"
      ]
     },
     "metadata": {},
     "output_type": "display_data"
    }
   ],
   "source": [
    "plt.style.use('seaborn')\n",
    "plt.plot(x,y,color='red',label=\"Apple\",marker='o')\n",
    "#plt.show()#for diff visuals\n",
    "plt.plot(x,y2,color='green',label=\"Kiwi\",linestyle=\"dashed\",marker='*')\n",
    "plt.xlabel('Time')\n",
    "plt.ylabel('Price')\n",
    "plt.title(\"price of fruits over time\")\n",
    "plt.legend()\n",
    "plt.show()"
   ]
  },
  {
   "cell_type": "code",
   "execution_count": 5,
   "id": "810af2df",
   "metadata": {
    "execution": {
     "iopub.execute_input": "2022-02-16T14:01:42.712067Z",
     "iopub.status.busy": "2022-02-16T14:01:42.711430Z",
     "iopub.status.idle": "2022-02-16T14:01:42.716642Z",
     "shell.execute_reply": "2022-02-16T14:01:42.717222Z",
     "shell.execute_reply.started": "2022-02-16T13:26:30.525429Z"
    },
    "papermill": {
     "duration": 0.025239,
     "end_time": "2022-02-16T14:01:42.717394",
     "exception": false,
     "start_time": "2022-02-16T14:01:42.692155",
     "status": "completed"
    },
    "tags": []
   },
   "outputs": [
    {
     "data": {
      "text/plain": [
       "['Solarize_Light2',\n",
       " '_classic_test_patch',\n",
       " '_mpl-gallery',\n",
       " '_mpl-gallery-nogrid',\n",
       " 'bmh',\n",
       " 'classic',\n",
       " 'dark_background',\n",
       " 'fast',\n",
       " 'fivethirtyeight',\n",
       " 'ggplot',\n",
       " 'grayscale',\n",
       " 'seaborn',\n",
       " 'seaborn-bright',\n",
       " 'seaborn-colorblind',\n",
       " 'seaborn-dark',\n",
       " 'seaborn-dark-palette',\n",
       " 'seaborn-darkgrid',\n",
       " 'seaborn-deep',\n",
       " 'seaborn-muted',\n",
       " 'seaborn-notebook',\n",
       " 'seaborn-paper',\n",
       " 'seaborn-pastel',\n",
       " 'seaborn-poster',\n",
       " 'seaborn-talk',\n",
       " 'seaborn-ticks',\n",
       " 'seaborn-white',\n",
       " 'seaborn-whitegrid',\n",
       " 'tableau-colorblind10']"
      ]
     },
     "execution_count": 5,
     "metadata": {},
     "output_type": "execute_result"
    }
   ],
   "source": [
    "plt.style.available"
   ]
  },
  {
   "cell_type": "code",
   "execution_count": 6,
   "id": "b79eb7d2",
   "metadata": {
    "execution": {
     "iopub.execute_input": "2022-02-16T14:01:42.754688Z",
     "iopub.status.busy": "2022-02-16T14:01:42.754076Z",
     "iopub.status.idle": "2022-02-16T14:01:42.915829Z",
     "shell.execute_reply": "2022-02-16T14:01:42.915116Z",
     "shell.execute_reply.started": "2022-02-16T13:31:27.686819Z"
    },
    "papermill": {
     "duration": 0.181467,
     "end_time": "2022-02-16T14:01:42.915984",
     "exception": false,
     "start_time": "2022-02-16T14:01:42.734517",
     "status": "completed"
    },
    "tags": []
   },
   "outputs": [],
   "source": [
    "plt.plot?"
   ]
  },
  {
   "cell_type": "code",
   "execution_count": 7,
   "id": "62cfbd3e",
   "metadata": {
    "execution": {
     "iopub.execute_input": "2022-02-16T14:01:42.956231Z",
     "iopub.status.busy": "2022-02-16T14:01:42.955592Z",
     "iopub.status.idle": "2022-02-16T14:01:42.958976Z",
     "shell.execute_reply": "2022-02-16T14:01:42.959443Z",
     "shell.execute_reply.started": "2022-02-16T13:34:46.814960Z"
    },
    "papermill": {
     "duration": 0.025633,
     "end_time": "2022-02-16T14:01:42.959614",
     "exception": false,
     "start_time": "2022-02-16T14:01:42.933981",
     "status": "completed"
    },
    "tags": []
   },
   "outputs": [
    {
     "name": "stdout",
     "output_type": "stream",
     "text": [
      "[ 1  4  9 16]\n"
     ]
    }
   ],
   "source": [
    "prices=np.array([1,2,3,4])**2\n",
    "print(prices)"
   ]
  },
  {
   "cell_type": "code",
   "execution_count": 8,
   "id": "06ae0072",
   "metadata": {
    "execution": {
     "iopub.execute_input": "2022-02-16T14:01:42.998876Z",
     "iopub.status.busy": "2022-02-16T14:01:42.997917Z",
     "iopub.status.idle": "2022-02-16T14:01:43.205414Z",
     "shell.execute_reply": "2022-02-16T14:01:43.206187Z",
     "shell.execute_reply.started": "2022-02-16T13:34:55.415478Z"
    },
    "papermill": {
     "duration": 0.229033,
     "end_time": "2022-02-16T14:01:43.206364",
     "exception": false,
     "start_time": "2022-02-16T14:01:42.977331",
     "status": "completed"
    },
    "tags": []
   },
   "outputs": [
    {
     "data": {
      "text/plain": [
       "[<matplotlib.lines.Line2D at 0x7fe838d5a0d0>]"
      ]
     },
     "execution_count": 8,
     "metadata": {},
     "output_type": "execute_result"
    },
    {
     "data": {
      "image/png": "[encoded data removed]",
      "text/plain": [
       "<Figure size 576x396 with 1 Axes>"
      ]
     },
     "metadata": {},
     "output_type": "display_data"
    }
   ],
   "source": [
    "plt.plot(prices)"
   ]
  },
  {
   "cell_type": "code",
   "execution_count": 9,
   "id": "c69c402e",
   "metadata": {
    "execution": {
     "iopub.execute_input": "2022-02-16T14:01:43.251834Z",
     "iopub.status.busy": "2022-02-16T14:01:43.247620Z",
     "iopub.status.idle": "2022-02-16T14:01:43.426537Z",
     "shell.execute_reply": "2022-02-16T14:01:43.427226Z",
     "shell.execute_reply.started": "2022-02-16T13:39:27.693550Z"
    },
    "papermill": {
     "duration": 0.201654,
     "end_time": "2022-02-16T14:01:43.427401",
     "exception": false,
     "start_time": "2022-02-16T14:01:43.225747",
     "status": "completed"
    },
    "tags": []
   },
   "outputs": [
    {
     "data": {
      "image/png": "[encoded data removed]",
      "text/plain": [
       "<Figure size 144x144 with 1 Axes>"
      ]
     },
     "metadata": {},
     "output_type": "display_data"
    }
   ],
   "source": [
    "#scatter plots\n",
    "#adjust size of plot\n",
    "plt.figure(figsize=(2,2))\n",
    "plt.style.use('seaborn')\n",
    "plt.scatter(x,y,color='red',label=\"Apple\",marker='^')\n",
    "#plt.show()#for diff visuals\n",
    "plt.scatter(x,y2,color='green',label=\"Kiwi\",linestyle=\"dashed\",marker='*')\n",
    "plt.xlabel('Time')\n",
    "plt.ylabel('Price')\n",
    "plt.title(\"price of fruits over time\")\n",
    "plt.legend()\n",
    "plt.show()"
   ]
  },
  {
   "cell_type": "code",
   "execution_count": 10,
   "id": "60bacc9a",
   "metadata": {
    "execution": {
     "iopub.execute_input": "2022-02-16T14:01:43.470525Z",
     "iopub.status.busy": "2022-02-16T14:01:43.469561Z",
     "iopub.status.idle": "2022-02-16T14:01:43.675580Z",
     "shell.execute_reply": "2022-02-16T14:01:43.675067Z",
     "shell.execute_reply.started": "2022-02-16T13:52:31.589521Z"
    },
    "papermill": {
     "duration": 0.22854,
     "end_time": "2022-02-16T14:01:43.675719",
     "exception": false,
     "start_time": "2022-02-16T14:01:43.447179",
     "status": "completed"
    },
    "tags": []
   },
   "outputs": [
    {
     "data": {
      "image/png": "[encoded data removed]",
      "text/plain": [
       "<Figure size 576x396 with 1 Axes>"
      ]
     },
     "metadata": {},
     "output_type": "display_data"
    }
   ],
   "source": [
    "#Bar graph\n",
    "plt.style.use(\"dark_background\")\n",
    "xcoord=np.array([0,1,2])*2\n",
    "plt.bar(xcoord,[10,20,30],width=0.5,label=\"Curr year\",tick_label=['gold','silver','platinum'])#curr year\n",
    "plt.bar(xcoord+0.5,[20,10,12],width=0.5,label=\"next year\",color='red')#next year\n",
    "plt.legend()\n",
    "plt.title(\"metal price comparision\")\n",
    "plt.xlabel(\"metal\")\n",
    "plt.ylim(0,40)\n",
    "plt.xlim(-2,5)\n",
    "plt.ylabel(\"price\")\n",
    "plt.show()"
   ]
  },
  {
   "cell_type": "code",
   "execution_count": 11,
   "id": "909dc121",
   "metadata": {
    "execution": {
     "iopub.execute_input": "2022-02-16T14:01:43.723675Z",
     "iopub.status.busy": "2022-02-16T14:01:43.723002Z",
     "iopub.status.idle": "2022-02-16T14:01:43.725571Z",
     "shell.execute_reply": "2022-02-16T14:01:43.726111Z",
     "shell.execute_reply.started": "2022-02-16T13:52:58.018941Z"
    },
    "papermill": {
     "duration": 0.028794,
     "end_time": "2022-02-16T14:01:43.726280",
     "exception": false,
     "start_time": "2022-02-16T14:01:43.697486",
     "status": "completed"
    },
    "tags": []
   },
   "outputs": [
    {
     "data": {
      "text/plain": [
       "<function matplotlib.pyplot.pie(x, explode=None, labels=None, colors=None, autopct=None, pctdistance=0.6, shadow=False, labeldistance=1.1, startangle=0, radius=1, counterclock=True, wedgeprops=None, textprops=None, center=(0, 0), frame=False, rotatelabels=False, *, normalize=True, data=None)>"
      ]
     },
     "execution_count": 11,
     "metadata": {},
     "output_type": "execute_result"
    }
   ],
   "source": [
    "#pie chart\n",
    "plt.pie"
   ]
  },
  {
   "cell_type": "code",
   "execution_count": 12,
   "id": "cbae26aa",
   "metadata": {
    "execution": {
     "iopub.execute_input": "2022-02-16T14:01:43.771447Z",
     "iopub.status.busy": "2022-02-16T14:01:43.770762Z",
     "iopub.status.idle": "2022-02-16T14:01:43.918235Z",
     "shell.execute_reply": "2022-02-16T14:01:43.919088Z",
     "shell.execute_reply.started": "2022-02-16T14:00:56.498786Z"
    },
    "papermill": {
     "duration": 0.171886,
     "end_time": "2022-02-16T14:01:43.919376",
     "exception": false,
     "start_time": "2022-02-16T14:01:43.747490",
     "status": "completed"
    },
    "tags": []
   },
   "outputs": [
    {
     "data": {
      "image/png": "[encoded data removed]",
      "text/plain": [
       "<Figure size 576x396 with 1 Axes>"
      ]
     },
     "metadata": {},
     "output_type": "display_data"
    }
   ],
   "source": [
    "subjects=[\"maths\",\"chem\",\"phy\",\"eng\"]\n",
    "plt.style.use(\"seaborn\")\n",
    "weightage=[20,10,15,5]\n",
    "plt.pie(weightage,labels=subjects,explode=(0,0,0.1,0),autopct=\"%1.1f%%\"\n",
    "       ,shadow=True)\n",
    "plt.title(\"subject\")\n",
    "plt.show()"
   ]
  },
  {
   "cell_type": "code",
   "execution_count": 13,
   "id": "5b85c241",
   "metadata": {
    "execution": {
     "iopub.execute_input": "2022-02-16T14:01:43.999750Z",
     "iopub.status.busy": "2022-02-16T14:01:43.999113Z",
     "iopub.status.idle": "2022-02-16T14:01:44.009116Z",
     "shell.execute_reply": "2022-02-16T14:01:44.009747Z",
     "shell.execute_reply.started": "2022-02-16T13:57:36.279063Z"
    },
    "papermill": {
     "duration": 0.048351,
     "end_time": "2022-02-16T14:01:44.009943",
     "exception": false,
     "start_time": "2022-02-16T14:01:43.961592",
     "status": "completed"
    },
    "tags": []
   },
   "outputs": [],
   "source": [
    "plt.pie?"
   ]
  },
  {
   "cell_type": "code",
   "execution_count": null,
   "id": "e1f2240a",
   "metadata": {
    "papermill": {
     "duration": 0.02347,
     "end_time": "2022-02-16T14:01:44.055760",
     "exception": false,
     "start_time": "2022-02-16T14:01:44.032290",
     "status": "completed"
    },
    "tags": []
   },
   "outputs": [],
   "source": []
  }
 ],
 "metadata": {
  "kernelspec": {
   "display_name": "Python 3",
   "language": "python",
   "name": "python3"
  },
  "language_info": {
   "codemirror_mode": {
    "name": "ipython",
    "version": 3
   },
   "file_extension": ".py",
   "mimetype": "text/x-python",
   "name": "python",
   "nbconvert_exporter": "python",
   "pygments_lexer": "ipython3",
   "version": "3.7.12"
  },
  "papermill": {
   "default_parameters": {},
   "duration": 12.064525,
   "end_time": "2022-02-16T14:01:44.686824",
   "environment_variables": {},
   "exception": null,
   "input_path": "__notebook__.ipynb",
   "output_path": "__notebook__.ipynb",
   "parameters": {},
   "start_time": "2022-02-16T14:01:32.622299",
   "version": "2.3.3"
  }
 },
 "nbformat": 4,
 "nbformat_minor": 5
}
