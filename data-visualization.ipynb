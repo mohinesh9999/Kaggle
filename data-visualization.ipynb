{
 "cells": [
  {
   "cell_type": "code",
   "execution_count": 1,
   "id": "55bed97b",
   "metadata": {
    "_cell_guid": "b1076dfc-b9ad-4769-8c92-a6c4dae69d19",
    "_uuid": "8f2839f25d086af736a60e9eeb907d3b93b6e0e5",
    "execution": {
     "iopub.execute_input": "2022-02-16T13:40:44.629014Z",
     "iopub.status.busy": "2022-02-16T13:40:44.627983Z",
     "iopub.status.idle": "2022-02-16T13:40:44.634663Z",
     "shell.execute_reply": "2022-02-16T13:40:44.635197Z"
    },
    "papermill": {
     "duration": 0.029183,
     "end_time": "2022-02-16T13:40:44.635539",
     "exception": false,
     "start_time": "2022-02-16T13:40:44.606356",
     "status": "completed"
    },
    "tags": []
   },
   "outputs": [],
   "source": [
    "# This Python 3 environment comes with many helpful analytics libraries installed\n",
    "# It is defined by the kaggle/python Docker image: https://github.com/kaggle/docker-python\n",
    "# For example, here's several helpful packages to load\n",
    "\n",
    "import numpy as np # linear algebra\n",
    "import pandas as pd # data processing, CSV file I/O (e.g. pd.read_csv)\n",
    "\n",
    "# Input data files are available in the read-only \"../input/\" directory\n",
    "# For example, running this (by clicking run or pressing Shift+Enter) will list all files under the input directory\n",
    "\n",
    "import os\n",
    "for dirname, _, filenames in os.walk('/kaggle/input'):\n",
    "    for filename in filenames:\n",
    "        print(os.path.join(dirname, filename))\n",
    "\n",
    "# You can write up to 20GB to the current directory (/kaggle/working/) that gets preserved as output when you create a version using \"Save & Run All\" \n",
    "# You can also write temporary files to /kaggle/temp/, but they won't be saved outside of the current session"
   ]
  },
  {
   "cell_type": "code",
   "execution_count": 2,
   "id": "a6c49fbb",
   "metadata": {
    "execution": {
     "iopub.execute_input": "2022-02-16T13:40:44.663989Z",
     "iopub.status.busy": "2022-02-16T13:40:44.663309Z",
     "iopub.status.idle": "2022-02-16T13:40:44.665255Z",
     "shell.execute_reply": "2022-02-16T13:40:44.664744Z",
     "shell.execute_reply.started": "2022-02-16T13:22:48.444391Z"
    },
    "papermill": {
     "duration": 0.017784,
     "end_time": "2022-02-16T13:40:44.665403",
     "exception": false,
     "start_time": "2022-02-16T13:40:44.647619",
     "status": "completed"
    },
    "tags": []
   },
   "outputs": [],
   "source": [
    "import matplotlib.pyplot as plt\n",
    "import numpy as np"
   ]
  },
  {
   "cell_type": "code",
   "execution_count": 3,
   "id": "78aaa2b9",
   "metadata": {
    "execution": {
     "iopub.execute_input": "2022-02-16T13:40:44.695884Z",
     "iopub.status.busy": "2022-02-16T13:40:44.695066Z",
     "iopub.status.idle": "2022-02-16T13:40:44.699818Z",
     "shell.execute_reply": "2022-02-16T13:40:44.700291Z",
     "shell.execute_reply.started": "2022-02-16T13:24:52.823794Z"
    },
    "papermill": {
     "duration": 0.023322,
     "end_time": "2022-02-16T13:40:44.700483",
     "exception": false,
     "start_time": "2022-02-16T13:40:44.677161",
     "status": "completed"
    },
    "tags": []
   },
   "outputs": [
    {
     "name": "stdout",
     "output_type": "stream",
     "text": [
      "[0 1 2 3 4 5 6 7 8 9]\n",
      "[ 0  1  4  9 16 25 36 49 64 81]\n",
      "[ 3  5  7  9 11 13 15 17 19 21]\n"
     ]
    }
   ],
   "source": [
    "#line plot y=mx+c , y=ax2+bx+c\n",
    "x=np.arange(10)\n",
    "y=x**2\n",
    "y2=2*x+3\n",
    "print(x,y,y2,sep='\\n')\n"
   ]
  },
  {
   "cell_type": "code",
   "execution_count": 4,
   "id": "fb522bed",
   "metadata": {
    "execution": {
     "iopub.execute_input": "2022-02-16T13:40:44.732457Z",
     "iopub.status.busy": "2022-02-16T13:40:44.731755Z",
     "iopub.status.idle": "2022-02-16T13:40:44.986955Z",
     "shell.execute_reply": "2022-02-16T13:40:44.987455Z",
     "shell.execute_reply.started": "2022-02-16T13:32:49.881136Z"
    },
    "papermill": {
     "duration": 0.274762,
     "end_time": "2022-02-16T13:40:44.987665",
     "exception": false,
     "start_time": "2022-02-16T13:40:44.712903",
     "status": "completed"
    },
    "tags": []
   },
   "outputs": [
    {
     "data": {
      "image/png": "[encoded data removed]",
      "text/plain": [
       "<Figure size 576x396 with 1 Axes>"
      ]
     },
     "metadata": {},
     "output_type": "display_data"
    }
   ],
   "source": [
    "plt.style.use('seaborn')\n",
    "plt.plot(x,y,color='red',label=\"Apple\",marker='o')\n",
    "#plt.show()#for diff visuals\n",
    "plt.plot(x,y2,color='green',label=\"Kiwi\",linestyle=\"dashed\",marker='*')\n",
    "plt.xlabel('Time')\n",
    "plt.ylabel('Price')\n",
    "plt.title(\"price of fruits over time\")\n",
    "plt.legend()\n",
    "plt.show()"
   ]
  },
  {
   "cell_type": "code",
   "execution_count": 5,
   "id": "8fd53cc5",
   "metadata": {
    "execution": {
     "iopub.execute_input": "2022-02-16T13:40:45.021545Z",
     "iopub.status.busy": "2022-02-16T13:40:45.020845Z",
     "iopub.status.idle": "2022-02-16T13:40:45.024513Z",
     "shell.execute_reply": "2022-02-16T13:40:45.024004Z",
     "shell.execute_reply.started": "2022-02-16T13:26:30.525429Z"
    },
    "papermill": {
     "duration": 0.02322,
     "end_time": "2022-02-16T13:40:45.024684",
     "exception": false,
     "start_time": "2022-02-16T13:40:45.001464",
     "status": "completed"
    },
    "tags": []
   },
   "outputs": [
    {
     "data": {
      "text/plain": [
       "['Solarize_Light2',\n",
       " '_classic_test_patch',\n",
       " '_mpl-gallery',\n",
       " '_mpl-gallery-nogrid',\n",
       " 'bmh',\n",
       " 'classic',\n",
       " 'dark_background',\n",
       " 'fast',\n",
       " 'fivethirtyeight',\n",
       " 'ggplot',\n",
       " 'grayscale',\n",
       " 'seaborn',\n",
       " 'seaborn-bright',\n",
       " 'seaborn-colorblind',\n",
       " 'seaborn-dark',\n",
       " 'seaborn-dark-palette',\n",
       " 'seaborn-darkgrid',\n",
       " 'seaborn-deep',\n",
       " 'seaborn-muted',\n",
       " 'seaborn-notebook',\n",
       " 'seaborn-paper',\n",
       " 'seaborn-pastel',\n",
       " 'seaborn-poster',\n",
       " 'seaborn-talk',\n",
       " 'seaborn-ticks',\n",
       " 'seaborn-white',\n",
       " 'seaborn-whitegrid',\n",
       " 'tableau-colorblind10']"
      ]
     },
     "execution_count": 5,
     "metadata": {},
     "output_type": "execute_result"
    }
   ],
   "source": [
    "plt.style.available"
   ]
  },
  {
   "cell_type": "code",
   "execution_count": 6,
   "id": "5de00294",
   "metadata": {
    "execution": {
     "iopub.execute_input": "2022-02-16T13:40:45.270243Z",
     "iopub.status.busy": "2022-02-16T13:40:45.265179Z",
     "iopub.status.idle": "2022-02-16T13:40:45.317226Z",
     "shell.execute_reply": "2022-02-16T13:40:45.318070Z",
     "shell.execute_reply.started": "2022-02-16T13:31:27.686819Z"
    },
    "papermill": {
     "duration": 0.279868,
     "end_time": "2022-02-16T13:40:45.318326",
     "exception": false,
     "start_time": "2022-02-16T13:40:45.038458",
     "status": "completed"
    },
    "tags": []
   },
   "outputs": [],
   "source": [
    "plt.plot?"
   ]
  },
  {
   "cell_type": "code",
   "execution_count": 7,
   "id": "2373104d",
   "metadata": {
    "execution": {
     "iopub.execute_input": "2022-02-16T13:40:45.358298Z",
     "iopub.status.busy": "2022-02-16T13:40:45.357271Z",
     "iopub.status.idle": "2022-02-16T13:40:45.361991Z",
     "shell.execute_reply": "2022-02-16T13:40:45.362626Z",
     "shell.execute_reply.started": "2022-02-16T13:34:46.814960Z"
    },
    "papermill": {
     "duration": 0.027898,
     "end_time": "2022-02-16T13:40:45.362837",
     "exception": false,
     "start_time": "2022-02-16T13:40:45.334939",
     "status": "completed"
    },
    "tags": []
   },
   "outputs": [
    {
     "name": "stdout",
     "output_type": "stream",
     "text": [
      "[ 1  4  9 16]\n"
     ]
    }
   ],
   "source": [
    "prices=np.array([1,2,3,4])**2\n",
    "print(prices)"
   ]
  },
  {
   "cell_type": "code",
   "execution_count": 8,
   "id": "42935461",
   "metadata": {
    "execution": {
     "iopub.execute_input": "2022-02-16T13:40:45.403464Z",
     "iopub.status.busy": "2022-02-16T13:40:45.402507Z",
     "iopub.status.idle": "2022-02-16T13:40:45.616352Z",
     "shell.execute_reply": "2022-02-16T13:40:45.616895Z",
     "shell.execute_reply.started": "2022-02-16T13:34:55.415478Z"
    },
    "papermill": {
     "duration": 0.238927,
     "end_time": "2022-02-16T13:40:45.617095",
     "exception": false,
     "start_time": "2022-02-16T13:40:45.378168",
     "status": "completed"
    },
    "tags": []
   },
   "outputs": [
    {
     "data": {
      "text/plain": [
       "[<matplotlib.lines.Line2D at 0x7ff944c5db10>]"
      ]
     },
     "execution_count": 8,
     "metadata": {},
     "output_type": "execute_result"
    },
    {
     "data": {
      "image/png": "[encoded data removed]",
      "text/plain": [
       "<Figure size 576x396 with 1 Axes>"
      ]
     },
     "metadata": {},
     "output_type": "display_data"
    }
   ],
   "source": [
    "plt.plot(prices)"
   ]
  },
  {
   "cell_type": "code",
   "execution_count": 9,
   "id": "7c676a68",
   "metadata": {
    "execution": {
     "iopub.execute_input": "2022-02-16T13:40:45.651541Z",
     "iopub.status.busy": "2022-02-16T13:40:45.650597Z",
     "iopub.status.idle": "2022-02-16T13:40:45.826589Z",
     "shell.execute_reply": "2022-02-16T13:40:45.826066Z",
     "shell.execute_reply.started": "2022-02-16T13:39:27.693550Z"
    },
    "papermill": {
     "duration": 0.194495,
     "end_time": "2022-02-16T13:40:45.826733",
     "exception": false,
     "start_time": "2022-02-16T13:40:45.632238",
     "status": "completed"
    },
    "tags": []
   },
   "outputs": [
    {
     "data": {
      "image/png": "[encoded data removed]",
      "text/plain": [
       "<Figure size 144x144 with 1 Axes>"
      ]
     },
     "metadata": {},
     "output_type": "display_data"
    }
   ],
   "source": [
    "#scatter plots\n",
    "#adjust size of plot\n",
    "plt.figure(figsize=(2,2))\n",
    "plt.style.use('seaborn')\n",
    "plt.scatter(x,y,color='red',label=\"Apple\",marker='^')\n",
    "#plt.show()#for diff visuals\n",
    "plt.scatter(x,y2,color='green',label=\"Kiwi\",linestyle=\"dashed\",marker='*')\n",
    "plt.xlabel('Time')\n",
    "plt.ylabel('Price')\n",
    "plt.title(\"price of fruits over time\")\n",
    "plt.legend()\n",
    "plt.show()"
   ]
  },
  {
   "cell_type": "code",
   "execution_count": null,
   "id": "159e5e2e",
   "metadata": {
    "papermill": {
     "duration": 0.015628,
     "end_time": "2022-02-16T13:40:45.858357",
     "exception": false,
     "start_time": "2022-02-16T13:40:45.842729",
     "status": "completed"
    },
    "tags": []
   },
   "outputs": [],
   "source": []
  }
 ],
 "metadata": {
  "kernelspec": {
   "display_name": "Python 3",
   "language": "python",
   "name": "python3"
  },
  "language_info": {
   "codemirror_mode": {
    "name": "ipython",
    "version": 3
   },
   "file_extension": ".py",
   "mimetype": "text/x-python",
   "name": "python",
   "nbconvert_exporter": "python",
   "pygments_lexer": "ipython3",
   "version": "3.7.12"
  },
  "papermill": {
   "default_parameters": {},
   "duration": 11.600824,
   "end_time": "2022-02-16T13:40:46.484785",
   "environment_variables": {},
   "exception": null,
   "input_path": "__notebook__.ipynb",
   "output_path": "__notebook__.ipynb",
   "parameters": {},
   "start_time": "2022-02-16T13:40:34.883961",
   "version": "2.3.3"
  }
 },
 "nbformat": 4,
 "nbformat_minor": 5
}
