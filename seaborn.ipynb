{
 "cells": [
  {
   "cell_type": "code",
   "execution_count": 1,
   "id": "938b3108",
   "metadata": {
    "_cell_guid": "b1076dfc-b9ad-4769-8c92-a6c4dae69d19",
    "_uuid": "8f2839f25d086af736a60e9eeb907d3b93b6e0e5",
    "execution": {
     "iopub.execute_input": "2022-02-19T13:57:15.296532Z",
     "iopub.status.busy": "2022-02-19T13:57:15.295937Z",
     "iopub.status.idle": "2022-02-19T13:57:15.299241Z",
     "shell.execute_reply": "2022-02-19T13:57:15.299825Z",
     "shell.execute_reply.started": "2022-02-16T16:28:44.909594Z"
    },
    "papermill": {
     "duration": 0.01945,
     "end_time": "2022-02-19T13:57:15.300100",
     "exception": false,
     "start_time": "2022-02-19T13:57:15.280650",
     "status": "completed"
    },
    "tags": []
   },
   "outputs": [],
   "source": [
    "# This Python 3 environment comes with many helpful analytics libraries installed\n",
    "# It is defined by the kaggle/python Docker image: https://github.com/kaggle/docker-python\n",
    "# For example, here's several helpful packages to load\n",
    "\n",
    "import numpy as np # linear algebra\n",
    "import pandas as pd # data processing, CSV file I/O (e.g. pd.read_csv)\n",
    "\n",
    "# Input data files are available in the read-only \"../input/\" directory\n",
    "# For example, running this (by clicking run or pressing Shift+Enter) will list all files under the input directory\n",
    "\n",
    "import os\n",
    "for dirname, _, filenames in os.walk('/kaggle/input'):\n",
    "    for filename in filenames:\n",
    "        print(os.path.join(dirname, filename))\n",
    "\n",
    "# You can write up to 20GB to the current directory (/kaggle/working/) that gets preserved as output when you create a version using \"Save & Run All\" \n",
    "# You can also write temporary files to /kaggle/temp/, but they won't be saved outside of the current session"
   ]
  },
  {
   "cell_type": "code",
   "execution_count": 2,
   "id": "3b4a43cf",
   "metadata": {
    "execution": {
     "iopub.execute_input": "2022-02-19T13:57:15.315951Z",
     "iopub.status.busy": "2022-02-19T13:57:15.315104Z",
     "iopub.status.idle": "2022-02-19T13:57:43.476333Z",
     "shell.execute_reply": "2022-02-19T13:57:43.475790Z",
     "shell.execute_reply.started": "2022-02-16T16:28:44.940708Z"
    },
    "papermill": {
     "duration": 28.16931,
     "end_time": "2022-02-19T13:57:43.476480",
     "exception": false,
     "start_time": "2022-02-19T13:57:15.307170",
     "status": "completed"
    },
    "tags": []
   },
   "outputs": [
    {
     "name": "stdout",
     "output_type": "stream",
     "text": [
      "Requirement already satisfied: seaborn in /opt/conda/lib/python3.7/site-packages (0.11.2)\r\n",
      "Requirement already satisfied: numpy>=1.15 in /opt/conda/lib/python3.7/site-packages (from seaborn) (1.20.3)\r\n",
      "Requirement already satisfied: pandas>=0.23 in /opt/conda/lib/python3.7/site-packages (from seaborn) (1.3.5)\r\n",
      "Requirement already satisfied: matplotlib>=2.2 in /opt/conda/lib/python3.7/site-packages (from seaborn) (3.5.1)\r\n",
      "Requirement already satisfied: scipy>=1.0 in /opt/conda/lib/python3.7/site-packages (from seaborn) (1.7.3)\r\n",
      "Requirement already satisfied: cycler>=0.10 in /opt/conda/lib/python3.7/site-packages (from matplotlib>=2.2->seaborn) (0.11.0)\r\n",
      "Requirement already satisfied: pyparsing>=2.2.1 in /opt/conda/lib/python3.7/site-packages (from matplotlib>=2.2->seaborn) (3.0.6)\r\n",
      "Requirement already satisfied: python-dateutil>=2.7 in /opt/conda/lib/python3.7/site-packages (from matplotlib>=2.2->seaborn) (2.8.2)\r\n",
      "Requirement already satisfied: fonttools>=4.22.0 in /opt/conda/lib/python3.7/site-packages (from matplotlib>=2.2->seaborn) (4.28.4)\r\n",
      "Requirement already satisfied: packaging>=20.0 in /opt/conda/lib/python3.7/site-packages (from matplotlib>=2.2->seaborn) (21.3)\r\n",
      "Requirement already satisfied: pillow>=6.2.0 in /opt/conda/lib/python3.7/site-packages (from matplotlib>=2.2->seaborn) (8.2.0)\r\n",
      "Requirement already satisfied: kiwisolver>=1.0.1 in /opt/conda/lib/python3.7/site-packages (from matplotlib>=2.2->seaborn) (1.3.2)\r\n",
      "Requirement already satisfied: pytz>=2017.3 in /opt/conda/lib/python3.7/site-packages (from pandas>=0.23->seaborn) (2021.3)\r\n",
      "Requirement already satisfied: six>=1.5 in /opt/conda/lib/python3.7/site-packages (from python-dateutil>=2.7->matplotlib>=2.2->seaborn) (1.16.0)\r\n",
      "\u001b[33mWARNING: Running pip as the 'root' user can result in broken permissions and conflicting behaviour with the system package manager. It is recommended to use a virtual environment instead: https://pip.pypa.io/warnings/venv\u001b[0m\r\n"
     ]
    }
   ],
   "source": [
    "#seaborn matplotlib alternative\n",
    "! pip install seaborn\n"
   ]
  },
  {
   "cell_type": "code",
   "execution_count": 3,
   "id": "8f1cdd2a",
   "metadata": {
    "execution": {
     "iopub.execute_input": "2022-02-19T13:57:43.496139Z",
     "iopub.status.busy": "2022-02-19T13:57:43.495494Z",
     "iopub.status.idle": "2022-02-19T13:57:44.422238Z",
     "shell.execute_reply": "2022-02-19T13:57:44.421533Z",
     "shell.execute_reply.started": "2022-02-16T16:29:14.858337Z"
    },
    "papermill": {
     "duration": 0.938442,
     "end_time": "2022-02-19T13:57:44.422372",
     "exception": false,
     "start_time": "2022-02-19T13:57:43.483930",
     "status": "completed"
    },
    "tags": []
   },
   "outputs": [],
   "source": [
    "import seaborn as sns"
   ]
  },
  {
   "cell_type": "code",
   "execution_count": 4,
   "id": "8428cf4b",
   "metadata": {
    "execution": {
     "iopub.execute_input": "2022-02-19T13:57:44.439111Z",
     "iopub.status.busy": "2022-02-19T13:57:44.438483Z",
     "iopub.status.idle": "2022-02-19T13:57:44.441902Z",
     "shell.execute_reply": "2022-02-19T13:57:44.442328Z",
     "shell.execute_reply.started": "2022-02-17T14:57:21.89582Z"
    },
    "papermill": {
     "duration": 0.013185,
     "end_time": "2022-02-19T13:57:44.442477",
     "exception": false,
     "start_time": "2022-02-19T13:57:44.429292",
     "status": "completed"
    },
    "tags": []
   },
   "outputs": [],
   "source": [
    "import seaborn as sns\n",
    "import matplotlib.pyplot as plt\n",
    "import numpy as np\n",
    "# tips=sns.load_dataset('tips')\n",
    "# print(tips)\n",
    "# sns.barplot(x='sex',y='total_bill',data=tips,estimator=\n",
    "#     np.std)\n",
    "# # plt.show()\n",
    "\n",
    "# sns.countplot(x='sex',data=tips)\n",
    "# # plt.show()\n",
    "\n",
    "# sns.countplot(x='time',data=tips)\n",
    "# # plt.show()\n",
    "\n",
    "# sns.boxplot(x='day',y='total_bill',data=tips,hue='smoker')\n",
    "# plt.show()\n",
    "\n",
    "# sns.violinplot(x='day',y='total_bill',data=tips,hue='sex',split=True)\n",
    "# plt.show()\n",
    "\n",
    "\n"
   ]
  },
  {
   "cell_type": "code",
   "execution_count": 5,
   "id": "ab3e6b68",
   "metadata": {
    "execution": {
     "iopub.execute_input": "2022-02-19T13:57:44.458863Z",
     "iopub.status.busy": "2022-02-19T13:57:44.458253Z",
     "iopub.status.idle": "2022-02-19T13:57:44.461456Z",
     "shell.execute_reply": "2022-02-19T13:57:44.461915Z",
     "shell.execute_reply.started": "2022-02-19T13:56:42.094734Z"
    },
    "papermill": {
     "duration": 0.012781,
     "end_time": "2022-02-19T13:57:44.462063",
     "exception": false,
     "start_time": "2022-02-19T13:57:44.449282",
     "status": "completed"
    },
    "tags": []
   },
   "outputs": [],
   "source": [
    "import seaborn as sns\n",
    "import matplotlib.pyplot as plt\n",
    "import numpy as np\n",
    "# tips=sns.load_dataset('tips')\n",
    "# print(tips)\n",
    "\n",
    "#dist plot\n",
    "\n",
    "#sns.distplot(tips['total_bill'],kde=False,bins=30,) #histogram\n",
    "#kernal density estimation :-kde\n",
    "\n",
    "\n",
    "# sns.kdeplot(tips[\"total_bill\"])\n",
    "\n",
    "# sns.jointplot(x=\"total_bill\",y=\"tip\",data=tips,kind=\"scatter\") show relation\n",
    "\n",
    "# sns.pairplot(data=tips,hue=\"sex\")\n",
    "# plt.show()\n"
   ]
  },
  {
   "cell_type": "code",
   "execution_count": null,
   "id": "fe9d0be0",
   "metadata": {
    "papermill": {
     "duration": 0.006296,
     "end_time": "2022-02-19T13:57:44.475144",
     "exception": false,
     "start_time": "2022-02-19T13:57:44.468848",
     "status": "completed"
    },
    "tags": []
   },
   "outputs": [],
   "source": []
  }
 ],
 "metadata": {
  "kernelspec": {
   "display_name": "Python 3",
   "language": "python",
   "name": "python3"
  },
  "language_info": {
   "codemirror_mode": {
    "name": "ipython",
    "version": 3
   },
   "file_extension": ".py",
   "mimetype": "text/x-python",
   "name": "python",
   "nbconvert_exporter": "python",
   "pygments_lexer": "ipython3",
   "version": "3.7.12"
  },
  "papermill": {
   "default_parameters": {},
   "duration": 37.921397,
   "end_time": "2022-02-19T13:57:45.089780",
   "environment_variables": {},
   "exception": null,
   "input_path": "__notebook__.ipynb",
   "output_path": "__notebook__.ipynb",
   "parameters": {},
   "start_time": "2022-02-19T13:57:07.168383",
   "version": "2.3.3"
  }
 },
 "nbformat": 4,
 "nbformat_minor": 5
}
