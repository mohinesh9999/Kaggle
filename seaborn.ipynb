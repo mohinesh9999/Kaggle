{
 "cells": [
  {
   "cell_type": "code",
   "execution_count": 1,
   "id": "76a0cc30",
   "metadata": {
    "_cell_guid": "b1076dfc-b9ad-4769-8c92-a6c4dae69d19",
    "_uuid": "8f2839f25d086af736a60e9eeb907d3b93b6e0e5",
    "execution": {
     "iopub.execute_input": "2022-02-19T14:36:19.890427Z",
     "iopub.status.busy": "2022-02-19T14:36:19.888959Z",
     "iopub.status.idle": "2022-02-19T14:36:19.893964Z",
     "shell.execute_reply": "2022-02-19T14:36:19.894541Z",
     "shell.execute_reply.started": "2022-02-16T16:28:44.909594Z"
    },
    "papermill": {
     "duration": 0.036141,
     "end_time": "2022-02-19T14:36:19.894872",
     "exception": false,
     "start_time": "2022-02-19T14:36:19.858731",
     "status": "completed"
    },
    "tags": []
   },
   "outputs": [],
   "source": [
    "# This Python 3 environment comes with many helpful analytics libraries installed\n",
    "# It is defined by the kaggle/python Docker image: https://github.com/kaggle/docker-python\n",
    "# For example, here's several helpful packages to load\n",
    "\n",
    "import numpy as np # linear algebra\n",
    "import pandas as pd # data processing, CSV file I/O (e.g. pd.read_csv)\n",
    "\n",
    "# Input data files are available in the read-only \"../input/\" directory\n",
    "# For example, running this (by clicking run or pressing Shift+Enter) will list all files under the input directory\n",
    "\n",
    "import os\n",
    "for dirname, _, filenames in os.walk('/kaggle/input'):\n",
    "    for filename in filenames:\n",
    "        print(os.path.join(dirname, filename))\n",
    "\n",
    "# You can write up to 20GB to the current directory (/kaggle/working/) that gets preserved as output when you create a version using \"Save & Run All\" \n",
    "# You can also write temporary files to /kaggle/temp/, but they won't be saved outside of the current session"
   ]
  },
  {
   "cell_type": "code",
   "execution_count": 2,
   "id": "a2e1ce81",
   "metadata": {
    "execution": {
     "iopub.execute_input": "2022-02-19T14:36:19.934867Z",
     "iopub.status.busy": "2022-02-19T14:36:19.932978Z",
     "iopub.status.idle": "2022-02-19T14:36:51.683955Z",
     "shell.execute_reply": "2022-02-19T14:36:51.683206Z",
     "shell.execute_reply.started": "2022-02-16T16:28:44.940708Z"
    },
    "papermill": {
     "duration": 31.776402,
     "end_time": "2022-02-19T14:36:51.684137",
     "exception": false,
     "start_time": "2022-02-19T14:36:19.907735",
     "status": "completed"
    },
    "tags": []
   },
   "outputs": [
    {
     "name": "stdout",
     "output_type": "stream",
     "text": [
      "Requirement already satisfied: seaborn in /opt/conda/lib/python3.7/site-packages (0.11.2)\r\n",
      "Requirement already satisfied: scipy>=1.0 in /opt/conda/lib/python3.7/site-packages (from seaborn) (1.7.3)\r\n",
      "Requirement already satisfied: matplotlib>=2.2 in /opt/conda/lib/python3.7/site-packages (from seaborn) (3.5.1)\r\n",
      "Requirement already satisfied: numpy>=1.15 in /opt/conda/lib/python3.7/site-packages (from seaborn) (1.20.3)\r\n",
      "Requirement already satisfied: pandas>=0.23 in /opt/conda/lib/python3.7/site-packages (from seaborn) (1.3.5)\r\n",
      "Requirement already satisfied: packaging>=20.0 in /opt/conda/lib/python3.7/site-packages (from matplotlib>=2.2->seaborn) (21.3)\r\n",
      "Requirement already satisfied: cycler>=0.10 in /opt/conda/lib/python3.7/site-packages (from matplotlib>=2.2->seaborn) (0.11.0)\r\n",
      "Requirement already satisfied: pyparsing>=2.2.1 in /opt/conda/lib/python3.7/site-packages (from matplotlib>=2.2->seaborn) (3.0.6)\r\n",
      "Requirement already satisfied: kiwisolver>=1.0.1 in /opt/conda/lib/python3.7/site-packages (from matplotlib>=2.2->seaborn) (1.3.2)\r\n",
      "Requirement already satisfied: pillow>=6.2.0 in /opt/conda/lib/python3.7/site-packages (from matplotlib>=2.2->seaborn) (8.2.0)\r\n",
      "Requirement already satisfied: python-dateutil>=2.7 in /opt/conda/lib/python3.7/site-packages (from matplotlib>=2.2->seaborn) (2.8.2)\r\n",
      "Requirement already satisfied: fonttools>=4.22.0 in /opt/conda/lib/python3.7/site-packages (from matplotlib>=2.2->seaborn) (4.28.4)\r\n",
      "Requirement already satisfied: pytz>=2017.3 in /opt/conda/lib/python3.7/site-packages (from pandas>=0.23->seaborn) (2021.3)\r\n",
      "Requirement already satisfied: six>=1.5 in /opt/conda/lib/python3.7/site-packages (from python-dateutil>=2.7->matplotlib>=2.2->seaborn) (1.16.0)\r\n",
      "\u001b[33mWARNING: Running pip as the 'root' user can result in broken permissions and conflicting behaviour with the system package manager. It is recommended to use a virtual environment instead: https://pip.pypa.io/warnings/venv\u001b[0m\r\n"
     ]
    }
   ],
   "source": [
    "#seaborn matplotlib alternative\n",
    "! pip install seaborn\n"
   ]
  },
  {
   "cell_type": "code",
   "execution_count": 3,
   "id": "03b27495",
   "metadata": {
    "execution": {
     "iopub.execute_input": "2022-02-19T14:36:51.716734Z",
     "iopub.status.busy": "2022-02-19T14:36:51.716025Z",
     "iopub.status.idle": "2022-02-19T14:36:52.802681Z",
     "shell.execute_reply": "2022-02-19T14:36:52.802023Z",
     "shell.execute_reply.started": "2022-02-16T16:29:14.858337Z"
    },
    "papermill": {
     "duration": 1.106022,
     "end_time": "2022-02-19T14:36:52.802840",
     "exception": false,
     "start_time": "2022-02-19T14:36:51.696818",
     "status": "completed"
    },
    "tags": []
   },
   "outputs": [],
   "source": [
    "import seaborn as sns"
   ]
  },
  {
   "cell_type": "code",
   "execution_count": 4,
   "id": "73c5760a",
   "metadata": {
    "execution": {
     "iopub.execute_input": "2022-02-19T14:36:52.833956Z",
     "iopub.status.busy": "2022-02-19T14:36:52.832328Z",
     "iopub.status.idle": "2022-02-19T14:36:52.834739Z",
     "shell.execute_reply": "2022-02-19T14:36:52.835321Z",
     "shell.execute_reply.started": "2022-02-17T14:57:21.89582Z"
    },
    "papermill": {
     "duration": 0.019793,
     "end_time": "2022-02-19T14:36:52.835514",
     "exception": false,
     "start_time": "2022-02-19T14:36:52.815721",
     "status": "completed"
    },
    "tags": []
   },
   "outputs": [],
   "source": [
    "import seaborn as sns\n",
    "import matplotlib.pyplot as plt\n",
    "import numpy as np\n",
    "# tips=sns.load_dataset('tips')\n",
    "# print(tips)\n",
    "# sns.barplot(x='sex',y='total_bill',data=tips,estimator=\n",
    "#     np.std)\n",
    "# # plt.show()\n",
    "\n",
    "# sns.countplot(x='sex',data=tips)\n",
    "# # plt.show()\n",
    "\n",
    "# sns.countplot(x='time',data=tips)\n",
    "# # plt.show()\n",
    "\n",
    "# sns.boxplot(x='day',y='total_bill',data=tips,hue='smoker')\n",
    "# plt.show()\n",
    "\n",
    "# sns.violinplot(x='day',y='total_bill',data=tips,hue='sex',split=True)\n",
    "# plt.show()\n",
    "\n",
    "\n"
   ]
  },
  {
   "cell_type": "code",
   "execution_count": 5,
   "id": "db729266",
   "metadata": {
    "execution": {
     "iopub.execute_input": "2022-02-19T14:36:52.864395Z",
     "iopub.status.busy": "2022-02-19T14:36:52.863594Z",
     "iopub.status.idle": "2022-02-19T14:36:52.866223Z",
     "shell.execute_reply": "2022-02-19T14:36:52.866791Z",
     "shell.execute_reply.started": "2022-02-19T13:56:42.094734Z"
    },
    "papermill": {
     "duration": 0.019717,
     "end_time": "2022-02-19T14:36:52.866982",
     "exception": false,
     "start_time": "2022-02-19T14:36:52.847265",
     "status": "completed"
    },
    "tags": []
   },
   "outputs": [],
   "source": [
    "import seaborn as sns\n",
    "import matplotlib.pyplot as plt\n",
    "import numpy as np\n",
    "# tips=sns.load_dataset('tips')\n",
    "# print(tips)\n",
    "\n",
    "#dist plot\n",
    "\n",
    "#sns.distplot(tips['total_bill'],kde=False,bins=30,) #histogram\n",
    "#kernal density estimation :-kde\n",
    "\n",
    "\n",
    "# sns.kdeplot(tips[\"total_bill\"])\n",
    "\n",
    "# sns.jointplot(x=\"total_bill\",y=\"tip\",data=tips,kind=\"scatter\") show relation\n",
    "\n",
    "# sns.pairplot(data=tips,hue=\"sex\")\n",
    "# plt.show()\n"
   ]
  },
  {
   "cell_type": "code",
   "execution_count": 6,
   "id": "54cb2192",
   "metadata": {
    "execution": {
     "iopub.execute_input": "2022-02-19T14:36:52.895273Z",
     "iopub.status.busy": "2022-02-19T14:36:52.894504Z",
     "iopub.status.idle": "2022-02-19T14:36:52.899195Z",
     "shell.execute_reply": "2022-02-19T14:36:52.899846Z",
     "shell.execute_reply.started": "2022-02-19T14:35:38.205241Z"
    },
    "papermill": {
     "duration": 0.021341,
     "end_time": "2022-02-19T14:36:52.900054",
     "exception": false,
     "start_time": "2022-02-19T14:36:52.878713",
     "status": "completed"
    },
    "tags": []
   },
   "outputs": [],
   "source": [
    "import seaborn as sns\n",
    "import matplotlib.pyplot as plt\n",
    "import numpy as np\n",
    "# tips=sns.load_dataset('tips')\n",
    "# print(tips)\n",
    "\n",
    "# print(tips.corr())\n",
    "# tips_corr=tips.corr()\n",
    "# # sns.heatmap(tips_corr,annot=True)\n",
    "# # plt.show()\n",
    "\n",
    "# flights=sns.load_dataset('flights')\n",
    "# print(flights)\n",
    "\n",
    "# flights_pivot=flights.pivot_table(index=\"month\",columns=\"year\",values=\"passengers\")\n",
    "# print(flights_pivot)\n",
    "# sns.heatmap(flights_pivot,cmap=\"coolwarm\")\n",
    "# plt.show()\n",
    "# titanic=sns.load_dataset('titanic')"
   ]
  },
  {
   "cell_type": "code",
   "execution_count": null,
   "id": "44601c64",
   "metadata": {
    "papermill": {
     "duration": 0.011051,
     "end_time": "2022-02-19T14:36:52.922751",
     "exception": false,
     "start_time": "2022-02-19T14:36:52.911700",
     "status": "completed"
    },
    "tags": []
   },
   "outputs": [],
   "source": []
  }
 ],
 "metadata": {
  "kernelspec": {
   "display_name": "Python 3",
   "language": "python",
   "name": "python3"
  },
  "language_info": {
   "codemirror_mode": {
    "name": "ipython",
    "version": 3
   },
   "file_extension": ".py",
   "mimetype": "text/x-python",
   "name": "python",
   "nbconvert_exporter": "python",
   "pygments_lexer": "ipython3",
   "version": "3.7.12"
  },
  "papermill": {
   "default_parameters": {},
   "duration": 45.657949,
   "end_time": "2022-02-19T14:36:53.747495",
   "environment_variables": {},
   "exception": null,
   "input_path": "__notebook__.ipynb",
   "output_path": "__notebook__.ipynb",
   "parameters": {},
   "start_time": "2022-02-19T14:36:08.089546",
   "version": "2.3.3"
  }
 },
 "nbformat": 4,
 "nbformat_minor": 5
}
