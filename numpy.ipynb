{
 "cells": [
  {
   "cell_type": "code",
   "execution_count": 1,
   "id": "f637ee25",
   "metadata": {
    "_cell_guid": "b1076dfc-b9ad-4769-8c92-a6c4dae69d19",
    "_uuid": "8f2839f25d086af736a60e9eeb907d3b93b6e0e5",
    "execution": {
     "iopub.execute_input": "2022-02-14T16:41:30.154894Z",
     "iopub.status.busy": "2022-02-14T16:41:30.153833Z",
     "iopub.status.idle": "2022-02-14T16:41:30.163162Z",
     "shell.execute_reply": "2022-02-14T16:41:30.163670Z"
    },
    "papermill": {
     "duration": 0.038887,
     "end_time": "2022-02-14T16:41:30.163955",
     "exception": false,
     "start_time": "2022-02-14T16:41:30.125068",
     "status": "completed"
    },
    "tags": []
   },
   "outputs": [],
   "source": [
    "# This Python 3 environment comes with many helpful analytics libraries installed\n",
    "# It is defined by the kaggle/python Docker image: https://github.com/kaggle/docker-python\n",
    "# For example, here's several helpful packages to load\n",
    "\n",
    "import numpy as np # linear algebra\n",
    "import pandas as pd # data processing, CSV file I/O (e.g. pd.read_csv)\n",
    "\n",
    "# Input data files are available in the read-only \"../input/\" directory\n",
    "# For example, running this (by clicking run or pressing Shift+Enter) will list all files under the input directory\n",
    "\n",
    "import os\n",
    "for dirname, _, filenames in os.walk('/kaggle/input'):\n",
    "    for filename in filenames:\n",
    "        print(os.path.join(dirname, filename))\n",
    "\n",
    "# You can write up to 20GB to the current directory (/kaggle/working/) that gets preserved as output when you create a version using \"Save & Run All\" \n",
    "# You can also write temporary files to /kaggle/temp/, but they won't be saved outside of the current session"
   ]
  },
  {
   "cell_type": "code",
   "execution_count": 2,
   "id": "4dbdf615",
   "metadata": {
    "execution": {
     "iopub.execute_input": "2022-02-14T16:41:30.216414Z",
     "iopub.status.busy": "2022-02-14T16:41:30.215789Z",
     "iopub.status.idle": "2022-02-14T16:41:30.218738Z",
     "shell.execute_reply": "2022-02-14T16:41:30.219167Z",
     "shell.execute_reply.started": "2022-02-14T15:20:49.485901Z"
    },
    "papermill": {
     "duration": 0.03025,
     "end_time": "2022-02-14T16:41:30.219358",
     "exception": false,
     "start_time": "2022-02-14T16:41:30.189108",
     "status": "completed"
    },
    "tags": []
   },
   "outputs": [],
   "source": [
    "import numpy as np"
   ]
  },
  {
   "cell_type": "code",
   "execution_count": 3,
   "id": "d35987b3",
   "metadata": {
    "execution": {
     "iopub.execute_input": "2022-02-14T16:41:30.270236Z",
     "iopub.status.busy": "2022-02-14T16:41:30.269630Z",
     "iopub.status.idle": "2022-02-14T16:41:30.274837Z",
     "shell.execute_reply": "2022-02-14T16:41:30.275340Z",
     "shell.execute_reply.started": "2022-02-14T15:21:49.992923Z"
    },
    "papermill": {
     "duration": 0.032284,
     "end_time": "2022-02-14T16:41:30.275504",
     "exception": false,
     "start_time": "2022-02-14T16:41:30.243220",
     "status": "completed"
    },
    "tags": []
   },
   "outputs": [
    {
     "name": "stdout",
     "output_type": "stream",
     "text": [
      "[1 2 3 4 5]\n",
      "<class 'numpy.ndarray'>\n",
      "(5,)\n"
     ]
    }
   ],
   "source": [
    "a=np.array([1,2,3,4,5])\n",
    "print(a,type(a),a.shape,sep='\\n')"
   ]
  },
  {
   "cell_type": "code",
   "execution_count": 4,
   "id": "2351e76a",
   "metadata": {
    "execution": {
     "iopub.execute_input": "2022-02-14T16:41:30.328390Z",
     "iopub.status.busy": "2022-02-14T16:41:30.327742Z",
     "iopub.status.idle": "2022-02-14T16:41:30.332787Z",
     "shell.execute_reply": "2022-02-14T16:41:30.333348Z",
     "shell.execute_reply.started": "2022-02-14T15:22:44.597575Z"
    },
    "papermill": {
     "duration": 0.032684,
     "end_time": "2022-02-14T16:41:30.333513",
     "exception": false,
     "start_time": "2022-02-14T16:41:30.300829",
     "status": "completed"
    },
    "tags": []
   },
   "outputs": [
    {
     "name": "stdout",
     "output_type": "stream",
     "text": [
      "[[1]\n",
      " [2]\n",
      " [3]\n",
      " [4]\n",
      " [5]] (5, 1)\n"
     ]
    }
   ],
   "source": [
    "b=np.array([[1],[2],[3],[4],[5]])\n",
    "print(b,b.shape)"
   ]
  },
  {
   "cell_type": "code",
   "execution_count": 5,
   "id": "6d102256",
   "metadata": {
    "execution": {
     "iopub.execute_input": "2022-02-14T16:41:30.387036Z",
     "iopub.status.busy": "2022-02-14T16:41:30.386357Z",
     "iopub.status.idle": "2022-02-14T16:41:30.391829Z",
     "shell.execute_reply": "2022-02-14T16:41:30.391334Z",
     "shell.execute_reply.started": "2022-02-14T15:24:57.123582Z"
    },
    "papermill": {
     "duration": 0.033353,
     "end_time": "2022-02-14T16:41:30.391986",
     "exception": false,
     "start_time": "2022-02-14T16:41:30.358633",
     "status": "completed"
    },
    "tags": []
   },
   "outputs": [
    {
     "name": "stdout",
     "output_type": "stream",
     "text": [
      "(2, 3)\n",
      "6\n"
     ]
    }
   ],
   "source": [
    "c=np.array([[1,2,3],[4,6,6]])\n",
    "print(c.shape)\n",
    "print(c[1][1])"
   ]
  },
  {
   "cell_type": "code",
   "execution_count": 6,
   "id": "dcfbe0ab",
   "metadata": {
    "execution": {
     "iopub.execute_input": "2022-02-14T16:41:30.447235Z",
     "iopub.status.busy": "2022-02-14T16:41:30.446599Z",
     "iopub.status.idle": "2022-02-14T16:41:30.454447Z",
     "shell.execute_reply": "2022-02-14T16:41:30.455042Z",
     "shell.execute_reply.started": "2022-02-14T15:27:14.187092Z"
    },
    "papermill": {
     "duration": 0.037317,
     "end_time": "2022-02-14T16:41:30.455232",
     "exception": false,
     "start_time": "2022-02-14T16:41:30.417915",
     "status": "completed"
    },
    "tags": []
   },
   "outputs": [
    {
     "name": "stdout",
     "output_type": "stream",
     "text": [
      "[[0. 0. 0.]\n",
      " [0. 0. 0.]\n",
      " [0. 0. 0.]]\n",
      "[[1. 1. 1.]\n",
      " [1. 1. 1.]]\n",
      "[[2 2 2]\n",
      " [2 2 2]\n",
      " [2 2 2]]\n",
      "[[1. 0. 0. 0.]\n",
      " [0. 1. 0. 0.]\n",
      " [0. 0. 1. 0.]\n",
      " [0. 0. 0. 1.]]\n",
      "[[0.39682494 0.58253755 0.02258201]\n",
      " [0.96819321 0.26605472 0.15570537]]\n"
     ]
    }
   ],
   "source": [
    "#zeroes,ones,custom\n",
    "a=np.zeros((3,3))\n",
    "print(a)\n",
    "b=np.ones((2,3))\n",
    "print(b)\n",
    "c=np.full((3,3),2)\n",
    "print(c)\n",
    "#identity matrix :-sq mat\n",
    "d=np.eye(4)\n",
    "print(d)\n",
    "#random\n",
    "randomMatrix=np.random.random((2,3))\n",
    "print(randomMatrix)"
   ]
  },
  {
   "cell_type": "code",
   "execution_count": 7,
   "id": "da13c547",
   "metadata": {
    "execution": {
     "iopub.execute_input": "2022-02-14T16:41:30.509682Z",
     "iopub.status.busy": "2022-02-14T16:41:30.509123Z",
     "iopub.status.idle": "2022-02-14T16:41:30.513762Z",
     "shell.execute_reply": "2022-02-14T16:41:30.514302Z",
     "shell.execute_reply.started": "2022-02-14T15:28:17.726790Z"
    },
    "papermill": {
     "duration": 0.033092,
     "end_time": "2022-02-14T16:41:30.514459",
     "exception": false,
     "start_time": "2022-02-14T16:41:30.481367",
     "status": "completed"
    },
    "tags": []
   },
   "outputs": [
    {
     "name": "stdout",
     "output_type": "stream",
     "text": [
      "[[0.58253755]\n",
      " [0.26605472]]\n"
     ]
    }
   ],
   "source": [
    "print(randomMatrix[0:2,1:2])"
   ]
  },
  {
   "cell_type": "code",
   "execution_count": 8,
   "id": "63b2603f",
   "metadata": {
    "execution": {
     "iopub.execute_input": "2022-02-14T16:41:30.572185Z",
     "iopub.status.busy": "2022-02-14T16:41:30.571547Z",
     "iopub.status.idle": "2022-02-14T16:41:30.574129Z",
     "shell.execute_reply": "2022-02-14T16:41:30.574549Z",
     "shell.execute_reply.started": "2022-02-14T15:29:31.032915Z"
    },
    "papermill": {
     "duration": 0.033101,
     "end_time": "2022-02-14T16:41:30.574715",
     "exception": false,
     "start_time": "2022-02-14T16:41:30.541614",
     "status": "completed"
    },
    "tags": []
   },
   "outputs": [
    {
     "name": "stdout",
     "output_type": "stream",
     "text": [
      "[[0.39682494 0.58253755 0.02258201]\n",
      " [0.96819321 1.         1.        ]]\n"
     ]
    }
   ],
   "source": [
    "randomMatrix[1,1:]=1\n",
    "print(randomMatrix)"
   ]
  },
  {
   "cell_type": "code",
   "execution_count": 9,
   "id": "1c24d0ce",
   "metadata": {
    "execution": {
     "iopub.execute_input": "2022-02-14T16:41:30.632709Z",
     "iopub.status.busy": "2022-02-14T16:41:30.631925Z",
     "iopub.status.idle": "2022-02-14T16:41:30.634902Z",
     "shell.execute_reply": "2022-02-14T16:41:30.635350Z",
     "shell.execute_reply.started": "2022-02-14T15:33:15.418245Z"
    },
    "papermill": {
     "duration": 0.034964,
     "end_time": "2022-02-14T16:41:30.635507",
     "exception": false,
     "start_time": "2022-02-14T16:41:30.600543",
     "status": "completed"
    },
    "tags": []
   },
   "outputs": [
    {
     "name": "stdout",
     "output_type": "stream",
     "text": [
      "[[0. 0. 0.]\n",
      " [0. 0. 0.]\n",
      " [0. 0. 0.]]\n",
      "[[0. 0. 8.]\n",
      " [1. 1. 8.]\n",
      " [0. 0. 8.]]\n"
     ]
    }
   ],
   "source": [
    "##set some rows and cols Slicing\n",
    "z=np.zeros((3,3))\n",
    "print(z)\n",
    "z[1,:]=1\n",
    "z[:,-1]=8\n",
    "print(z)"
   ]
  },
  {
   "cell_type": "code",
   "execution_count": 10,
   "id": "3f644c12",
   "metadata": {
    "execution": {
     "iopub.execute_input": "2022-02-14T16:41:30.694514Z",
     "iopub.status.busy": "2022-02-14T16:41:30.693781Z",
     "iopub.status.idle": "2022-02-14T16:41:30.696651Z",
     "shell.execute_reply": "2022-02-14T16:41:30.697063Z",
     "shell.execute_reply.started": "2022-02-14T15:33:16.897319Z"
    },
    "papermill": {
     "duration": 0.035608,
     "end_time": "2022-02-14T16:41:30.697248",
     "exception": false,
     "start_time": "2022-02-14T16:41:30.661640",
     "status": "completed"
    },
    "tags": []
   },
   "outputs": [
    {
     "name": "stdout",
     "output_type": "stream",
     "text": [
      "float64\n",
      "int64\n"
     ]
    }
   ],
   "source": [
    "#DataTypes\n",
    "print(z.dtype)\n",
    "z=np.zeros((3,3),dtype=np.int64)\n",
    "print(z.dtype)"
   ]
  },
  {
   "cell_type": "code",
   "execution_count": 11,
   "id": "8586cbdb",
   "metadata": {
    "execution": {
     "iopub.execute_input": "2022-02-14T16:41:30.754200Z",
     "iopub.status.busy": "2022-02-14T16:41:30.753267Z",
     "iopub.status.idle": "2022-02-14T16:41:30.760077Z",
     "shell.execute_reply": "2022-02-14T16:41:30.760503Z",
     "shell.execute_reply.started": "2022-02-14T15:36:40.536605Z"
    },
    "papermill": {
     "duration": 0.036604,
     "end_time": "2022-02-14T16:41:30.760676",
     "exception": false,
     "start_time": "2022-02-14T16:41:30.724072",
     "status": "completed"
    },
    "tags": []
   },
   "outputs": [
    {
     "name": "stdout",
     "output_type": "stream",
     "text": [
      "[[ 6  8]\n",
      " [10 12]]\n",
      "[[ 5 12]\n",
      " [21 32]]\n",
      "[[0.2        0.33333333]\n",
      " [0.42857143 0.5       ]]\n",
      "[[1.         1.41421356]\n",
      " [1.73205081 2.        ]]\n"
     ]
    }
   ],
   "source": [
    "#mathematical opn\n",
    "\n",
    "x=np.array([[1,2],[3,4]])\n",
    "y=np.array([[5,6],[7,8]])\n",
    "print(x+y)#np.add\n",
    "print(x*y)#np.subtract\n",
    "print(x/y)\n",
    "print(np.sqrt(x))"
   ]
  },
  {
   "cell_type": "code",
   "execution_count": 12,
   "id": "c38d6469",
   "metadata": {
    "execution": {
     "iopub.execute_input": "2022-02-14T16:41:30.819398Z",
     "iopub.status.busy": "2022-02-14T16:41:30.818673Z",
     "iopub.status.idle": "2022-02-14T16:41:30.821521Z",
     "shell.execute_reply": "2022-02-14T16:41:30.821906Z",
     "shell.execute_reply.started": "2022-02-14T15:37:35.491396Z"
    },
    "papermill": {
     "duration": 0.034746,
     "end_time": "2022-02-14T16:41:30.822069",
     "exception": false,
     "start_time": "2022-02-14T16:41:30.787323",
     "status": "completed"
    },
    "tags": []
   },
   "outputs": [
    {
     "name": "stdout",
     "output_type": "stream",
     "text": [
      "[[19 22]\n",
      " [43 50]]\n",
      "[[19 22]\n",
      " [43 50]]\n"
     ]
    }
   ],
   "source": [
    "#matmul / dot product\n",
    "print(x.dot(y))\n",
    "print(np.dot(x,y))"
   ]
  },
  {
   "cell_type": "code",
   "execution_count": 13,
   "id": "c90e62ba",
   "metadata": {
    "execution": {
     "iopub.execute_input": "2022-02-14T16:41:30.882507Z",
     "iopub.status.busy": "2022-02-14T16:41:30.881683Z",
     "iopub.status.idle": "2022-02-14T16:41:30.884947Z",
     "shell.execute_reply": "2022-02-14T16:41:30.885631Z",
     "shell.execute_reply.started": "2022-02-14T15:44:43.391176Z"
    },
    "papermill": {
     "duration": 0.036376,
     "end_time": "2022-02-14T16:41:30.885856",
     "exception": false,
     "start_time": "2022-02-14T16:41:30.849480",
     "status": "completed"
    },
    "tags": []
   },
   "outputs": [
    {
     "name": "stdout",
     "output_type": "stream",
     "text": [
      "30\n"
     ]
    }
   ],
   "source": [
    "a=np.array([1,2,3,4])\n",
    "b=np.array([1,2,3,4])\n",
    "print(np.dot(a,b))#scaler"
   ]
  },
  {
   "cell_type": "code",
   "execution_count": 14,
   "id": "67680c01",
   "metadata": {
    "execution": {
     "iopub.execute_input": "2022-02-14T16:41:30.954672Z",
     "iopub.status.busy": "2022-02-14T16:41:30.953950Z",
     "iopub.status.idle": "2022-02-14T16:41:30.956678Z",
     "shell.execute_reply": "2022-02-14T16:41:30.957330Z",
     "shell.execute_reply.started": "2022-02-14T15:44:45.694625Z"
    },
    "papermill": {
     "duration": 0.042818,
     "end_time": "2022-02-14T16:41:30.957575",
     "exception": false,
     "start_time": "2022-02-14T16:41:30.914757",
     "status": "completed"
    },
    "tags": []
   },
   "outputs": [
    {
     "name": "stdout",
     "output_type": "stream",
     "text": [
      "10\n",
      "10\n"
     ]
    }
   ],
   "source": [
    "print(sum(a))\n",
    "print(np.sum(a))\n"
   ]
  },
  {
   "cell_type": "code",
   "execution_count": 15,
   "id": "49cd132b",
   "metadata": {
    "execution": {
     "iopub.execute_input": "2022-02-14T16:41:31.029384Z",
     "iopub.status.busy": "2022-02-14T16:41:31.028728Z",
     "iopub.status.idle": "2022-02-14T16:41:31.034530Z",
     "shell.execute_reply": "2022-02-14T16:41:31.035272Z",
     "shell.execute_reply.started": "2022-02-14T15:44:49.106521Z"
    },
    "papermill": {
     "duration": 0.045472,
     "end_time": "2022-02-14T16:41:31.035513",
     "exception": false,
     "start_time": "2022-02-14T16:41:30.990041",
     "status": "completed"
    },
    "tags": []
   },
   "outputs": [
    {
     "name": "stdout",
     "output_type": "stream",
     "text": [
      "10\n",
      "[3 7]\n",
      "[4 6]\n"
     ]
    }
   ],
   "source": [
    "x\n",
    "print(np.sum(x))\n",
    "print(np.sum(x,axis=1))\n",
    "print(np.sum(x,axis=0))"
   ]
  },
  {
   "cell_type": "code",
   "execution_count": 16,
   "id": "c76b65aa",
   "metadata": {
    "execution": {
     "iopub.execute_input": "2022-02-14T16:41:31.102453Z",
     "iopub.status.busy": "2022-02-14T16:41:31.101521Z",
     "iopub.status.idle": "2022-02-14T16:41:31.107561Z",
     "shell.execute_reply": "2022-02-14T16:41:31.108319Z",
     "shell.execute_reply.started": "2022-02-14T15:44:50.371604Z"
    },
    "papermill": {
     "duration": 0.037986,
     "end_time": "2022-02-14T16:41:31.108576",
     "exception": false,
     "start_time": "2022-02-14T16:41:31.070590",
     "status": "completed"
    },
    "tags": []
   },
   "outputs": [
    {
     "name": "stdout",
     "output_type": "stream",
     "text": [
      "[1 2 3 4] [1 2 3 4]\n",
      "[ 1  4  9 16]\n"
     ]
    }
   ],
   "source": [
    "#stack\n",
    "print(a,b)\n",
    "b=b**2\n",
    "print(b)"
   ]
  },
  {
   "cell_type": "code",
   "execution_count": 17,
   "id": "c6259ba1",
   "metadata": {
    "execution": {
     "iopub.execute_input": "2022-02-14T16:41:31.175315Z",
     "iopub.status.busy": "2022-02-14T16:41:31.174581Z",
     "iopub.status.idle": "2022-02-14T16:41:31.182748Z",
     "shell.execute_reply": "2022-02-14T16:41:31.183317Z",
     "shell.execute_reply.started": "2022-02-14T15:44:24.218693Z"
    },
    "papermill": {
     "duration": 0.042329,
     "end_time": "2022-02-14T16:41:31.183493",
     "exception": false,
     "start_time": "2022-02-14T16:41:31.141164",
     "status": "completed"
    },
    "tags": []
   },
   "outputs": [
    {
     "name": "stdout",
     "output_type": "stream",
     "text": [
      "[[ 1  2  3  4]\n",
      " [ 1  4  9 16]]\n"
     ]
    },
    {
     "data": {
      "text/plain": [
       "array([[ 1,  1],\n",
       "       [ 2,  4],\n",
       "       [ 3,  9],\n",
       "       [ 4, 16]])"
      ]
     },
     "execution_count": 17,
     "metadata": {},
     "output_type": "execute_result"
    }
   ],
   "source": [
    "print(np.stack((a,b),axis=0))\n",
    "np.stack((a,b),axis=1)"
   ]
  },
  {
   "cell_type": "code",
   "execution_count": 18,
   "id": "e4ae1f6b",
   "metadata": {
    "execution": {
     "iopub.execute_input": "2022-02-14T16:41:31.244067Z",
     "iopub.status.busy": "2022-02-14T16:41:31.243467Z",
     "iopub.status.idle": "2022-02-14T16:41:31.248531Z",
     "shell.execute_reply": "2022-02-14T16:41:31.249320Z",
     "shell.execute_reply.started": "2022-02-14T15:44:52.211119Z"
    },
    "papermill": {
     "duration": 0.037372,
     "end_time": "2022-02-14T16:41:31.249538",
     "exception": false,
     "start_time": "2022-02-14T16:41:31.212166",
     "status": "completed"
    },
    "tags": []
   },
   "outputs": [
    {
     "name": "stdout",
     "output_type": "stream",
     "text": [
      "[[ 1  2]\n",
      " [ 3  4]\n",
      " [ 1  4]\n",
      " [ 9 16]]\n"
     ]
    }
   ],
   "source": [
    "#reshape\n",
    "a=np.stack((a,b),axis=0)\n",
    "a=a.reshape((4,2))\n",
    "print(a)"
   ]
  },
  {
   "cell_type": "code",
   "execution_count": 19,
   "id": "ef730ff9",
   "metadata": {
    "execution": {
     "iopub.execute_input": "2022-02-14T16:41:31.313927Z",
     "iopub.status.busy": "2022-02-14T16:41:31.313016Z",
     "iopub.status.idle": "2022-02-14T16:41:31.316624Z",
     "shell.execute_reply": "2022-02-14T16:41:31.316186Z",
     "shell.execute_reply.started": "2022-02-14T15:45:28.983758Z"
    },
    "papermill": {
     "duration": 0.037413,
     "end_time": "2022-02-14T16:41:31.316756",
     "exception": false,
     "start_time": "2022-02-14T16:41:31.279343",
     "status": "completed"
    },
    "tags": []
   },
   "outputs": [
    {
     "data": {
      "text/plain": [
       "array([[ 1,  2,  3,  4,  1,  4,  9, 16]])"
      ]
     },
     "execution_count": 19,
     "metadata": {},
     "output_type": "execute_result"
    }
   ],
   "source": [
    "a.reshape((1,8))"
   ]
  },
  {
   "cell_type": "code",
   "execution_count": 20,
   "id": "ed4f2568",
   "metadata": {
    "execution": {
     "iopub.execute_input": "2022-02-14T16:41:31.380470Z",
     "iopub.status.busy": "2022-02-14T16:41:31.379733Z",
     "iopub.status.idle": "2022-02-14T16:41:31.382712Z",
     "shell.execute_reply": "2022-02-14T16:41:31.383163Z",
     "shell.execute_reply.started": "2022-02-14T15:46:53.619025Z"
    },
    "papermill": {
     "duration": 0.037591,
     "end_time": "2022-02-14T16:41:31.383325",
     "exception": false,
     "start_time": "2022-02-14T16:41:31.345734",
     "status": "completed"
    },
    "tags": []
   },
   "outputs": [
    {
     "data": {
      "text/plain": [
       "array([[[ 1,  2],\n",
       "        [ 3,  4]],\n",
       "\n",
       "       [[ 1,  4],\n",
       "        [ 9, 16]]])"
      ]
     },
     "execution_count": 20,
     "metadata": {},
     "output_type": "execute_result"
    }
   ],
   "source": [
    "a.reshape((2,2,2))"
   ]
  },
  {
   "cell_type": "markdown",
   "id": "a4b677a1",
   "metadata": {
    "papermill": {
     "duration": 0.030066,
     "end_time": "2022-02-14T16:41:31.443486",
     "exception": false,
     "start_time": "2022-02-14T16:41:31.413420",
     "status": "completed"
    },
    "tags": []
   },
   "source": [
    "**Random**"
   ]
  },
  {
   "cell_type": "code",
   "execution_count": 21,
   "id": "7fa31ca3",
   "metadata": {
    "execution": {
     "iopub.execute_input": "2022-02-14T16:41:31.506797Z",
     "iopub.status.busy": "2022-02-14T16:41:31.505122Z",
     "iopub.status.idle": "2022-02-14T16:41:31.510585Z",
     "shell.execute_reply": "2022-02-14T16:41:31.509812Z",
     "shell.execute_reply.started": "2022-02-14T16:05:29.825272Z"
    },
    "papermill": {
     "duration": 0.038218,
     "end_time": "2022-02-14T16:41:31.510772",
     "exception": false,
     "start_time": "2022-02-14T16:41:31.472554",
     "status": "completed"
    },
    "tags": []
   },
   "outputs": [
    {
     "name": "stdout",
     "output_type": "stream",
     "text": [
      "[ 5  6  7  8  9 10 11 12 13 14]\n"
     ]
    }
   ],
   "source": [
    "a=np.arange(10)+5\n",
    "print(a)"
   ]
  },
  {
   "cell_type": "code",
   "execution_count": 22,
   "id": "2542db2f",
   "metadata": {
    "execution": {
     "iopub.execute_input": "2022-02-14T16:41:31.574508Z",
     "iopub.status.busy": "2022-02-14T16:41:31.573901Z",
     "iopub.status.idle": "2022-02-14T16:41:31.576869Z",
     "shell.execute_reply": "2022-02-14T16:41:31.577390Z",
     "shell.execute_reply.started": "2022-02-14T16:05:32.950480Z"
    },
    "papermill": {
     "duration": 0.036083,
     "end_time": "2022-02-14T16:41:31.577563",
     "exception": false,
     "start_time": "2022-02-14T16:41:31.541480",
     "status": "completed"
    },
    "tags": []
   },
   "outputs": [],
   "source": [
    "import random"
   ]
  },
  {
   "cell_type": "code",
   "execution_count": 23,
   "id": "1d4fd983",
   "metadata": {
    "execution": {
     "iopub.execute_input": "2022-02-14T16:41:31.641603Z",
     "iopub.status.busy": "2022-02-14T16:41:31.640975Z",
     "iopub.status.idle": "2022-02-14T16:41:31.645841Z",
     "shell.execute_reply": "2022-02-14T16:41:31.646465Z",
     "shell.execute_reply.started": "2022-02-14T16:05:56.448697Z"
    },
    "papermill": {
     "duration": 0.03839,
     "end_time": "2022-02-14T16:41:31.646692",
     "exception": false,
     "start_time": "2022-02-14T16:41:31.608302",
     "status": "completed"
    },
    "tags": []
   },
   "outputs": [
    {
     "name": "stdout",
     "output_type": "stream",
     "text": [
      "[12  7 10  5 13  6 14 11  8  9]\n"
     ]
    }
   ],
   "source": [
    "np.random.shuffle(a)\n",
    "print(a)"
   ]
  },
  {
   "cell_type": "code",
   "execution_count": 24,
   "id": "93e5e241",
   "metadata": {
    "execution": {
     "iopub.execute_input": "2022-02-14T16:41:31.713043Z",
     "iopub.status.busy": "2022-02-14T16:41:31.712389Z",
     "iopub.status.idle": "2022-02-14T16:41:31.715833Z",
     "shell.execute_reply": "2022-02-14T16:41:31.715272Z",
     "shell.execute_reply.started": "2022-02-14T16:07:06.208247Z"
    },
    "papermill": {
     "duration": 0.038331,
     "end_time": "2022-02-14T16:41:31.715964",
     "exception": false,
     "start_time": "2022-02-14T16:41:31.677633",
     "status": "completed"
    },
    "tags": []
   },
   "outputs": [
    {
     "name": "stdout",
     "output_type": "stream",
     "text": [
      "[[-0.37396255 -0.40887412  0.92999198]\n",
      " [-0.0695404  -0.10444648 -1.53399986]]\n"
     ]
    }
   ],
   "source": [
    "#return values from standard normal distribution\n",
    "a=np.random.randn(2,3)\n",
    "print(a)"
   ]
  },
  {
   "cell_type": "code",
   "execution_count": 25,
   "id": "a1b422a3",
   "metadata": {
    "execution": {
     "iopub.execute_input": "2022-02-14T16:41:31.782833Z",
     "iopub.status.busy": "2022-02-14T16:41:31.781806Z",
     "iopub.status.idle": "2022-02-14T16:41:31.787707Z",
     "shell.execute_reply": "2022-02-14T16:41:31.788539Z",
     "shell.execute_reply.started": "2022-02-14T16:08:02.071600Z"
    },
    "papermill": {
     "duration": 0.041154,
     "end_time": "2022-02-14T16:41:31.788761",
     "exception": false,
     "start_time": "2022-02-14T16:41:31.747607",
     "status": "completed"
    },
    "tags": []
   },
   "outputs": [
    {
     "name": "stdout",
     "output_type": "stream",
     "text": [
      "[5 5 8]\n"
     ]
    }
   ],
   "source": [
    "a=np.random.randint(5,10,3)\n",
    "print(a)"
   ]
  },
  {
   "cell_type": "code",
   "execution_count": 26,
   "id": "dbc5dbd9",
   "metadata": {
    "execution": {
     "iopub.execute_input": "2022-02-14T16:41:31.857902Z",
     "iopub.status.busy": "2022-02-14T16:41:31.857327Z",
     "iopub.status.idle": "2022-02-14T16:41:31.859986Z",
     "shell.execute_reply": "2022-02-14T16:41:31.860454Z",
     "shell.execute_reply.started": "2022-02-14T16:08:42.151924Z"
    },
    "papermill": {
     "duration": 0.039643,
     "end_time": "2022-02-14T16:41:31.860616",
     "exception": false,
     "start_time": "2022-02-14T16:41:31.820973",
     "status": "completed"
    },
    "tags": []
   },
   "outputs": [
    {
     "name": "stdout",
     "output_type": "stream",
     "text": [
      "7\n"
     ]
    }
   ],
   "source": [
    "element=np.random.choice([1,4,3,2,7,11])\n",
    "print(element)"
   ]
  },
  {
   "cell_type": "code",
   "execution_count": 27,
   "id": "f411434e",
   "metadata": {
    "execution": {
     "iopub.execute_input": "2022-02-14T16:41:31.929139Z",
     "iopub.status.busy": "2022-02-14T16:41:31.928354Z",
     "iopub.status.idle": "2022-02-14T16:41:31.931400Z",
     "shell.execute_reply": "2022-02-14T16:41:31.931833Z",
     "shell.execute_reply.started": "2022-02-14T16:09:54.448992Z"
    },
    "papermill": {
     "duration": 0.040357,
     "end_time": "2022-02-14T16:41:31.931996",
     "exception": false,
     "start_time": "2022-02-14T16:41:31.891639",
     "status": "completed"
    },
    "tags": []
   },
   "outputs": [
    {
     "data": {
      "text/plain": [
       "9"
      ]
     },
     "execution_count": 27,
     "metadata": {},
     "output_type": "execute_result"
    }
   ],
   "source": [
    "np.random.seed(11)#replication\n",
    "np.random.randint(0,10)"
   ]
  },
  {
   "cell_type": "markdown",
   "id": "7c15ceb8",
   "metadata": {
    "papermill": {
     "duration": 0.032651,
     "end_time": "2022-02-14T16:41:31.997287",
     "exception": false,
     "start_time": "2022-02-14T16:41:31.964636",
     "status": "completed"
    },
    "tags": []
   },
   "source": [
    "**Mean,median,std**"
   ]
  },
  {
   "cell_type": "markdown",
   "id": "92e8dd12",
   "metadata": {
    "papermill": {
     "duration": 0.030996,
     "end_time": "2022-02-14T16:41:32.064862",
     "exception": false,
     "start_time": "2022-02-14T16:41:32.033866",
     "status": "completed"
    },
    "tags": []
   },
   "source": []
  },
  {
   "cell_type": "code",
   "execution_count": 28,
   "id": "8719f8f1",
   "metadata": {
    "execution": {
     "iopub.execute_input": "2022-02-14T16:41:32.129913Z",
     "iopub.status.busy": "2022-02-14T16:41:32.129313Z",
     "iopub.status.idle": "2022-02-14T16:41:32.136731Z",
     "shell.execute_reply": "2022-02-14T16:41:32.137457Z",
     "shell.execute_reply.started": "2022-02-14T16:17:52.464434Z"
    },
    "papermill": {
     "duration": 0.042004,
     "end_time": "2022-02-14T16:41:32.137690",
     "exception": false,
     "start_time": "2022-02-14T16:41:32.095686",
     "status": "completed"
    },
    "tags": []
   },
   "outputs": [
    {
     "name": "stdout",
     "output_type": "stream",
     "text": [
      "[[1 2 3 4]\n",
      " [5 6 7 8]]\n",
      "1\n",
      "[1 2 3 4]\n",
      "[0 0]\n",
      "[3 3]\n"
     ]
    }
   ],
   "source": [
    "a=np.array([[1,2,3,4],[5,6,7,8]])\n",
    "print(a)\n",
    "print(np.min(a))\n",
    "print(np.min(a,axis=0))\n",
    "print(np.argmin(a,axis=1))\n",
    "print(np.argmax(a,axis=1))"
   ]
  },
  {
   "cell_type": "code",
   "execution_count": 29,
   "id": "c704a23d",
   "metadata": {
    "execution": {
     "iopub.execute_input": "2022-02-14T16:41:32.206173Z",
     "iopub.status.busy": "2022-02-14T16:41:32.205575Z",
     "iopub.status.idle": "2022-02-14T16:41:32.212118Z",
     "shell.execute_reply": "2022-02-14T16:41:32.212882Z",
     "shell.execute_reply.started": "2022-02-14T16:26:18.294341Z"
    },
    "papermill": {
     "duration": 0.041387,
     "end_time": "2022-02-14T16:41:32.213160",
     "exception": false,
     "start_time": "2022-02-14T16:41:32.171773",
     "status": "completed"
    },
    "tags": []
   },
   "outputs": [
    {
     "name": "stdout",
     "output_type": "stream",
     "text": [
      "3.0 3.0\n",
      "[3. 4. 5. 6.] [2.5 6.5]\n"
     ]
    }
   ],
   "source": [
    "a=np.array([1,2,3,4,5])\n",
    "mean=np.sum(a)/5\n",
    "print(mean,np.mean(a))\n",
    "a=np.array([[1,2,3,4],[5,6,7,8]])\n",
    "print(np.mean(a,axis=0),np.mean(a,axis=1))"
   ]
  },
  {
   "cell_type": "code",
   "execution_count": 30,
   "id": "60b9e844",
   "metadata": {
    "execution": {
     "iopub.execute_input": "2022-02-14T16:41:32.282010Z",
     "iopub.status.busy": "2022-02-14T16:41:32.281397Z",
     "iopub.status.idle": "2022-02-14T16:41:32.289938Z",
     "shell.execute_reply": "2022-02-14T16:41:32.290663Z",
     "shell.execute_reply.started": "2022-02-14T16:40:33.387289Z"
    },
    "papermill": {
     "duration": 0.044046,
     "end_time": "2022-02-14T16:41:32.290900",
     "exception": false,
     "start_time": "2022-02-14T16:41:32.246854",
     "status": "completed"
    },
    "tags": []
   },
   "outputs": [
    {
     "name": "stdout",
     "output_type": "stream",
     "text": [
      "2.4 2.0\n",
      "2.066666666666667\n",
      "1.854723699099141 1.854723699099141\n",
      "3.440000000000001\n"
     ]
    }
   ],
   "source": [
    "c=np.array([1,5,4,2,0])\n",
    "print(np.mean(c),np.median(c))\n",
    "wts=np.array([1,2,3,4,5])\n",
    "print(np.average(c,weights=wts))\n",
    "\n",
    "#standard deviation\n",
    "mystd=np.sqrt(np.mean(abs(c-np.mean(c))**2))\n",
    "print(mystd,np.std(c))\n",
    "\n",
    "print(mystd**2)#variance"
   ]
  },
  {
   "cell_type": "code",
   "execution_count": null,
   "id": "3986eea5",
   "metadata": {
    "papermill": {
     "duration": 0.032368,
     "end_time": "2022-02-14T16:41:32.358525",
     "exception": false,
     "start_time": "2022-02-14T16:41:32.326157",
     "status": "completed"
    },
    "tags": []
   },
   "outputs": [],
   "source": []
  }
 ],
 "metadata": {
  "kernelspec": {
   "display_name": "Python 3",
   "language": "python",
   "name": "python3"
  },
  "language_info": {
   "codemirror_mode": {
    "name": "ipython",
    "version": 3
   },
   "file_extension": ".py",
   "mimetype": "text/x-python",
   "name": "python",
   "nbconvert_exporter": "python",
   "pygments_lexer": "ipython3",
   "version": "3.7.12"
  },
  "papermill": {
   "default_parameters": {},
   "duration": 11.887376,
   "end_time": "2022-02-14T16:41:33.000386",
   "environment_variables": {},
   "exception": null,
   "input_path": "__notebook__.ipynb",
   "output_path": "__notebook__.ipynb",
   "parameters": {},
   "start_time": "2022-02-14T16:41:21.113010",
   "version": "2.3.3"
  }
 },
 "nbformat": 4,
 "nbformat_minor": 5
}
