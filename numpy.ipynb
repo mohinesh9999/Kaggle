{
 "cells": [
  {
   "cell_type": "code",
   "execution_count": 1,
   "id": "a15e86eb",
   "metadata": {
    "_cell_guid": "b1076dfc-b9ad-4769-8c92-a6c4dae69d19",
    "_uuid": "8f2839f25d086af736a60e9eeb907d3b93b6e0e5",
    "execution": {
     "iopub.execute_input": "2022-02-14T15:48:36.646204Z",
     "iopub.status.busy": "2022-02-14T15:48:36.645151Z",
     "iopub.status.idle": "2022-02-14T15:48:36.654050Z",
     "shell.execute_reply": "2022-02-14T15:48:36.654605Z"
    },
    "papermill": {
     "duration": 0.032377,
     "end_time": "2022-02-14T15:48:36.654884",
     "exception": false,
     "start_time": "2022-02-14T15:48:36.622507",
     "status": "completed"
    },
    "tags": []
   },
   "outputs": [],
   "source": [
    "# This Python 3 environment comes with many helpful analytics libraries installed\n",
    "# It is defined by the kaggle/python Docker image: https://github.com/kaggle/docker-python\n",
    "# For example, here's several helpful packages to load\n",
    "\n",
    "import numpy as np # linear algebra\n",
    "import pandas as pd # data processing, CSV file I/O (e.g. pd.read_csv)\n",
    "\n",
    "# Input data files are available in the read-only \"../input/\" directory\n",
    "# For example, running this (by clicking run or pressing Shift+Enter) will list all files under the input directory\n",
    "\n",
    "import os\n",
    "for dirname, _, filenames in os.walk('/kaggle/input'):\n",
    "    for filename in filenames:\n",
    "        print(os.path.join(dirname, filename))\n",
    "\n",
    "# You can write up to 20GB to the current directory (/kaggle/working/) that gets preserved as output when you create a version using \"Save & Run All\" \n",
    "# You can also write temporary files to /kaggle/temp/, but they won't be saved outside of the current session"
   ]
  },
  {
   "cell_type": "code",
   "execution_count": 2,
   "id": "4e57a728",
   "metadata": {
    "execution": {
     "iopub.execute_input": "2022-02-14T15:48:36.692207Z",
     "iopub.status.busy": "2022-02-14T15:48:36.691579Z",
     "iopub.status.idle": "2022-02-14T15:48:36.694783Z",
     "shell.execute_reply": "2022-02-14T15:48:36.695290Z",
     "shell.execute_reply.started": "2022-02-14T15:20:49.485901Z"
    },
    "papermill": {
     "duration": 0.021967,
     "end_time": "2022-02-14T15:48:36.695456",
     "exception": false,
     "start_time": "2022-02-14T15:48:36.673489",
     "status": "completed"
    },
    "tags": []
   },
   "outputs": [],
   "source": [
    "import numpy as np"
   ]
  },
  {
   "cell_type": "code",
   "execution_count": 3,
   "id": "282b1f21",
   "metadata": {
    "execution": {
     "iopub.execute_input": "2022-02-14T15:48:36.730174Z",
     "iopub.status.busy": "2022-02-14T15:48:36.729591Z",
     "iopub.status.idle": "2022-02-14T15:48:36.735050Z",
     "shell.execute_reply": "2022-02-14T15:48:36.735582Z",
     "shell.execute_reply.started": "2022-02-14T15:21:49.992923Z"
    },
    "papermill": {
     "duration": 0.024344,
     "end_time": "2022-02-14T15:48:36.735811",
     "exception": false,
     "start_time": "2022-02-14T15:48:36.711467",
     "status": "completed"
    },
    "tags": []
   },
   "outputs": [
    {
     "name": "stdout",
     "output_type": "stream",
     "text": [
      "[1 2 3 4 5]\n",
      "<class 'numpy.ndarray'>\n",
      "(5,)\n"
     ]
    }
   ],
   "source": [
    "a=np.array([1,2,3,4,5])\n",
    "print(a,type(a),a.shape,sep='\\n')"
   ]
  },
  {
   "cell_type": "code",
   "execution_count": 4,
   "id": "2d846436",
   "metadata": {
    "execution": {
     "iopub.execute_input": "2022-02-14T15:48:36.776143Z",
     "iopub.status.busy": "2022-02-14T15:48:36.775377Z",
     "iopub.status.idle": "2022-02-14T15:48:36.779465Z",
     "shell.execute_reply": "2022-02-14T15:48:36.778746Z",
     "shell.execute_reply.started": "2022-02-14T15:22:44.597575Z"
    },
    "papermill": {
     "duration": 0.025756,
     "end_time": "2022-02-14T15:48:36.779649",
     "exception": false,
     "start_time": "2022-02-14T15:48:36.753893",
     "status": "completed"
    },
    "tags": []
   },
   "outputs": [
    {
     "name": "stdout",
     "output_type": "stream",
     "text": [
      "[[1]\n",
      " [2]\n",
      " [3]\n",
      " [4]\n",
      " [5]] (5, 1)\n"
     ]
    }
   ],
   "source": [
    "b=np.array([[1],[2],[3],[4],[5]])\n",
    "print(b,b.shape)"
   ]
  },
  {
   "cell_type": "code",
   "execution_count": 5,
   "id": "77ae1cfb",
   "metadata": {
    "execution": {
     "iopub.execute_input": "2022-02-14T15:48:36.816732Z",
     "iopub.status.busy": "2022-02-14T15:48:36.816143Z",
     "iopub.status.idle": "2022-02-14T15:48:36.821329Z",
     "shell.execute_reply": "2022-02-14T15:48:36.820556Z",
     "shell.execute_reply.started": "2022-02-14T15:24:57.123582Z"
    },
    "papermill": {
     "duration": 0.02412,
     "end_time": "2022-02-14T15:48:36.821546",
     "exception": false,
     "start_time": "2022-02-14T15:48:36.797426",
     "status": "completed"
    },
    "tags": []
   },
   "outputs": [
    {
     "name": "stdout",
     "output_type": "stream",
     "text": [
      "(2, 3)\n",
      "6\n"
     ]
    }
   ],
   "source": [
    "c=np.array([[1,2,3],[4,6,6]])\n",
    "print(c.shape)\n",
    "print(c[1][1])"
   ]
  },
  {
   "cell_type": "code",
   "execution_count": 6,
   "id": "f616e6ed",
   "metadata": {
    "execution": {
     "iopub.execute_input": "2022-02-14T15:48:36.861819Z",
     "iopub.status.busy": "2022-02-14T15:48:36.860901Z",
     "iopub.status.idle": "2022-02-14T15:48:36.869282Z",
     "shell.execute_reply": "2022-02-14T15:48:36.868684Z",
     "shell.execute_reply.started": "2022-02-14T15:27:14.187092Z"
    },
    "papermill": {
     "duration": 0.028176,
     "end_time": "2022-02-14T15:48:36.869423",
     "exception": false,
     "start_time": "2022-02-14T15:48:36.841247",
     "status": "completed"
    },
    "tags": []
   },
   "outputs": [
    {
     "name": "stdout",
     "output_type": "stream",
     "text": [
      "[[0. 0. 0.]\n",
      " [0. 0. 0.]\n",
      " [0. 0. 0.]]\n",
      "[[1. 1. 1.]\n",
      " [1. 1. 1.]]\n",
      "[[2 2 2]\n",
      " [2 2 2]\n",
      " [2 2 2]]\n",
      "[[1. 0. 0. 0.]\n",
      " [0. 1. 0. 0.]\n",
      " [0. 0. 1. 0.]\n",
      " [0. 0. 0. 1.]]\n",
      "[[0.17679416 0.13901944 0.01969573]\n",
      " [0.12751571 0.22484748 0.79886546]]\n"
     ]
    }
   ],
   "source": [
    "#zeroes,ones,custom\n",
    "a=np.zeros((3,3))\n",
    "print(a)\n",
    "b=np.ones((2,3))\n",
    "print(b)\n",
    "c=np.full((3,3),2)\n",
    "print(c)\n",
    "#identity matrix :-sq mat\n",
    "d=np.eye(4)\n",
    "print(d)\n",
    "#random\n",
    "randomMatrix=np.random.random((2,3))\n",
    "print(randomMatrix)"
   ]
  },
  {
   "cell_type": "code",
   "execution_count": 7,
   "id": "9f9bf0fa",
   "metadata": {
    "execution": {
     "iopub.execute_input": "2022-02-14T15:48:36.907944Z",
     "iopub.status.busy": "2022-02-14T15:48:36.907359Z",
     "iopub.status.idle": "2022-02-14T15:48:36.911902Z",
     "shell.execute_reply": "2022-02-14T15:48:36.912712Z",
     "shell.execute_reply.started": "2022-02-14T15:28:17.726790Z"
    },
    "papermill": {
     "duration": 0.026217,
     "end_time": "2022-02-14T15:48:36.912943",
     "exception": false,
     "start_time": "2022-02-14T15:48:36.886726",
     "status": "completed"
    },
    "tags": []
   },
   "outputs": [
    {
     "name": "stdout",
     "output_type": "stream",
     "text": [
      "[[0.13901944]\n",
      " [0.22484748]]\n"
     ]
    }
   ],
   "source": [
    "print(randomMatrix[0:2,1:2])"
   ]
  },
  {
   "cell_type": "code",
   "execution_count": 8,
   "id": "ce0a7f72",
   "metadata": {
    "execution": {
     "iopub.execute_input": "2022-02-14T15:48:36.951413Z",
     "iopub.status.busy": "2022-02-14T15:48:36.950807Z",
     "iopub.status.idle": "2022-02-14T15:48:36.956504Z",
     "shell.execute_reply": "2022-02-14T15:48:36.955918Z",
     "shell.execute_reply.started": "2022-02-14T15:29:31.032915Z"
    },
    "papermill": {
     "duration": 0.025348,
     "end_time": "2022-02-14T15:48:36.956638",
     "exception": false,
     "start_time": "2022-02-14T15:48:36.931290",
     "status": "completed"
    },
    "tags": []
   },
   "outputs": [
    {
     "name": "stdout",
     "output_type": "stream",
     "text": [
      "[[0.17679416 0.13901944 0.01969573]\n",
      " [0.12751571 1.         1.        ]]\n"
     ]
    }
   ],
   "source": [
    "randomMatrix[1,1:]=1\n",
    "print(randomMatrix)"
   ]
  },
  {
   "cell_type": "code",
   "execution_count": 9,
   "id": "9761052b",
   "metadata": {
    "execution": {
     "iopub.execute_input": "2022-02-14T15:48:36.999120Z",
     "iopub.status.busy": "2022-02-14T15:48:36.998490Z",
     "iopub.status.idle": "2022-02-14T15:48:37.001729Z",
     "shell.execute_reply": "2022-02-14T15:48:37.002111Z",
     "shell.execute_reply.started": "2022-02-14T15:33:15.418245Z"
    },
    "papermill": {
     "duration": 0.027061,
     "end_time": "2022-02-14T15:48:37.002318",
     "exception": false,
     "start_time": "2022-02-14T15:48:36.975257",
     "status": "completed"
    },
    "tags": []
   },
   "outputs": [
    {
     "name": "stdout",
     "output_type": "stream",
     "text": [
      "[[0. 0. 0.]\n",
      " [0. 0. 0.]\n",
      " [0. 0. 0.]]\n",
      "[[0. 0. 8.]\n",
      " [1. 1. 8.]\n",
      " [0. 0. 8.]]\n"
     ]
    }
   ],
   "source": [
    "##set some rows and cols Slicing\n",
    "z=np.zeros((3,3))\n",
    "print(z)\n",
    "z[1,:]=1\n",
    "z[:,-1]=8\n",
    "print(z)"
   ]
  },
  {
   "cell_type": "code",
   "execution_count": 10,
   "id": "4adf1f99",
   "metadata": {
    "execution": {
     "iopub.execute_input": "2022-02-14T15:48:37.043139Z",
     "iopub.status.busy": "2022-02-14T15:48:37.042573Z",
     "iopub.status.idle": "2022-02-14T15:48:37.045691Z",
     "shell.execute_reply": "2022-02-14T15:48:37.046149Z",
     "shell.execute_reply.started": "2022-02-14T15:33:16.897319Z"
    },
    "papermill": {
     "duration": 0.026034,
     "end_time": "2022-02-14T15:48:37.046323",
     "exception": false,
     "start_time": "2022-02-14T15:48:37.020289",
     "status": "completed"
    },
    "tags": []
   },
   "outputs": [
    {
     "name": "stdout",
     "output_type": "stream",
     "text": [
      "float64\n",
      "int64\n"
     ]
    }
   ],
   "source": [
    "#DataTypes\n",
    "print(z.dtype)\n",
    "z=np.zeros((3,3),dtype=np.int64)\n",
    "print(z.dtype)"
   ]
  },
  {
   "cell_type": "code",
   "execution_count": 11,
   "id": "7561ad7c",
   "metadata": {
    "execution": {
     "iopub.execute_input": "2022-02-14T15:48:37.092239Z",
     "iopub.status.busy": "2022-02-14T15:48:37.091674Z",
     "iopub.status.idle": "2022-02-14T15:48:37.093996Z",
     "shell.execute_reply": "2022-02-14T15:48:37.094465Z",
     "shell.execute_reply.started": "2022-02-14T15:36:40.536605Z"
    },
    "papermill": {
     "duration": 0.028266,
     "end_time": "2022-02-14T15:48:37.094630",
     "exception": false,
     "start_time": "2022-02-14T15:48:37.066364",
     "status": "completed"
    },
    "tags": []
   },
   "outputs": [
    {
     "name": "stdout",
     "output_type": "stream",
     "text": [
      "[[ 6  8]\n",
      " [10 12]]\n",
      "[[ 5 12]\n",
      " [21 32]]\n",
      "[[0.2        0.33333333]\n",
      " [0.42857143 0.5       ]]\n",
      "[[1.         1.41421356]\n",
      " [1.73205081 2.        ]]\n"
     ]
    }
   ],
   "source": [
    "#mathematical opn\n",
    "\n",
    "x=np.array([[1,2],[3,4]])\n",
    "y=np.array([[5,6],[7,8]])\n",
    "print(x+y)#np.add\n",
    "print(x*y)#np.subtract\n",
    "print(x/y)\n",
    "print(np.sqrt(x))"
   ]
  },
  {
   "cell_type": "code",
   "execution_count": 12,
   "id": "0dc36b69",
   "metadata": {
    "execution": {
     "iopub.execute_input": "2022-02-14T15:48:37.136742Z",
     "iopub.status.busy": "2022-02-14T15:48:37.136083Z",
     "iopub.status.idle": "2022-02-14T15:48:37.139461Z",
     "shell.execute_reply": "2022-02-14T15:48:37.138865Z",
     "shell.execute_reply.started": "2022-02-14T15:37:35.491396Z"
    },
    "papermill": {
     "duration": 0.02629,
     "end_time": "2022-02-14T15:48:37.139598",
     "exception": false,
     "start_time": "2022-02-14T15:48:37.113308",
     "status": "completed"
    },
    "tags": []
   },
   "outputs": [
    {
     "name": "stdout",
     "output_type": "stream",
     "text": [
      "[[19 22]\n",
      " [43 50]]\n",
      "[[19 22]\n",
      " [43 50]]\n"
     ]
    }
   ],
   "source": [
    "#matmul / dot product\n",
    "print(x.dot(y))\n",
    "print(np.dot(x,y))"
   ]
  },
  {
   "cell_type": "code",
   "execution_count": 13,
   "id": "48646ecb",
   "metadata": {
    "execution": {
     "iopub.execute_input": "2022-02-14T15:48:37.182431Z",
     "iopub.status.busy": "2022-02-14T15:48:37.181790Z",
     "iopub.status.idle": "2022-02-14T15:48:37.184477Z",
     "shell.execute_reply": "2022-02-14T15:48:37.183937Z",
     "shell.execute_reply.started": "2022-02-14T15:44:43.391176Z"
    },
    "papermill": {
     "duration": 0.026002,
     "end_time": "2022-02-14T15:48:37.184602",
     "exception": false,
     "start_time": "2022-02-14T15:48:37.158600",
     "status": "completed"
    },
    "tags": []
   },
   "outputs": [
    {
     "name": "stdout",
     "output_type": "stream",
     "text": [
      "30\n"
     ]
    }
   ],
   "source": [
    "a=np.array([1,2,3,4])\n",
    "b=np.array([1,2,3,4])\n",
    "print(np.dot(a,b))#scaler"
   ]
  },
  {
   "cell_type": "code",
   "execution_count": 14,
   "id": "d6361619",
   "metadata": {
    "execution": {
     "iopub.execute_input": "2022-02-14T15:48:37.227271Z",
     "iopub.status.busy": "2022-02-14T15:48:37.226669Z",
     "iopub.status.idle": "2022-02-14T15:48:37.230001Z",
     "shell.execute_reply": "2022-02-14T15:48:37.229253Z",
     "shell.execute_reply.started": "2022-02-14T15:44:45.694625Z"
    },
    "papermill": {
     "duration": 0.026603,
     "end_time": "2022-02-14T15:48:37.230181",
     "exception": false,
     "start_time": "2022-02-14T15:48:37.203578",
     "status": "completed"
    },
    "tags": []
   },
   "outputs": [
    {
     "name": "stdout",
     "output_type": "stream",
     "text": [
      "10\n",
      "10\n"
     ]
    }
   ],
   "source": [
    "print(sum(a))\n",
    "print(np.sum(a))\n"
   ]
  },
  {
   "cell_type": "code",
   "execution_count": 15,
   "id": "8884d762",
   "metadata": {
    "execution": {
     "iopub.execute_input": "2022-02-14T15:48:37.274648Z",
     "iopub.status.busy": "2022-02-14T15:48:37.274041Z",
     "iopub.status.idle": "2022-02-14T15:48:37.279168Z",
     "shell.execute_reply": "2022-02-14T15:48:37.278555Z",
     "shell.execute_reply.started": "2022-02-14T15:44:49.106521Z"
    },
    "papermill": {
     "duration": 0.028465,
     "end_time": "2022-02-14T15:48:37.279320",
     "exception": false,
     "start_time": "2022-02-14T15:48:37.250855",
     "status": "completed"
    },
    "tags": []
   },
   "outputs": [
    {
     "name": "stdout",
     "output_type": "stream",
     "text": [
      "10\n",
      "[3 7]\n",
      "[4 6]\n"
     ]
    }
   ],
   "source": [
    "x\n",
    "print(np.sum(x))\n",
    "print(np.sum(x,axis=1))\n",
    "print(np.sum(x,axis=0))"
   ]
  },
  {
   "cell_type": "code",
   "execution_count": 16,
   "id": "d401b737",
   "metadata": {
    "execution": {
     "iopub.execute_input": "2022-02-14T15:48:37.324415Z",
     "iopub.status.busy": "2022-02-14T15:48:37.323831Z",
     "iopub.status.idle": "2022-02-14T15:48:37.327136Z",
     "shell.execute_reply": "2022-02-14T15:48:37.327723Z",
     "shell.execute_reply.started": "2022-02-14T15:44:50.371604Z"
    },
    "papermill": {
     "duration": 0.0284,
     "end_time": "2022-02-14T15:48:37.327883",
     "exception": false,
     "start_time": "2022-02-14T15:48:37.299483",
     "status": "completed"
    },
    "tags": []
   },
   "outputs": [
    {
     "name": "stdout",
     "output_type": "stream",
     "text": [
      "[1 2 3 4] [1 2 3 4]\n",
      "[ 1  4  9 16]\n"
     ]
    }
   ],
   "source": [
    "#stack\n",
    "print(a,b)\n",
    "b=b**2\n",
    "print(b)"
   ]
  },
  {
   "cell_type": "code",
   "execution_count": 17,
   "id": "3e272e68",
   "metadata": {
    "execution": {
     "iopub.execute_input": "2022-02-14T15:48:37.370726Z",
     "iopub.status.busy": "2022-02-14T15:48:37.370143Z",
     "iopub.status.idle": "2022-02-14T15:48:37.378538Z",
     "shell.execute_reply": "2022-02-14T15:48:37.378936Z",
     "shell.execute_reply.started": "2022-02-14T15:44:24.218693Z"
    },
    "papermill": {
     "duration": 0.031224,
     "end_time": "2022-02-14T15:48:37.379096",
     "exception": false,
     "start_time": "2022-02-14T15:48:37.347872",
     "status": "completed"
    },
    "tags": []
   },
   "outputs": [
    {
     "name": "stdout",
     "output_type": "stream",
     "text": [
      "[[ 1  2  3  4]\n",
      " [ 1  4  9 16]]\n"
     ]
    },
    {
     "data": {
      "text/plain": [
       "array([[ 1,  1],\n",
       "       [ 2,  4],\n",
       "       [ 3,  9],\n",
       "       [ 4, 16]])"
      ]
     },
     "execution_count": 17,
     "metadata": {},
     "output_type": "execute_result"
    }
   ],
   "source": [
    "print(np.stack((a,b),axis=0))\n",
    "np.stack((a,b),axis=1)"
   ]
  },
  {
   "cell_type": "code",
   "execution_count": 18,
   "id": "7c161a64",
   "metadata": {
    "execution": {
     "iopub.execute_input": "2022-02-14T15:48:37.424771Z",
     "iopub.status.busy": "2022-02-14T15:48:37.424214Z",
     "iopub.status.idle": "2022-02-14T15:48:37.427499Z",
     "shell.execute_reply": "2022-02-14T15:48:37.426877Z",
     "shell.execute_reply.started": "2022-02-14T15:44:52.211119Z"
    },
    "papermill": {
     "duration": 0.028254,
     "end_time": "2022-02-14T15:48:37.427633",
     "exception": false,
     "start_time": "2022-02-14T15:48:37.399379",
     "status": "completed"
    },
    "tags": []
   },
   "outputs": [
    {
     "name": "stdout",
     "output_type": "stream",
     "text": [
      "[[ 1  2]\n",
      " [ 3  4]\n",
      " [ 1  4]\n",
      " [ 9 16]]\n"
     ]
    }
   ],
   "source": [
    "#reshape\n",
    "a=np.stack((a,b),axis=0)\n",
    "a=a.reshape((4,2))\n",
    "print(a)"
   ]
  },
  {
   "cell_type": "code",
   "execution_count": 19,
   "id": "3d8cc33d",
   "metadata": {
    "execution": {
     "iopub.execute_input": "2022-02-14T15:48:37.471908Z",
     "iopub.status.busy": "2022-02-14T15:48:37.471346Z",
     "iopub.status.idle": "2022-02-14T15:48:37.476341Z",
     "shell.execute_reply": "2022-02-14T15:48:37.476796Z",
     "shell.execute_reply.started": "2022-02-14T15:45:28.983758Z"
    },
    "papermill": {
     "duration": 0.028578,
     "end_time": "2022-02-14T15:48:37.476960",
     "exception": false,
     "start_time": "2022-02-14T15:48:37.448382",
     "status": "completed"
    },
    "tags": []
   },
   "outputs": [
    {
     "data": {
      "text/plain": [
       "array([[ 1,  2,  3,  4,  1,  4,  9, 16]])"
      ]
     },
     "execution_count": 19,
     "metadata": {},
     "output_type": "execute_result"
    }
   ],
   "source": [
    "a.reshape((1,8))"
   ]
  },
  {
   "cell_type": "code",
   "execution_count": 20,
   "id": "070195e8",
   "metadata": {
    "execution": {
     "iopub.execute_input": "2022-02-14T15:48:37.524600Z",
     "iopub.status.busy": "2022-02-14T15:48:37.523980Z",
     "iopub.status.idle": "2022-02-14T15:48:37.526304Z",
     "shell.execute_reply": "2022-02-14T15:48:37.526721Z",
     "shell.execute_reply.started": "2022-02-14T15:46:53.619025Z"
    },
    "papermill": {
     "duration": 0.028586,
     "end_time": "2022-02-14T15:48:37.526874",
     "exception": false,
     "start_time": "2022-02-14T15:48:37.498288",
     "status": "completed"
    },
    "tags": []
   },
   "outputs": [
    {
     "data": {
      "text/plain": [
       "array([[[ 1,  2],\n",
       "        [ 3,  4]],\n",
       "\n",
       "       [[ 1,  4],\n",
       "        [ 9, 16]]])"
      ]
     },
     "execution_count": 20,
     "metadata": {},
     "output_type": "execute_result"
    }
   ],
   "source": [
    "a.reshape((2,2,2))"
   ]
  },
  {
   "cell_type": "code",
   "execution_count": null,
   "id": "d1ee3b14",
   "metadata": {
    "papermill": {
     "duration": 0.021247,
     "end_time": "2022-02-14T15:48:37.569263",
     "exception": false,
     "start_time": "2022-02-14T15:48:37.548016",
     "status": "completed"
    },
    "tags": []
   },
   "outputs": [],
   "source": []
  }
 ],
 "metadata": {
  "kernelspec": {
   "display_name": "Python 3",
   "language": "python",
   "name": "python3"
  },
  "language_info": {
   "codemirror_mode": {
    "name": "ipython",
    "version": 3
   },
   "file_extension": ".py",
   "mimetype": "text/x-python",
   "name": "python",
   "nbconvert_exporter": "python",
   "pygments_lexer": "ipython3",
   "version": "3.7.12"
  },
  "papermill": {
   "default_parameters": {},
   "duration": 10.293839,
   "end_time": "2022-02-14T15:48:38.200809",
   "environment_variables": {},
   "exception": null,
   "input_path": "__notebook__.ipynb",
   "output_path": "__notebook__.ipynb",
   "parameters": {},
   "start_time": "2022-02-14T15:48:27.906970",
   "version": "2.3.3"
  }
 },
 "nbformat": 4,
 "nbformat_minor": 5
}
