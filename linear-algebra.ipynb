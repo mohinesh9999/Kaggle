{
 "cells": [
  {
   "cell_type": "code",
   "execution_count": 1,
   "id": "99a35788",
   "metadata": {
    "_cell_guid": "b1076dfc-b9ad-4769-8c92-a6c4dae69d19",
    "_uuid": "8f2839f25d086af736a60e9eeb907d3b93b6e0e5",
    "execution": {
     "iopub.execute_input": "2022-02-15T15:36:26.894405Z",
     "iopub.status.busy": "2022-02-15T15:36:26.893110Z",
     "iopub.status.idle": "2022-02-15T15:36:26.901946Z",
     "shell.execute_reply": "2022-02-15T15:36:26.902399Z"
    },
    "papermill": {
     "duration": 0.02623,
     "end_time": "2022-02-15T15:36:26.902717",
     "exception": false,
     "start_time": "2022-02-15T15:36:26.876487",
     "status": "completed"
    },
    "tags": []
   },
   "outputs": [],
   "source": [
    "# This Python 3 environment comes with many helpful analytics libraries installed\n",
    "# It is defined by the kaggle/python Docker image: https://github.com/kaggle/docker-python\n",
    "# For example, here's several helpful packages to load\n",
    "\n",
    "import numpy as np # linear algebra\n",
    "import pandas as pd # data processing, CSV file I/O (e.g. pd.read_csv)\n",
    "\n",
    "# Input data files are available in the read-only \"../input/\" directory\n",
    "# For example, running this (by clicking run or pressing Shift+Enter) will list all files under the input directory\n",
    "\n",
    "import os\n",
    "for dirname, _, filenames in os.walk('/kaggle/input'):\n",
    "    for filename in filenames:\n",
    "        print(os.path.join(dirname, filename))\n",
    "\n",
    "# You can write up to 20GB to the current directory (/kaggle/working/) that gets preserved as output when you create a version using \"Save & Run All\" \n",
    "# You can also write temporary files to /kaggle/temp/, but they won't be saved outside of the current session"
   ]
  },
  {
   "cell_type": "code",
   "execution_count": 2,
   "id": "5385292a",
   "metadata": {
    "execution": {
     "iopub.execute_input": "2022-02-15T15:36:26.930097Z",
     "iopub.status.busy": "2022-02-15T15:36:26.929515Z",
     "iopub.status.idle": "2022-02-15T15:36:26.937054Z",
     "shell.execute_reply": "2022-02-15T15:36:26.937774Z",
     "shell.execute_reply.started": "2022-02-15T14:34:34.955030Z"
    },
    "papermill": {
     "duration": 0.022988,
     "end_time": "2022-02-15T15:36:26.938078",
     "exception": false,
     "start_time": "2022-02-15T15:36:26.915090",
     "status": "completed"
    },
    "tags": []
   },
   "outputs": [
    {
     "name": "stdout",
     "output_type": "stream",
     "text": [
      "[4 5 6]\n",
      "[[4]\n",
      " [5]\n",
      " [6]]\n"
     ]
    }
   ],
   "source": [
    "x=5#scaler\n",
    "import numpy as np\n",
    "x=np.array([4,5,6])\n",
    "print(x)\n",
    "x=np.array([[4],[5],[6]])#vector\n",
    "print(x)"
   ]
  },
  {
   "cell_type": "raw",
   "id": "17fe193b",
   "metadata": {
    "papermill": {
     "duration": 0.011775,
     "end_time": "2022-02-15T15:36:26.963956",
     "exception": false,
     "start_time": "2022-02-15T15:36:26.952181",
     "status": "completed"
    },
    "tags": []
   },
   "source": [
    "#tensor\n",
    "T=np.ones((5,5,3))\n",
    "print(T)"
   ]
  },
  {
   "cell_type": "code",
   "execution_count": 3,
   "id": "93926cc5",
   "metadata": {
    "execution": {
     "iopub.execute_input": "2022-02-15T15:36:26.993115Z",
     "iopub.status.busy": "2022-02-15T15:36:26.992387Z",
     "iopub.status.idle": "2022-02-15T15:36:27.145464Z",
     "shell.execute_reply": "2022-02-15T15:36:27.145995Z",
     "shell.execute_reply.started": "2022-02-15T14:44:47.064851Z"
    },
    "papermill": {
     "duration": 0.170024,
     "end_time": "2022-02-15T15:36:27.146210",
     "exception": false,
     "start_time": "2022-02-15T15:36:26.976186",
     "status": "completed"
    },
    "tags": []
   },
   "outputs": [
    {
     "name": "stdout",
     "output_type": "stream",
     "text": [
      "[[[0 0 0]\n",
      "  [0 0 0]\n",
      "  [0 0 0]\n",
      "  [0 0 0]\n",
      "  [0 0 0]]\n",
      "\n",
      " [[0 0 0]\n",
      "  [0 0 0]\n",
      "  [0 0 0]\n",
      "  [0 0 0]\n",
      "  [0 0 0]]\n",
      "\n",
      " [[0 0 0]\n",
      "  [0 0 0]\n",
      "  [0 0 0]\n",
      "  [0 0 0]\n",
      "  [0 0 0]]\n",
      "\n",
      " [[0 0 0]\n",
      "  [0 0 0]\n",
      "  [0 0 0]\n",
      "  [0 0 0]\n",
      "  [0 0 0]]\n",
      "\n",
      " [[0 0 0]\n",
      "  [0 0 0]\n",
      "  [0 0 0]\n",
      "  [0 0 0]\n",
      "  [0 0 0]]]\n"
     ]
    },
    {
     "data": {
      "image/png": "[encoded data removed]",
      "text/plain": [
       "<Figure size 432x288 with 1 Axes>"
      ]
     },
     "metadata": {
      "needs_background": "light"
     },
     "output_type": "display_data"
    }
   ],
   "source": [
    "#tensor\n",
    "T=np.zeros((5,5,3),dtype='uint8')\n",
    "print(T)\n",
    "T[:,:,0]=255\n",
    "import matplotlib.pyplot as plt\n",
    "plt.imshow(T)\n",
    "plt.show()"
   ]
  },
  {
   "cell_type": "code",
   "execution_count": 4,
   "id": "9060ff54",
   "metadata": {
    "execution": {
     "iopub.execute_input": "2022-02-15T15:36:27.177486Z",
     "iopub.status.busy": "2022-02-15T15:36:27.176735Z",
     "iopub.status.idle": "2022-02-15T15:36:27.182539Z",
     "shell.execute_reply": "2022-02-15T15:36:27.182083Z",
     "shell.execute_reply.started": "2022-02-15T14:46:46.027393Z"
    },
    "papermill": {
     "duration": 0.022599,
     "end_time": "2022-02-15T15:36:27.182694",
     "exception": false,
     "start_time": "2022-02-15T15:36:27.160095",
     "status": "completed"
    },
    "tags": []
   },
   "outputs": [
    {
     "data": {
      "text/plain": [
       "array([[4, 5, 6]])"
      ]
     },
     "execution_count": 4,
     "metadata": {},
     "output_type": "execute_result"
    }
   ],
   "source": [
    "#transpose (1,3)=>(3,1)\n",
    "x.T"
   ]
  },
  {
   "cell_type": "code",
   "execution_count": 5,
   "id": "dfa5354e",
   "metadata": {
    "execution": {
     "iopub.execute_input": "2022-02-15T15:36:27.213543Z",
     "iopub.status.busy": "2022-02-15T15:36:27.212949Z",
     "iopub.status.idle": "2022-02-15T15:36:27.460907Z",
     "shell.execute_reply": "2022-02-15T15:36:27.461482Z",
     "shell.execute_reply.started": "2022-02-15T14:50:59.179940Z"
    },
    "papermill": {
     "duration": 0.265371,
     "end_time": "2022-02-15T15:36:27.461699",
     "exception": false,
     "start_time": "2022-02-15T15:36:27.196328",
     "status": "completed"
    },
    "tags": []
   },
   "outputs": [
    {
     "name": "stdout",
     "output_type": "stream",
     "text": [
      "[[[0 0 0]\n",
      "  [0 0 0]\n",
      "  [0 0 0]\n",
      "  ...\n",
      "  [0 0 0]\n",
      "  [0 0 0]\n",
      "  [0 0 0]]\n",
      "\n",
      " [[0 0 0]\n",
      "  [0 0 0]\n",
      "  [0 0 0]\n",
      "  ...\n",
      "  [0 0 0]\n",
      "  [0 0 0]\n",
      "  [0 0 0]]\n",
      "\n",
      " [[0 0 0]\n",
      "  [0 0 0]\n",
      "  [0 0 0]\n",
      "  ...\n",
      "  [0 0 0]\n",
      "  [0 0 0]\n",
      "  [0 0 0]]\n",
      "\n",
      " ...\n",
      "\n",
      " [[0 0 0]\n",
      "  [0 0 0]\n",
      "  [0 0 0]\n",
      "  ...\n",
      "  [0 0 0]\n",
      "  [0 0 0]\n",
      "  [0 0 0]]\n",
      "\n",
      " [[0 0 0]\n",
      "  [0 0 0]\n",
      "  [0 0 0]\n",
      "  ...\n",
      "  [0 0 0]\n",
      "  [0 0 0]\n",
      "  [0 0 0]]\n",
      "\n",
      " [[0 0 0]\n",
      "  [0 0 0]\n",
      "  [0 0 0]\n",
      "  ...\n",
      "  [0 0 0]\n",
      "  [0 0 0]\n",
      "  [0 0 0]]]\n"
     ]
    },
    {
     "data": {
      "image/png": "[encoded data removed]",
      "text/plain": [
       "<Figure size 432x288 with 1 Axes>"
      ]
     },
     "metadata": {
      "needs_background": "light"
     },
     "output_type": "display_data"
    }
   ],
   "source": [
    "#transpose of tensor\n",
    "\n",
    "T=np.zeros((50,25,3),dtype='uint8')\n",
    "print(T)\n",
    "T[:,:,0]=255\n",
    "import matplotlib.pyplot as plt\n",
    "plt.imshow(T)\n",
    "plt.show()"
   ]
  },
  {
   "cell_type": "code",
   "execution_count": 6,
   "id": "5cc2f179",
   "metadata": {
    "execution": {
     "iopub.execute_input": "2022-02-15T15:36:27.498174Z",
     "iopub.status.busy": "2022-02-15T15:36:27.497019Z",
     "iopub.status.idle": "2022-02-15T15:36:27.504078Z",
     "shell.execute_reply": "2022-02-15T15:36:27.504778Z",
     "shell.execute_reply.started": "2022-02-15T14:56:48.512275Z"
    },
    "papermill": {
     "duration": 0.027265,
     "end_time": "2022-02-15T15:36:27.505008",
     "exception": false,
     "start_time": "2022-02-15T15:36:27.477743",
     "status": "completed"
    },
    "tags": []
   },
   "outputs": [
    {
     "name": "stdout",
     "output_type": "stream",
     "text": [
      "(50, 25, 3)\n",
      "(3, 50, 25) (25,)\n"
     ]
    }
   ],
   "source": [
    "print(T.shape)\n",
    "T1=np.transpose(T,axes=(2,0,1)) #permutatuions\n",
    "print(T1.shape,T1[0][0].shape)\n",
    "#plt.imshow(T1)"
   ]
  },
  {
   "cell_type": "code",
   "execution_count": 7,
   "id": "0689430a",
   "metadata": {
    "execution": {
     "iopub.execute_input": "2022-02-15T15:36:27.540296Z",
     "iopub.status.busy": "2022-02-15T15:36:27.539133Z",
     "iopub.status.idle": "2022-02-15T15:36:27.545933Z",
     "shell.execute_reply": "2022-02-15T15:36:27.546719Z",
     "shell.execute_reply.started": "2022-02-15T15:03:12.881969Z"
    },
    "papermill": {
     "duration": 0.026815,
     "end_time": "2022-02-15T15:36:27.547067",
     "exception": false,
     "start_time": "2022-02-15T15:36:27.520252",
     "status": "completed"
    },
    "tags": []
   },
   "outputs": [
    {
     "name": "stdout",
     "output_type": "stream",
     "text": [
      "[6 7 8 9]\n",
      "[12 14 16 18]\n"
     ]
    }
   ],
   "source": [
    "#broadcasting\n",
    "x=np.array([1,2,3,4])+5#added to each location\n",
    "print(x)\n",
    "print(x+x)"
   ]
  },
  {
   "cell_type": "code",
   "execution_count": 8,
   "id": "fe7052d5",
   "metadata": {
    "execution": {
     "iopub.execute_input": "2022-02-15T15:36:27.586308Z",
     "iopub.status.busy": "2022-02-15T15:36:27.585505Z",
     "iopub.status.idle": "2022-02-15T15:36:27.588726Z",
     "shell.execute_reply": "2022-02-15T15:36:27.589226Z",
     "shell.execute_reply.started": "2022-02-15T15:04:49.036661Z"
    },
    "papermill": {
     "duration": 0.025753,
     "end_time": "2022-02-15T15:36:27.589420",
     "exception": false,
     "start_time": "2022-02-15T15:36:27.563667",
     "status": "completed"
    },
    "tags": []
   },
   "outputs": [
    {
     "data": {
      "text/plain": [
       "array([[ 6,  8],\n",
       "       [12, 18]])"
      ]
     },
     "execution_count": 8,
     "metadata": {},
     "output_type": "execute_result"
    }
   ],
   "source": [
    "#matmul\n",
    "a=np.array([[1,2],[3,4]])\n",
    "b=np.array([[0,2],[3,3]])\n",
    "a.dot(b)\n"
   ]
  },
  {
   "cell_type": "code",
   "execution_count": 9,
   "id": "30962905",
   "metadata": {
    "execution": {
     "iopub.execute_input": "2022-02-15T15:36:27.629442Z",
     "iopub.status.busy": "2022-02-15T15:36:27.628519Z",
     "iopub.status.idle": "2022-02-15T15:36:27.632679Z",
     "shell.execute_reply": "2022-02-15T15:36:27.632139Z",
     "shell.execute_reply.started": "2022-02-15T15:30:42.824756Z"
    },
    "papermill": {
     "duration": 0.027615,
     "end_time": "2022-02-15T15:36:27.632848",
     "exception": false,
     "start_time": "2022-02-15T15:36:27.605233",
     "status": "completed"
    },
    "tags": []
   },
   "outputs": [
    {
     "data": {
      "text/plain": [
       "5.477225575051661"
      ]
     },
     "execution_count": 9,
     "metadata": {},
     "output_type": "execute_result"
    }
   ],
   "source": [
    "#Norms\n",
    "a=np.array([1,2,3,4])\n",
    "np.sqrt(a.dot(a.T))#L2 norm"
   ]
  },
  {
   "cell_type": "code",
   "execution_count": 10,
   "id": "c13734c5",
   "metadata": {
    "execution": {
     "iopub.execute_input": "2022-02-15T15:36:27.673534Z",
     "iopub.status.busy": "2022-02-15T15:36:27.672795Z",
     "iopub.status.idle": "2022-02-15T15:36:27.676303Z",
     "shell.execute_reply": "2022-02-15T15:36:27.676756Z",
     "shell.execute_reply.started": "2022-02-15T15:30:44.281857Z"
    },
    "papermill": {
     "duration": 0.026293,
     "end_time": "2022-02-15T15:36:27.676985",
     "exception": false,
     "start_time": "2022-02-15T15:36:27.650692",
     "status": "completed"
    },
    "tags": []
   },
   "outputs": [
    {
     "name": "stdout",
     "output_type": "stream",
     "text": [
      "5.0\n",
      "7.0\n",
      "4.0\n"
     ]
    }
   ],
   "source": [
    "x=np.array([3,4])\n",
    "lp2=np.linalg.norm(x)\n",
    "print(lp2)\n",
    "\n",
    "lp1=np.linalg.norm(x,ord=1)\n",
    "print(lp1)\n",
    "\n",
    "lpinf=np.linalg.norm(x,ord=np.inf)\n",
    "print(lpinf)"
   ]
  },
  {
   "cell_type": "code",
   "execution_count": 11,
   "id": "7e2a7bc3",
   "metadata": {
    "execution": {
     "iopub.execute_input": "2022-02-15T15:36:27.718132Z",
     "iopub.status.busy": "2022-02-15T15:36:27.717360Z",
     "iopub.status.idle": "2022-02-15T15:36:27.721596Z",
     "shell.execute_reply": "2022-02-15T15:36:27.720785Z",
     "shell.execute_reply.started": "2022-02-15T15:25:41.144313Z"
    },
    "papermill": {
     "duration": 0.026721,
     "end_time": "2022-02-15T15:36:27.721772",
     "exception": false,
     "start_time": "2022-02-15T15:36:27.695051",
     "status": "completed"
    },
    "tags": []
   },
   "outputs": [
    {
     "data": {
      "text/plain": [
       "-2.0000000000000004"
      ]
     },
     "execution_count": 11,
     "metadata": {},
     "output_type": "execute_result"
    }
   ],
   "source": [
    "#deterrminant\n",
    "a=np.array([[1,2],[3,4]])\n",
    "np.linalg.det(a)"
   ]
  },
  {
   "cell_type": "code",
   "execution_count": 12,
   "id": "c50c4810",
   "metadata": {
    "execution": {
     "iopub.execute_input": "2022-02-15T15:36:27.775115Z",
     "iopub.status.busy": "2022-02-15T15:36:27.774256Z",
     "iopub.status.idle": "2022-02-15T15:36:27.781929Z",
     "shell.execute_reply": "2022-02-15T15:36:27.781370Z",
     "shell.execute_reply.started": "2022-02-15T15:31:50.427410Z"
    },
    "papermill": {
     "duration": 0.043392,
     "end_time": "2022-02-15T15:36:27.782115",
     "exception": false,
     "start_time": "2022-02-15T15:36:27.738723",
     "status": "completed"
    },
    "tags": []
   },
   "outputs": [
    {
     "name": "stdout",
     "output_type": "stream",
     "text": [
      "[[-2.   1. ]\n",
      " [ 1.5 -0.5]]\n",
      "[[1.00000000e+00 0.00000000e+00]\n",
      " [1.11022302e-16 1.00000000e+00]]\n",
      "[[-2.   1. ]\n",
      " [ 1.5 -0.5]]\n",
      "[[ 1.00000000e+00 -6.66133815e-16]\n",
      " [ 1.77635684e-15  1.00000000e+00]]\n",
      "[[0.048 0.024]\n",
      " [0.064 0.032]]\n"
     ]
    }
   ],
   "source": [
    "#inverse\n",
    "a=np.array([[1,2],\n",
    "            [3,4]])\n",
    "Ainv=np.linalg.inv(a)\n",
    "print(Ainv)\n",
    "print(Ainv.dot(a))\n",
    "\n",
    "#sudo inverse\n",
    "pinv=np.linalg.pinv(a)\n",
    "print(pinv)\n",
    "print(np.dot(a,pinv))\n",
    "a=np.array([[6,8],\n",
    "            [3,4]])\n",
    "pinv=np.linalg.pinv(a)#for Ax=b eqn\n",
    "print(pinv)"
   ]
  },
  {
   "cell_type": "code",
   "execution_count": 13,
   "id": "c740c57c",
   "metadata": {
    "execution": {
     "iopub.execute_input": "2022-02-15T15:36:27.823920Z",
     "iopub.status.busy": "2022-02-15T15:36:27.823224Z",
     "iopub.status.idle": "2022-02-15T15:36:27.834502Z",
     "shell.execute_reply": "2022-02-15T15:36:27.835384Z",
     "shell.execute_reply.started": "2022-02-15T15:35:18.939900Z"
    },
    "papermill": {
     "duration": 0.033874,
     "end_time": "2022-02-15T15:36:27.835793",
     "exception": false,
     "start_time": "2022-02-15T15:36:27.801919",
     "status": "completed"
    },
    "tags": []
   },
   "outputs": [
    {
     "data": {
      "text/plain": [
       "array([1., 2.])"
      ]
     },
     "execution_count": 13,
     "metadata": {},
     "output_type": "execute_result"
    }
   ],
   "source": [
    "#solving system of linear eqn \n",
    "a=np.array([[2,3]\n",
    "           ,[3,1]])\n",
    "b=np.array([8,5])\n",
    "np.linalg.solve(a,b)"
   ]
  },
  {
   "cell_type": "code",
   "execution_count": null,
   "id": "91deec34",
   "metadata": {
    "papermill": {
     "duration": 0.017145,
     "end_time": "2022-02-15T15:36:27.870675",
     "exception": false,
     "start_time": "2022-02-15T15:36:27.853530",
     "status": "completed"
    },
    "tags": []
   },
   "outputs": [],
   "source": []
  }
 ],
 "metadata": {
  "kernelspec": {
   "display_name": "Python 3",
   "language": "python",
   "name": "python3"
  },
  "language_info": {
   "codemirror_mode": {
    "name": "ipython",
    "version": 3
   },
   "file_extension": ".py",
   "mimetype": "text/x-python",
   "name": "python",
   "nbconvert_exporter": "python",
   "pygments_lexer": "ipython3",
   "version": "3.7.12"
  },
  "papermill": {
   "default_parameters": {},
   "duration": 12.281446,
   "end_time": "2022-02-15T15:36:28.800093",
   "environment_variables": {},
   "exception": null,
   "input_path": "__notebook__.ipynb",
   "output_path": "__notebook__.ipynb",
   "parameters": {},
   "start_time": "2022-02-15T15:36:16.518647",
   "version": "2.3.3"
  }
 },
 "nbformat": 4,
 "nbformat_minor": 5
}
