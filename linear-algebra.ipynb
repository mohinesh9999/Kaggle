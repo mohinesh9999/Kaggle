{
 "cells": [
  {
   "cell_type": "code",
   "execution_count": 1,
   "id": "efd293c5",
   "metadata": {
    "_cell_guid": "b1076dfc-b9ad-4769-8c92-a6c4dae69d19",
    "_uuid": "8f2839f25d086af736a60e9eeb907d3b93b6e0e5",
    "execution": {
     "iopub.execute_input": "2022-02-15T14:58:30.468850Z",
     "iopub.status.busy": "2022-02-15T14:58:30.467866Z",
     "iopub.status.idle": "2022-02-15T14:58:30.476412Z",
     "shell.execute_reply": "2022-02-15T14:58:30.477114Z"
    },
    "papermill": {
     "duration": 0.033993,
     "end_time": "2022-02-15T14:58:30.477493",
     "exception": false,
     "start_time": "2022-02-15T14:58:30.443500",
     "status": "completed"
    },
    "tags": []
   },
   "outputs": [],
   "source": [
    "# This Python 3 environment comes with many helpful analytics libraries installed\n",
    "# It is defined by the kaggle/python Docker image: https://github.com/kaggle/docker-python\n",
    "# For example, here's several helpful packages to load\n",
    "\n",
    "import numpy as np # linear algebra\n",
    "import pandas as pd # data processing, CSV file I/O (e.g. pd.read_csv)\n",
    "\n",
    "# Input data files are available in the read-only \"../input/\" directory\n",
    "# For example, running this (by clicking run or pressing Shift+Enter) will list all files under the input directory\n",
    "\n",
    "import os\n",
    "for dirname, _, filenames in os.walk('/kaggle/input'):\n",
    "    for filename in filenames:\n",
    "        print(os.path.join(dirname, filename))\n",
    "\n",
    "# You can write up to 20GB to the current directory (/kaggle/working/) that gets preserved as output when you create a version using \"Save & Run All\" \n",
    "# You can also write temporary files to /kaggle/temp/, but they won't be saved outside of the current session"
   ]
  },
  {
   "cell_type": "code",
   "execution_count": 2,
   "id": "e76471e2",
   "metadata": {
    "execution": {
     "iopub.execute_input": "2022-02-15T14:58:30.506848Z",
     "iopub.status.busy": "2022-02-15T14:58:30.506154Z",
     "iopub.status.idle": "2022-02-15T14:58:30.509924Z",
     "shell.execute_reply": "2022-02-15T14:58:30.510557Z",
     "shell.execute_reply.started": "2022-02-15T14:34:34.955030Z"
    },
    "papermill": {
     "duration": 0.021754,
     "end_time": "2022-02-15T14:58:30.510750",
     "exception": false,
     "start_time": "2022-02-15T14:58:30.488996",
     "status": "completed"
    },
    "tags": []
   },
   "outputs": [
    {
     "name": "stdout",
     "output_type": "stream",
     "text": [
      "[4 5 6]\n",
      "[[4]\n",
      " [5]\n",
      " [6]]\n"
     ]
    }
   ],
   "source": [
    "x=5#scaler\n",
    "import numpy as np\n",
    "x=np.array([4,5,6])\n",
    "print(x)\n",
    "x=np.array([[4],[5],[6]])#vector\n",
    "print(x)"
   ]
  },
  {
   "cell_type": "raw",
   "id": "b492501f",
   "metadata": {
    "papermill": {
     "duration": 0.009187,
     "end_time": "2022-02-15T14:58:30.529764",
     "exception": false,
     "start_time": "2022-02-15T14:58:30.520577",
     "status": "completed"
    },
    "tags": []
   },
   "source": [
    "#tensor\n",
    "T=np.ones((5,5,3))\n",
    "print(T)"
   ]
  },
  {
   "cell_type": "code",
   "execution_count": 3,
   "id": "5144c9ea",
   "metadata": {
    "execution": {
     "iopub.execute_input": "2022-02-15T14:58:30.556655Z",
     "iopub.status.busy": "2022-02-15T14:58:30.551733Z",
     "iopub.status.idle": "2022-02-15T14:58:30.772643Z",
     "shell.execute_reply": "2022-02-15T14:58:30.773160Z",
     "shell.execute_reply.started": "2022-02-15T14:44:47.064851Z"
    },
    "papermill": {
     "duration": 0.234113,
     "end_time": "2022-02-15T14:58:30.773352",
     "exception": false,
     "start_time": "2022-02-15T14:58:30.539239",
     "status": "completed"
    },
    "tags": []
   },
   "outputs": [
    {
     "name": "stdout",
     "output_type": "stream",
     "text": [
      "[[[0 0 0]\n",
      "  [0 0 0]\n",
      "  [0 0 0]\n",
      "  [0 0 0]\n",
      "  [0 0 0]]\n",
      "\n",
      " [[0 0 0]\n",
      "  [0 0 0]\n",
      "  [0 0 0]\n",
      "  [0 0 0]\n",
      "  [0 0 0]]\n",
      "\n",
      " [[0 0 0]\n",
      "  [0 0 0]\n",
      "  [0 0 0]\n",
      "  [0 0 0]\n",
      "  [0 0 0]]\n",
      "\n",
      " [[0 0 0]\n",
      "  [0 0 0]\n",
      "  [0 0 0]\n",
      "  [0 0 0]\n",
      "  [0 0 0]]\n",
      "\n",
      " [[0 0 0]\n",
      "  [0 0 0]\n",
      "  [0 0 0]\n",
      "  [0 0 0]\n",
      "  [0 0 0]]]\n"
     ]
    },
    {
     "data": {
      "image/png": "[encoded data removed]",
      "text/plain": [
       "<Figure size 432x288 with 1 Axes>"
      ]
     },
     "metadata": {
      "needs_background": "light"
     },
     "output_type": "display_data"
    }
   ],
   "source": [
    "#tensor\n",
    "T=np.zeros((5,5,3),dtype='uint8')\n",
    "print(T)\n",
    "T[:,:,0]=255\n",
    "import matplotlib.pyplot as plt\n",
    "plt.imshow(T)\n",
    "plt.show()"
   ]
  },
  {
   "cell_type": "code",
   "execution_count": 4,
   "id": "dd3d9fc3",
   "metadata": {
    "execution": {
     "iopub.execute_input": "2022-02-15T14:58:30.800669Z",
     "iopub.status.busy": "2022-02-15T14:58:30.799954Z",
     "iopub.status.idle": "2022-02-15T14:58:30.805528Z",
     "shell.execute_reply": "2022-02-15T14:58:30.806038Z",
     "shell.execute_reply.started": "2022-02-15T14:46:46.027393Z"
    },
    "papermill": {
     "duration": 0.021184,
     "end_time": "2022-02-15T14:58:30.806228",
     "exception": false,
     "start_time": "2022-02-15T14:58:30.785044",
     "status": "completed"
    },
    "tags": []
   },
   "outputs": [
    {
     "data": {
      "text/plain": [
       "array([[4, 5, 6]])"
      ]
     },
     "execution_count": 4,
     "metadata": {},
     "output_type": "execute_result"
    }
   ],
   "source": [
    "#transpose (1,3)=>(3,1)\n",
    "x.T"
   ]
  },
  {
   "cell_type": "code",
   "execution_count": 5,
   "id": "5f8faf4f",
   "metadata": {
    "execution": {
     "iopub.execute_input": "2022-02-15T14:58:30.832445Z",
     "iopub.status.busy": "2022-02-15T14:58:30.831393Z",
     "iopub.status.idle": "2022-02-15T14:58:31.114140Z",
     "shell.execute_reply": "2022-02-15T14:58:31.115023Z",
     "shell.execute_reply.started": "2022-02-15T14:50:59.179940Z"
    },
    "papermill": {
     "duration": 0.29823,
     "end_time": "2022-02-15T14:58:31.115287",
     "exception": false,
     "start_time": "2022-02-15T14:58:30.817057",
     "status": "completed"
    },
    "tags": []
   },
   "outputs": [
    {
     "name": "stdout",
     "output_type": "stream",
     "text": [
      "[[[0 0 0]\n",
      "  [0 0 0]\n",
      "  [0 0 0]\n",
      "  ...\n",
      "  [0 0 0]\n",
      "  [0 0 0]\n",
      "  [0 0 0]]\n",
      "\n",
      " [[0 0 0]\n",
      "  [0 0 0]\n",
      "  [0 0 0]\n",
      "  ...\n",
      "  [0 0 0]\n",
      "  [0 0 0]\n",
      "  [0 0 0]]\n",
      "\n",
      " [[0 0 0]\n",
      "  [0 0 0]\n",
      "  [0 0 0]\n",
      "  ...\n",
      "  [0 0 0]\n",
      "  [0 0 0]\n",
      "  [0 0 0]]\n",
      "\n",
      " ...\n",
      "\n",
      " [[0 0 0]\n",
      "  [0 0 0]\n",
      "  [0 0 0]\n",
      "  ...\n",
      "  [0 0 0]\n",
      "  [0 0 0]\n",
      "  [0 0 0]]\n",
      "\n",
      " [[0 0 0]\n",
      "  [0 0 0]\n",
      "  [0 0 0]\n",
      "  ...\n",
      "  [0 0 0]\n",
      "  [0 0 0]\n",
      "  [0 0 0]]\n",
      "\n",
      " [[0 0 0]\n",
      "  [0 0 0]\n",
      "  [0 0 0]\n",
      "  ...\n",
      "  [0 0 0]\n",
      "  [0 0 0]\n",
      "  [0 0 0]]]\n"
     ]
    },
    {
     "data": {
      "image/png": "[encoded data removed]",
      "text/plain": [
       "<Figure size 432x288 with 1 Axes>"
      ]
     },
     "metadata": {
      "needs_background": "light"
     },
     "output_type": "display_data"
    }
   ],
   "source": [
    "#transpose of tensor\n",
    "\n",
    "T=np.zeros((50,25,3),dtype='uint8')\n",
    "print(T)\n",
    "T[:,:,0]=255\n",
    "import matplotlib.pyplot as plt\n",
    "plt.imshow(T)\n",
    "plt.show()"
   ]
  },
  {
   "cell_type": "code",
   "execution_count": 6,
   "id": "b6272756",
   "metadata": {
    "execution": {
     "iopub.execute_input": "2022-02-15T14:58:31.148311Z",
     "iopub.status.busy": "2022-02-15T14:58:31.147554Z",
     "iopub.status.idle": "2022-02-15T14:58:31.150408Z",
     "shell.execute_reply": "2022-02-15T14:58:31.150931Z",
     "shell.execute_reply.started": "2022-02-15T14:56:48.512275Z"
    },
    "papermill": {
     "duration": 0.022619,
     "end_time": "2022-02-15T14:58:31.151105",
     "exception": false,
     "start_time": "2022-02-15T14:58:31.128486",
     "status": "completed"
    },
    "tags": []
   },
   "outputs": [
    {
     "name": "stdout",
     "output_type": "stream",
     "text": [
      "(50, 25, 3)\n",
      "(3, 50, 25) (25,)\n"
     ]
    }
   ],
   "source": [
    "print(T.shape)\n",
    "T1=np.transpose(T,axes=(2,0,1)) #permutatuions\n",
    "print(T1.shape,T1[0][0].shape)\n",
    "#plt.imshow(T1)"
   ]
  },
  {
   "cell_type": "code",
   "execution_count": null,
   "id": "715a5249",
   "metadata": {
    "papermill": {
     "duration": 0.013691,
     "end_time": "2022-02-15T14:58:31.178816",
     "exception": false,
     "start_time": "2022-02-15T14:58:31.165125",
     "status": "completed"
    },
    "tags": []
   },
   "outputs": [],
   "source": []
  }
 ],
 "metadata": {
  "kernelspec": {
   "display_name": "Python 3",
   "language": "python",
   "name": "python3"
  },
  "language_info": {
   "codemirror_mode": {
    "name": "ipython",
    "version": 3
   },
   "file_extension": ".py",
   "mimetype": "text/x-python",
   "name": "python",
   "nbconvert_exporter": "python",
   "pygments_lexer": "ipython3",
   "version": "3.7.12"
  },
  "papermill": {
   "default_parameters": {},
   "duration": 13.26714,
   "end_time": "2022-02-15T14:58:31.902360",
   "environment_variables": {},
   "exception": null,
   "input_path": "__notebook__.ipynb",
   "output_path": "__notebook__.ipynb",
   "parameters": {},
   "start_time": "2022-02-15T14:58:18.635220",
   "version": "2.3.3"
  }
 },
 "nbformat": 4,
 "nbformat_minor": 5
}
