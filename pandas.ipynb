{
 "cells": [
  {
   "cell_type": "code",
   "execution_count": 1,
   "id": "f927a578",
   "metadata": {
    "_cell_guid": "b1076dfc-b9ad-4769-8c92-a6c4dae69d19",
    "_uuid": "8f2839f25d086af736a60e9eeb907d3b93b6e0e5",
    "execution": {
     "iopub.execute_input": "2022-02-24T14:36:13.205212Z",
     "iopub.status.busy": "2022-02-24T14:36:13.203934Z",
     "iopub.status.idle": "2022-02-24T14:36:13.220740Z",
     "shell.execute_reply": "2022-02-24T14:36:13.221355Z",
     "shell.execute_reply.started": "2022-02-24T14:34:49.756102Z"
    },
    "papermill": {
     "duration": 0.058189,
     "end_time": "2022-02-24T14:36:13.221791",
     "exception": false,
     "start_time": "2022-02-24T14:36:13.163602",
     "status": "completed"
    },
    "tags": []
   },
   "outputs": [],
   "source": [
    "# This Python 3 environment comes with many helpful analytics libraries installed\n",
    "# It is defined by the kaggle/python Docker image: https://github.com/kaggle/docker-python\n",
    "# For example, here's several helpful packages to load\n",
    "\n",
    "import numpy as np # linear algebra\n",
    "import pandas as pd # data processing, CSV file I/O (e.g. pd.read_csv)\n",
    "\n",
    "# Input data files are available in the read-only \"../input/\" directory\n",
    "# For example, running this (by clicking run or pressing Shift+Enter) will list all files under the input directory\n",
    "\n",
    "import os\n",
    "for dirname, _, filenames in os.walk('/kaggle/input'):\n",
    "    for filename in filenames:\n",
    "        print(os.path.join(dirname, filename))\n",
    "\n",
    "# You can write up to 20GB to the current directory (/kaggle/working/) that gets preserved as output when you create a version using \"Save & Run All\" \n",
    "# You can also write temporary files to /kaggle/temp/, but they won't be saved outside of the current session"
   ]
  },
  {
   "cell_type": "code",
   "execution_count": 2,
   "id": "8a040d69",
   "metadata": {
    "execution": {
     "iopub.execute_input": "2022-02-24T14:36:13.306580Z",
     "iopub.status.busy": "2022-02-24T14:36:13.305536Z",
     "iopub.status.idle": "2022-02-24T14:36:44.637912Z",
     "shell.execute_reply": "2022-02-24T14:36:44.637117Z",
     "shell.execute_reply.started": "2022-02-24T14:34:49.787681Z"
    },
    "papermill": {
     "duration": 31.375661,
     "end_time": "2022-02-24T14:36:44.638117",
     "exception": false,
     "start_time": "2022-02-24T14:36:13.262456",
     "status": "completed"
    },
    "tags": []
   },
   "outputs": [
    {
     "name": "stdout",
     "output_type": "stream",
     "text": [
      "Requirement already satisfied: pandas in /opt/conda/lib/python3.7/site-packages (1.3.5)\r\n",
      "Requirement already satisfied: python-dateutil>=2.7.3 in /opt/conda/lib/python3.7/site-packages (from pandas) (2.8.2)\r\n",
      "Requirement already satisfied: pytz>=2017.3 in /opt/conda/lib/python3.7/site-packages (from pandas) (2021.3)\r\n",
      "Requirement already satisfied: numpy>=1.17.3 in /opt/conda/lib/python3.7/site-packages (from pandas) (1.20.3)\r\n",
      "Requirement already satisfied: six>=1.5 in /opt/conda/lib/python3.7/site-packages (from python-dateutil>=2.7.3->pandas) (1.16.0)\r\n",
      "\u001b[33mWARNING: Running pip as the 'root' user can result in broken permissions and conflicting behaviour with the system package manager. It is recommended to use a virtual environment instead: https://pip.pypa.io/warnings/venv\u001b[0m\r\n"
     ]
    }
   ],
   "source": [
    "! pip install pandas"
   ]
  },
  {
   "cell_type": "code",
   "execution_count": 3,
   "id": "4090d58a",
   "metadata": {
    "execution": {
     "iopub.execute_input": "2022-02-24T14:36:44.713075Z",
     "iopub.status.busy": "2022-02-24T14:36:44.712340Z",
     "iopub.status.idle": "2022-02-24T14:36:44.716149Z",
     "shell.execute_reply": "2022-02-24T14:36:44.715452Z",
     "shell.execute_reply.started": "2022-02-24T14:35:19.937458Z"
    },
    "papermill": {
     "duration": 0.042548,
     "end_time": "2022-02-24T14:36:44.716309",
     "exception": false,
     "start_time": "2022-02-24T14:36:44.673761",
     "status": "completed"
    },
    "tags": []
   },
   "outputs": [],
   "source": [
    "import numpy as np\n",
    "import pandas as pd"
   ]
  },
  {
   "cell_type": "code",
   "execution_count": 4,
   "id": "522dc0a9",
   "metadata": {
    "execution": {
     "iopub.execute_input": "2022-02-24T14:36:44.793145Z",
     "iopub.status.busy": "2022-02-24T14:36:44.792125Z",
     "iopub.status.idle": "2022-02-24T14:36:44.795210Z",
     "shell.execute_reply": "2022-02-24T14:36:44.794497Z",
     "shell.execute_reply.started": "2022-02-24T14:35:19.944386Z"
    },
    "papermill": {
     "duration": 0.043143,
     "end_time": "2022-02-24T14:36:44.795379",
     "exception": false,
     "start_time": "2022-02-24T14:36:44.752236",
     "status": "completed"
    },
    "tags": []
   },
   "outputs": [],
   "source": [
    "user_data={\n",
    "    \"marksA\":np.random.randint(1,100,5),\n",
    "    \"marksB\":np.random.randint(1,100,5),\n",
    "    \"marksC\":np.random.randint(1,100,5),\n",
    "}"
   ]
  },
  {
   "cell_type": "code",
   "execution_count": 5,
   "id": "f917726d",
   "metadata": {
    "execution": {
     "iopub.execute_input": "2022-02-24T14:36:44.871803Z",
     "iopub.status.busy": "2022-02-24T14:36:44.871056Z",
     "iopub.status.idle": "2022-02-24T14:36:44.874788Z",
     "shell.execute_reply": "2022-02-24T14:36:44.875311Z",
     "shell.execute_reply.started": "2022-02-24T14:35:19.959709Z"
    },
    "papermill": {
     "duration": 0.046953,
     "end_time": "2022-02-24T14:36:44.875629",
     "exception": false,
     "start_time": "2022-02-24T14:36:44.828676",
     "status": "completed"
    },
    "tags": []
   },
   "outputs": [
    {
     "data": {
      "text/plain": [
       "array([96, 41, 62, 36, 73])"
      ]
     },
     "execution_count": 5,
     "metadata": {},
     "output_type": "execute_result"
    }
   ],
   "source": [
    "np.random.randint(1,100,5)"
   ]
  },
  {
   "cell_type": "code",
   "execution_count": 6,
   "id": "51d20d32",
   "metadata": {
    "execution": {
     "iopub.execute_input": "2022-02-24T14:36:44.950114Z",
     "iopub.status.busy": "2022-02-24T14:36:44.949232Z",
     "iopub.status.idle": "2022-02-24T14:36:44.952732Z",
     "shell.execute_reply": "2022-02-24T14:36:44.953413Z",
     "shell.execute_reply.started": "2022-02-24T14:35:19.977219Z"
    },
    "papermill": {
     "duration": 0.043598,
     "end_time": "2022-02-24T14:36:44.953626",
     "exception": false,
     "start_time": "2022-02-24T14:36:44.910028",
     "status": "completed"
    },
    "tags": []
   },
   "outputs": [
    {
     "data": {
      "text/plain": [
       "{'marksA': array([19, 25, 73, 66, 45]),\n",
       " 'marksB': array([41,  3, 19, 66,  1]),\n",
       " 'marksC': array([42, 97, 10, 54, 95])}"
      ]
     },
     "execution_count": 6,
     "metadata": {},
     "output_type": "execute_result"
    }
   ],
   "source": [
    "user_data"
   ]
  },
  {
   "cell_type": "code",
   "execution_count": 7,
   "id": "a5e44b60",
   "metadata": {
    "execution": {
     "iopub.execute_input": "2022-02-24T14:36:45.029658Z",
     "iopub.status.busy": "2022-02-24T14:36:45.028449Z",
     "iopub.status.idle": "2022-02-24T14:36:45.038226Z",
     "shell.execute_reply": "2022-02-24T14:36:45.037545Z",
     "shell.execute_reply.started": "2022-02-24T14:35:19.984640Z"
    },
    "papermill": {
     "duration": 0.050441,
     "end_time": "2022-02-24T14:36:45.038385",
     "exception": false,
     "start_time": "2022-02-24T14:36:44.987944",
     "status": "completed"
    },
    "tags": []
   },
   "outputs": [],
   "source": [
    "df=pd.DataFrame(user_data,dtype='float32')"
   ]
  },
  {
   "cell_type": "code",
   "execution_count": 8,
   "id": "aeed8ed1",
   "metadata": {
    "execution": {
     "iopub.execute_input": "2022-02-24T14:36:45.119802Z",
     "iopub.status.busy": "2022-02-24T14:36:45.119089Z",
     "iopub.status.idle": "2022-02-24T14:36:45.136025Z",
     "shell.execute_reply": "2022-02-24T14:36:45.135337Z",
     "shell.execute_reply.started": "2022-02-24T14:35:19.999567Z"
    },
    "papermill": {
     "duration": 0.061091,
     "end_time": "2022-02-24T14:36:45.136209",
     "exception": false,
     "start_time": "2022-02-24T14:36:45.075118",
     "status": "completed"
    },
    "tags": []
   },
   "outputs": [
    {
     "data": {
      "text/html": [
       "<div>\n",
       "<style scoped>\n",
       "    .dataframe tbody tr th:only-of-type {\n",
       "        vertical-align: middle;\n",
       "    }\n",
       "\n",
       "    .dataframe tbody tr th {\n",
       "        vertical-align: top;\n",
       "    }\n",
       "\n",
       "    .dataframe thead th {\n",
       "        text-align: right;\n",
       "    }\n",
       "</style>\n",
       "<table border=\"1\" class=\"dataframe\">\n",
       "  <thead>\n",
       "    <tr style=\"text-align: right;\">\n",
       "      <th></th>\n",
       "      <th>marksA</th>\n",
       "      <th>marksB</th>\n",
       "      <th>marksC</th>\n",
       "    </tr>\n",
       "  </thead>\n",
       "  <tbody>\n",
       "    <tr>\n",
       "      <th>0</th>\n",
       "      <td>19.0</td>\n",
       "      <td>41.0</td>\n",
       "      <td>42.0</td>\n",
       "    </tr>\n",
       "    <tr>\n",
       "      <th>1</th>\n",
       "      <td>25.0</td>\n",
       "      <td>3.0</td>\n",
       "      <td>97.0</td>\n",
       "    </tr>\n",
       "    <tr>\n",
       "      <th>2</th>\n",
       "      <td>73.0</td>\n",
       "      <td>19.0</td>\n",
       "      <td>10.0</td>\n",
       "    </tr>\n",
       "    <tr>\n",
       "      <th>3</th>\n",
       "      <td>66.0</td>\n",
       "      <td>66.0</td>\n",
       "      <td>54.0</td>\n",
       "    </tr>\n",
       "    <tr>\n",
       "      <th>4</th>\n",
       "      <td>45.0</td>\n",
       "      <td>1.0</td>\n",
       "      <td>95.0</td>\n",
       "    </tr>\n",
       "  </tbody>\n",
       "</table>\n",
       "</div>"
      ],
      "text/plain": [
       "   marksA  marksB  marksC\n",
       "0    19.0    41.0    42.0\n",
       "1    25.0     3.0    97.0\n",
       "2    73.0    19.0    10.0\n",
       "3    66.0    66.0    54.0\n",
       "4    45.0     1.0    95.0"
      ]
     },
     "execution_count": 8,
     "metadata": {},
     "output_type": "execute_result"
    }
   ],
   "source": [
    "df"
   ]
  },
  {
   "cell_type": "code",
   "execution_count": 9,
   "id": "7574431b",
   "metadata": {
    "execution": {
     "iopub.execute_input": "2022-02-24T14:36:45.216811Z",
     "iopub.status.busy": "2022-02-24T14:36:45.216082Z",
     "iopub.status.idle": "2022-02-24T14:36:45.221426Z",
     "shell.execute_reply": "2022-02-24T14:36:45.222007Z",
     "shell.execute_reply.started": "2022-02-24T14:35:20.027265Z"
    },
    "papermill": {
     "duration": 0.050334,
     "end_time": "2022-02-24T14:36:45.222201",
     "exception": false,
     "start_time": "2022-02-24T14:36:45.171867",
     "status": "completed"
    },
    "tags": []
   },
   "outputs": [
    {
     "data": {
      "text/html": [
       "<div>\n",
       "<style scoped>\n",
       "    .dataframe tbody tr th:only-of-type {\n",
       "        vertical-align: middle;\n",
       "    }\n",
       "\n",
       "    .dataframe tbody tr th {\n",
       "        vertical-align: top;\n",
       "    }\n",
       "\n",
       "    .dataframe thead th {\n",
       "        text-align: right;\n",
       "    }\n",
       "</style>\n",
       "<table border=\"1\" class=\"dataframe\">\n",
       "  <thead>\n",
       "    <tr style=\"text-align: right;\">\n",
       "      <th></th>\n",
       "      <th>marksA</th>\n",
       "      <th>marksB</th>\n",
       "      <th>marksC</th>\n",
       "    </tr>\n",
       "  </thead>\n",
       "  <tbody>\n",
       "    <tr>\n",
       "      <th>0</th>\n",
       "      <td>19.0</td>\n",
       "      <td>41.0</td>\n",
       "      <td>42.0</td>\n",
       "    </tr>\n",
       "    <tr>\n",
       "      <th>1</th>\n",
       "      <td>25.0</td>\n",
       "      <td>3.0</td>\n",
       "      <td>97.0</td>\n",
       "    </tr>\n",
       "    <tr>\n",
       "      <th>2</th>\n",
       "      <td>73.0</td>\n",
       "      <td>19.0</td>\n",
       "      <td>10.0</td>\n",
       "    </tr>\n",
       "  </tbody>\n",
       "</table>\n",
       "</div>"
      ],
      "text/plain": [
       "   marksA  marksB  marksC\n",
       "0    19.0    41.0    42.0\n",
       "1    25.0     3.0    97.0\n",
       "2    73.0    19.0    10.0"
      ]
     },
     "execution_count": 9,
     "metadata": {},
     "output_type": "execute_result"
    }
   ],
   "source": [
    "df.head(n=3)"
   ]
  },
  {
   "cell_type": "code",
   "execution_count": 10,
   "id": "b4965df5",
   "metadata": {
    "execution": {
     "iopub.execute_input": "2022-02-24T14:36:45.297952Z",
     "iopub.status.busy": "2022-02-24T14:36:45.297162Z",
     "iopub.status.idle": "2022-02-24T14:36:45.303151Z",
     "shell.execute_reply": "2022-02-24T14:36:45.303754Z",
     "shell.execute_reply.started": "2022-02-24T14:35:20.043157Z"
    },
    "papermill": {
     "duration": 0.046016,
     "end_time": "2022-02-24T14:36:45.303953",
     "exception": false,
     "start_time": "2022-02-24T14:36:45.257937",
     "status": "completed"
    },
    "tags": []
   },
   "outputs": [
    {
     "data": {
      "text/plain": [
       "Index(['marksA', 'marksB', 'marksC'], dtype='object')"
      ]
     },
     "execution_count": 10,
     "metadata": {},
     "output_type": "execute_result"
    }
   ],
   "source": [
    "df.columns"
   ]
  },
  {
   "cell_type": "code",
   "execution_count": 11,
   "id": "09937b29",
   "metadata": {
    "execution": {
     "iopub.execute_input": "2022-02-24T14:36:45.383815Z",
     "iopub.status.busy": "2022-02-24T14:36:45.383086Z",
     "iopub.status.idle": "2022-02-24T14:36:45.390412Z",
     "shell.execute_reply": "2022-02-24T14:36:45.391119Z",
     "shell.execute_reply.started": "2022-02-24T14:35:20.051885Z"
    },
    "papermill": {
     "duration": 0.052009,
     "end_time": "2022-02-24T14:36:45.391340",
     "exception": false,
     "start_time": "2022-02-24T14:36:45.339331",
     "status": "completed"
    },
    "tags": []
   },
   "outputs": [],
   "source": [
    "df.to_csv(\"marks.csv\")"
   ]
  },
  {
   "cell_type": "code",
   "execution_count": 12,
   "id": "1a66e3d8",
   "metadata": {
    "execution": {
     "iopub.execute_input": "2022-02-24T14:36:45.472337Z",
     "iopub.status.busy": "2022-02-24T14:36:45.471636Z",
     "iopub.status.idle": "2022-02-24T14:36:45.488332Z",
     "shell.execute_reply": "2022-02-24T14:36:45.488914Z",
     "shell.execute_reply.started": "2022-02-24T14:35:20.067669Z"
    },
    "papermill": {
     "duration": 0.060279,
     "end_time": "2022-02-24T14:36:45.489128",
     "exception": false,
     "start_time": "2022-02-24T14:36:45.428849",
     "status": "completed"
    },
    "tags": []
   },
   "outputs": [],
   "source": [
    "mydata=pd.read_csv(\"marks.csv\")\n",
    "mydata=mydata.drop(columns=[\"Unnamed: 0\"])"
   ]
  },
  {
   "cell_type": "code",
   "execution_count": 13,
   "id": "ba2b0469",
   "metadata": {
    "execution": {
     "iopub.execute_input": "2022-02-24T14:36:45.565453Z",
     "iopub.status.busy": "2022-02-24T14:36:45.564749Z",
     "iopub.status.idle": "2022-02-24T14:36:45.575812Z",
     "shell.execute_reply": "2022-02-24T14:36:45.576297Z",
     "shell.execute_reply.started": "2022-02-24T14:35:20.087277Z"
    },
    "papermill": {
     "duration": 0.050726,
     "end_time": "2022-02-24T14:36:45.576498",
     "exception": false,
     "start_time": "2022-02-24T14:36:45.525772",
     "status": "completed"
    },
    "tags": []
   },
   "outputs": [
    {
     "data": {
      "text/html": [
       "<div>\n",
       "<style scoped>\n",
       "    .dataframe tbody tr th:only-of-type {\n",
       "        vertical-align: middle;\n",
       "    }\n",
       "\n",
       "    .dataframe tbody tr th {\n",
       "        vertical-align: top;\n",
       "    }\n",
       "\n",
       "    .dataframe thead th {\n",
       "        text-align: right;\n",
       "    }\n",
       "</style>\n",
       "<table border=\"1\" class=\"dataframe\">\n",
       "  <thead>\n",
       "    <tr style=\"text-align: right;\">\n",
       "      <th></th>\n",
       "      <th>marksA</th>\n",
       "      <th>marksB</th>\n",
       "      <th>marksC</th>\n",
       "    </tr>\n",
       "  </thead>\n",
       "  <tbody>\n",
       "    <tr>\n",
       "      <th>0</th>\n",
       "      <td>19.0</td>\n",
       "      <td>41.0</td>\n",
       "      <td>42.0</td>\n",
       "    </tr>\n",
       "    <tr>\n",
       "      <th>1</th>\n",
       "      <td>25.0</td>\n",
       "      <td>3.0</td>\n",
       "      <td>97.0</td>\n",
       "    </tr>\n",
       "    <tr>\n",
       "      <th>2</th>\n",
       "      <td>73.0</td>\n",
       "      <td>19.0</td>\n",
       "      <td>10.0</td>\n",
       "    </tr>\n",
       "    <tr>\n",
       "      <th>3</th>\n",
       "      <td>66.0</td>\n",
       "      <td>66.0</td>\n",
       "      <td>54.0</td>\n",
       "    </tr>\n",
       "    <tr>\n",
       "      <th>4</th>\n",
       "      <td>45.0</td>\n",
       "      <td>1.0</td>\n",
       "      <td>95.0</td>\n",
       "    </tr>\n",
       "  </tbody>\n",
       "</table>\n",
       "</div>"
      ],
      "text/plain": [
       "   marksA  marksB  marksC\n",
       "0    19.0    41.0    42.0\n",
       "1    25.0     3.0    97.0\n",
       "2    73.0    19.0    10.0\n",
       "3    66.0    66.0    54.0\n",
       "4    45.0     1.0    95.0"
      ]
     },
     "execution_count": 13,
     "metadata": {},
     "output_type": "execute_result"
    }
   ],
   "source": [
    "mydata"
   ]
  },
  {
   "cell_type": "code",
   "execution_count": 14,
   "id": "d8683bf3",
   "metadata": {
    "execution": {
     "iopub.execute_input": "2022-02-24T14:36:45.663550Z",
     "iopub.status.busy": "2022-02-24T14:36:45.662863Z",
     "iopub.status.idle": "2022-02-24T14:36:45.683910Z",
     "shell.execute_reply": "2022-02-24T14:36:45.684441Z",
     "shell.execute_reply.started": "2022-02-24T14:35:20.101434Z"
    },
    "papermill": {
     "duration": 0.071826,
     "end_time": "2022-02-24T14:36:45.684642",
     "exception": false,
     "start_time": "2022-02-24T14:36:45.612816",
     "status": "completed"
    },
    "tags": []
   },
   "outputs": [
    {
     "data": {
      "text/html": [
       "<div>\n",
       "<style scoped>\n",
       "    .dataframe tbody tr th:only-of-type {\n",
       "        vertical-align: middle;\n",
       "    }\n",
       "\n",
       "    .dataframe tbody tr th {\n",
       "        vertical-align: top;\n",
       "    }\n",
       "\n",
       "    .dataframe thead th {\n",
       "        text-align: right;\n",
       "    }\n",
       "</style>\n",
       "<table border=\"1\" class=\"dataframe\">\n",
       "  <thead>\n",
       "    <tr style=\"text-align: right;\">\n",
       "      <th></th>\n",
       "      <th>marksA</th>\n",
       "      <th>marksB</th>\n",
       "      <th>marksC</th>\n",
       "    </tr>\n",
       "  </thead>\n",
       "  <tbody>\n",
       "    <tr>\n",
       "      <th>count</th>\n",
       "      <td>5.000000</td>\n",
       "      <td>5.000000</td>\n",
       "      <td>5.000000</td>\n",
       "    </tr>\n",
       "    <tr>\n",
       "      <th>mean</th>\n",
       "      <td>45.600000</td>\n",
       "      <td>26.000000</td>\n",
       "      <td>59.600000</td>\n",
       "    </tr>\n",
       "    <tr>\n",
       "      <th>std</th>\n",
       "      <td>23.974987</td>\n",
       "      <td>27.513633</td>\n",
       "      <td>36.922893</td>\n",
       "    </tr>\n",
       "    <tr>\n",
       "      <th>min</th>\n",
       "      <td>19.000000</td>\n",
       "      <td>1.000000</td>\n",
       "      <td>10.000000</td>\n",
       "    </tr>\n",
       "    <tr>\n",
       "      <th>25%</th>\n",
       "      <td>25.000000</td>\n",
       "      <td>3.000000</td>\n",
       "      <td>42.000000</td>\n",
       "    </tr>\n",
       "    <tr>\n",
       "      <th>50%</th>\n",
       "      <td>45.000000</td>\n",
       "      <td>19.000000</td>\n",
       "      <td>54.000000</td>\n",
       "    </tr>\n",
       "    <tr>\n",
       "      <th>75%</th>\n",
       "      <td>66.000000</td>\n",
       "      <td>41.000000</td>\n",
       "      <td>95.000000</td>\n",
       "    </tr>\n",
       "    <tr>\n",
       "      <th>max</th>\n",
       "      <td>73.000000</td>\n",
       "      <td>66.000000</td>\n",
       "      <td>97.000000</td>\n",
       "    </tr>\n",
       "  </tbody>\n",
       "</table>\n",
       "</div>"
      ],
      "text/plain": [
       "          marksA     marksB     marksC\n",
       "count   5.000000   5.000000   5.000000\n",
       "mean   45.600000  26.000000  59.600000\n",
       "std    23.974987  27.513633  36.922893\n",
       "min    19.000000   1.000000  10.000000\n",
       "25%    25.000000   3.000000  42.000000\n",
       "50%    45.000000  19.000000  54.000000\n",
       "75%    66.000000  41.000000  95.000000\n",
       "max    73.000000  66.000000  97.000000"
      ]
     },
     "execution_count": 14,
     "metadata": {},
     "output_type": "execute_result"
    }
   ],
   "source": [
    "mydata.describe()"
   ]
  },
  {
   "cell_type": "code",
   "execution_count": 15,
   "id": "a5533396",
   "metadata": {
    "execution": {
     "iopub.execute_input": "2022-02-24T14:36:45.767868Z",
     "iopub.status.busy": "2022-02-24T14:36:45.766800Z",
     "iopub.status.idle": "2022-02-24T14:36:45.779085Z",
     "shell.execute_reply": "2022-02-24T14:36:45.779793Z",
     "shell.execute_reply.started": "2022-02-24T14:35:20.127434Z"
    },
    "papermill": {
     "duration": 0.056522,
     "end_time": "2022-02-24T14:36:45.780180",
     "exception": false,
     "start_time": "2022-02-24T14:36:45.723658",
     "status": "completed"
    },
    "tags": []
   },
   "outputs": [
    {
     "data": {
      "text/html": [
       "<div>\n",
       "<style scoped>\n",
       "    .dataframe tbody tr th:only-of-type {\n",
       "        vertical-align: middle;\n",
       "    }\n",
       "\n",
       "    .dataframe tbody tr th {\n",
       "        vertical-align: top;\n",
       "    }\n",
       "\n",
       "    .dataframe thead th {\n",
       "        text-align: right;\n",
       "    }\n",
       "</style>\n",
       "<table border=\"1\" class=\"dataframe\">\n",
       "  <thead>\n",
       "    <tr style=\"text-align: right;\">\n",
       "      <th></th>\n",
       "      <th>marksA</th>\n",
       "      <th>marksB</th>\n",
       "      <th>marksC</th>\n",
       "    </tr>\n",
       "  </thead>\n",
       "  <tbody>\n",
       "    <tr>\n",
       "      <th>2</th>\n",
       "      <td>73.0</td>\n",
       "      <td>19.0</td>\n",
       "      <td>10.0</td>\n",
       "    </tr>\n",
       "    <tr>\n",
       "      <th>3</th>\n",
       "      <td>66.0</td>\n",
       "      <td>66.0</td>\n",
       "      <td>54.0</td>\n",
       "    </tr>\n",
       "    <tr>\n",
       "      <th>4</th>\n",
       "      <td>45.0</td>\n",
       "      <td>1.0</td>\n",
       "      <td>95.0</td>\n",
       "    </tr>\n",
       "  </tbody>\n",
       "</table>\n",
       "</div>"
      ],
      "text/plain": [
       "   marksA  marksB  marksC\n",
       "2    73.0    19.0    10.0\n",
       "3    66.0    66.0    54.0\n",
       "4    45.0     1.0    95.0"
      ]
     },
     "execution_count": 15,
     "metadata": {},
     "output_type": "execute_result"
    }
   ],
   "source": [
    "mydata.tail(n=3)"
   ]
  },
  {
   "cell_type": "code",
   "execution_count": 16,
   "id": "101d6472",
   "metadata": {
    "execution": {
     "iopub.execute_input": "2022-02-24T14:36:45.860535Z",
     "iopub.status.busy": "2022-02-24T14:36:45.859794Z",
     "iopub.status.idle": "2022-02-24T14:36:45.866965Z",
     "shell.execute_reply": "2022-02-24T14:36:45.867736Z",
     "shell.execute_reply.started": "2022-02-24T14:35:20.139524Z"
    },
    "papermill": {
     "duration": 0.049473,
     "end_time": "2022-02-24T14:36:45.867956",
     "exception": false,
     "start_time": "2022-02-24T14:36:45.818483",
     "status": "completed"
    },
    "tags": []
   },
   "outputs": [
    {
     "data": {
      "text/plain": [
       "marksA    66.0\n",
       "marksB    66.0\n",
       "marksC    54.0\n",
       "Name: 3, dtype: float32"
      ]
     },
     "execution_count": 16,
     "metadata": {},
     "output_type": "execute_result"
    }
   ],
   "source": [
    "#row\n",
    "df.iloc[3]"
   ]
  },
  {
   "cell_type": "code",
   "execution_count": 17,
   "id": "da1b59d2",
   "metadata": {
    "execution": {
     "iopub.execute_input": "2022-02-24T14:36:45.953649Z",
     "iopub.status.busy": "2022-02-24T14:36:45.952795Z",
     "iopub.status.idle": "2022-02-24T14:36:45.956391Z",
     "shell.execute_reply": "2022-02-24T14:36:45.956955Z",
     "shell.execute_reply.started": "2022-02-24T14:35:20.152460Z"
    },
    "papermill": {
     "duration": 0.050292,
     "end_time": "2022-02-24T14:36:45.957167",
     "exception": false,
     "start_time": "2022-02-24T14:36:45.906875",
     "status": "completed"
    },
    "tags": []
   },
   "outputs": [
    {
     "data": {
      "text/plain": [
       "66.0"
      ]
     },
     "execution_count": 17,
     "metadata": {},
     "output_type": "execute_result"
    }
   ],
   "source": [
    "# row and col\n",
    "df.iloc[3,1]"
   ]
  },
  {
   "cell_type": "code",
   "execution_count": 18,
   "id": "de1665f5",
   "metadata": {
    "execution": {
     "iopub.execute_input": "2022-02-24T14:36:46.042240Z",
     "iopub.status.busy": "2022-02-24T14:36:46.041207Z",
     "iopub.status.idle": "2022-02-24T14:36:46.045587Z",
     "shell.execute_reply": "2022-02-24T14:36:46.044930Z",
     "shell.execute_reply.started": "2022-02-24T14:35:20.165698Z"
    },
    "papermill": {
     "duration": 0.05007,
     "end_time": "2022-02-24T14:36:46.045785",
     "exception": false,
     "start_time": "2022-02-24T14:36:45.995715",
     "status": "completed"
    },
    "tags": []
   },
   "outputs": [
    {
     "data": {
      "text/plain": [
       "66.0"
      ]
     },
     "execution_count": 18,
     "metadata": {},
     "output_type": "execute_result"
    }
   ],
   "source": [
    "df.iloc[3][1]"
   ]
  },
  {
   "cell_type": "code",
   "execution_count": 19,
   "id": "39acbb73",
   "metadata": {
    "execution": {
     "iopub.execute_input": "2022-02-24T14:36:46.137298Z",
     "iopub.status.busy": "2022-02-24T14:36:46.136316Z",
     "iopub.status.idle": "2022-02-24T14:36:46.141470Z",
     "shell.execute_reply": "2022-02-24T14:36:46.141995Z",
     "shell.execute_reply.started": "2022-02-24T14:35:20.177013Z"
    },
    "papermill": {
     "duration": 0.053601,
     "end_time": "2022-02-24T14:36:46.142194",
     "exception": false,
     "start_time": "2022-02-24T14:36:46.088593",
     "status": "completed"
    },
    "tags": []
   },
   "outputs": [
    {
     "name": "stdout",
     "output_type": "stream",
     "text": [
      "1\n"
     ]
    },
    {
     "data": {
      "text/plain": [
       "66.0"
      ]
     },
     "execution_count": 19,
     "metadata": {},
     "output_type": "execute_result"
    }
   ],
   "source": [
    "idx=df.columns.get_loc('marksB')\n",
    "print(idx)\n",
    "df.iloc[3,idx]"
   ]
  },
  {
   "cell_type": "code",
   "execution_count": 20,
   "id": "ecbc55f5",
   "metadata": {
    "execution": {
     "iopub.execute_input": "2022-02-24T14:36:46.229560Z",
     "iopub.status.busy": "2022-02-24T14:36:46.228400Z",
     "iopub.status.idle": "2022-02-24T14:36:46.231395Z",
     "shell.execute_reply": "2022-02-24T14:36:46.230833Z",
     "shell.execute_reply.started": "2022-02-24T14:35:20.190234Z"
    },
    "papermill": {
     "duration": 0.048709,
     "end_time": "2022-02-24T14:36:46.231561",
     "exception": false,
     "start_time": "2022-02-24T14:36:46.182852",
     "status": "completed"
    },
    "tags": []
   },
   "outputs": [],
   "source": [
    "idx=[df.columns.get_loc('marksB'),df.columns.get_loc('marksC')]"
   ]
  },
  {
   "cell_type": "code",
   "execution_count": 21,
   "id": "66c4069a",
   "metadata": {
    "execution": {
     "iopub.execute_input": "2022-02-24T14:36:46.325544Z",
     "iopub.status.busy": "2022-02-24T14:36:46.324849Z",
     "iopub.status.idle": "2022-02-24T14:36:46.328249Z",
     "shell.execute_reply": "2022-02-24T14:36:46.327598Z",
     "shell.execute_reply.started": "2022-02-24T14:35:20.199621Z"
    },
    "papermill": {
     "duration": 0.055467,
     "end_time": "2022-02-24T14:36:46.328402",
     "exception": false,
     "start_time": "2022-02-24T14:36:46.272935",
     "status": "completed"
    },
    "tags": []
   },
   "outputs": [
    {
     "data": {
      "text/html": [
       "<div>\n",
       "<style scoped>\n",
       "    .dataframe tbody tr th:only-of-type {\n",
       "        vertical-align: middle;\n",
       "    }\n",
       "\n",
       "    .dataframe tbody tr th {\n",
       "        vertical-align: top;\n",
       "    }\n",
       "\n",
       "    .dataframe thead th {\n",
       "        text-align: right;\n",
       "    }\n",
       "</style>\n",
       "<table border=\"1\" class=\"dataframe\">\n",
       "  <thead>\n",
       "    <tr style=\"text-align: right;\">\n",
       "      <th></th>\n",
       "      <th>marksB</th>\n",
       "      <th>marksC</th>\n",
       "    </tr>\n",
       "  </thead>\n",
       "  <tbody>\n",
       "    <tr>\n",
       "      <th>0</th>\n",
       "      <td>41.0</td>\n",
       "      <td>42.0</td>\n",
       "    </tr>\n",
       "    <tr>\n",
       "      <th>1</th>\n",
       "      <td>3.0</td>\n",
       "      <td>97.0</td>\n",
       "    </tr>\n",
       "    <tr>\n",
       "      <th>2</th>\n",
       "      <td>19.0</td>\n",
       "      <td>10.0</td>\n",
       "    </tr>\n",
       "  </tbody>\n",
       "</table>\n",
       "</div>"
      ],
      "text/plain": [
       "   marksB  marksC\n",
       "0    41.0    42.0\n",
       "1     3.0    97.0\n",
       "2    19.0    10.0"
      ]
     },
     "execution_count": 21,
     "metadata": {},
     "output_type": "execute_result"
    }
   ],
   "source": [
    "df.iloc[:3,idx]"
   ]
  },
  {
   "cell_type": "code",
   "execution_count": 22,
   "id": "a075c009",
   "metadata": {
    "execution": {
     "iopub.execute_input": "2022-02-24T14:36:46.422696Z",
     "iopub.status.busy": "2022-02-24T14:36:46.421981Z",
     "iopub.status.idle": "2022-02-24T14:36:46.427033Z",
     "shell.execute_reply": "2022-02-24T14:36:46.426336Z",
     "shell.execute_reply.started": "2022-02-24T14:35:20.218855Z"
    },
    "papermill": {
     "duration": 0.057417,
     "end_time": "2022-02-24T14:36:46.427203",
     "exception": false,
     "start_time": "2022-02-24T14:36:46.369786",
     "status": "completed"
    },
    "tags": []
   },
   "outputs": [
    {
     "data": {
      "text/html": [
       "<div>\n",
       "<style scoped>\n",
       "    .dataframe tbody tr th:only-of-type {\n",
       "        vertical-align: middle;\n",
       "    }\n",
       "\n",
       "    .dataframe tbody tr th {\n",
       "        vertical-align: top;\n",
       "    }\n",
       "\n",
       "    .dataframe thead th {\n",
       "        text-align: right;\n",
       "    }\n",
       "</style>\n",
       "<table border=\"1\" class=\"dataframe\">\n",
       "  <thead>\n",
       "    <tr style=\"text-align: right;\">\n",
       "      <th></th>\n",
       "      <th>marksB</th>\n",
       "      <th>marksC</th>\n",
       "    </tr>\n",
       "  </thead>\n",
       "  <tbody>\n",
       "    <tr>\n",
       "      <th>0</th>\n",
       "      <td>41.0</td>\n",
       "      <td>42.0</td>\n",
       "    </tr>\n",
       "    <tr>\n",
       "      <th>1</th>\n",
       "      <td>3.0</td>\n",
       "      <td>97.0</td>\n",
       "    </tr>\n",
       "    <tr>\n",
       "      <th>2</th>\n",
       "      <td>19.0</td>\n",
       "      <td>10.0</td>\n",
       "    </tr>\n",
       "  </tbody>\n",
       "</table>\n",
       "</div>"
      ],
      "text/plain": [
       "   marksB  marksC\n",
       "0    41.0    42.0\n",
       "1     3.0    97.0\n",
       "2    19.0    10.0"
      ]
     },
     "execution_count": 22,
     "metadata": {},
     "output_type": "execute_result"
    }
   ],
   "source": [
    "df.iloc[:3,[1,2]]"
   ]
  },
  {
   "cell_type": "code",
   "execution_count": 23,
   "id": "093b9a8e",
   "metadata": {
    "execution": {
     "iopub.execute_input": "2022-02-24T14:36:46.522157Z",
     "iopub.status.busy": "2022-02-24T14:36:46.521445Z",
     "iopub.status.idle": "2022-02-24T14:36:46.524239Z",
     "shell.execute_reply": "2022-02-24T14:36:46.524773Z",
     "shell.execute_reply.started": "2022-02-24T14:35:20.230887Z"
    },
    "papermill": {
     "duration": 0.055115,
     "end_time": "2022-02-24T14:36:46.524975",
     "exception": false,
     "start_time": "2022-02-24T14:36:46.469860",
     "status": "completed"
    },
    "tags": []
   },
   "outputs": [
    {
     "data": {
      "text/html": [
       "<div>\n",
       "<style scoped>\n",
       "    .dataframe tbody tr th:only-of-type {\n",
       "        vertical-align: middle;\n",
       "    }\n",
       "\n",
       "    .dataframe tbody tr th {\n",
       "        vertical-align: top;\n",
       "    }\n",
       "\n",
       "    .dataframe thead th {\n",
       "        text-align: right;\n",
       "    }\n",
       "</style>\n",
       "<table border=\"1\" class=\"dataframe\">\n",
       "  <thead>\n",
       "    <tr style=\"text-align: right;\">\n",
       "      <th></th>\n",
       "      <th>marksA</th>\n",
       "      <th>marksB</th>\n",
       "      <th>marksC</th>\n",
       "    </tr>\n",
       "  </thead>\n",
       "  <tbody>\n",
       "    <tr>\n",
       "      <th>0</th>\n",
       "      <td>19.0</td>\n",
       "      <td>41.0</td>\n",
       "      <td>42.0</td>\n",
       "    </tr>\n",
       "    <tr>\n",
       "      <th>1</th>\n",
       "      <td>25.0</td>\n",
       "      <td>3.0</td>\n",
       "      <td>97.0</td>\n",
       "    </tr>\n",
       "    <tr>\n",
       "      <th>2</th>\n",
       "      <td>73.0</td>\n",
       "      <td>19.0</td>\n",
       "      <td>10.0</td>\n",
       "    </tr>\n",
       "    <tr>\n",
       "      <th>3</th>\n",
       "      <td>66.0</td>\n",
       "      <td>66.0</td>\n",
       "      <td>54.0</td>\n",
       "    </tr>\n",
       "    <tr>\n",
       "      <th>4</th>\n",
       "      <td>45.0</td>\n",
       "      <td>1.0</td>\n",
       "      <td>95.0</td>\n",
       "    </tr>\n",
       "  </tbody>\n",
       "</table>\n",
       "</div>"
      ],
      "text/plain": [
       "   marksA  marksB  marksC\n",
       "0    19.0    41.0    42.0\n",
       "1    25.0     3.0    97.0\n",
       "2    73.0    19.0    10.0\n",
       "3    66.0    66.0    54.0\n",
       "4    45.0     1.0    95.0"
      ]
     },
     "execution_count": 23,
     "metadata": {},
     "output_type": "execute_result"
    }
   ],
   "source": [
    "#sort\n",
    "mydata"
   ]
  },
  {
   "cell_type": "code",
   "execution_count": 24,
   "id": "66cb19ca",
   "metadata": {
    "execution": {
     "iopub.execute_input": "2022-02-24T14:36:46.623517Z",
     "iopub.status.busy": "2022-02-24T14:36:46.622786Z",
     "iopub.status.idle": "2022-02-24T14:36:46.628484Z",
     "shell.execute_reply": "2022-02-24T14:36:46.627897Z",
     "shell.execute_reply.started": "2022-02-24T14:35:20.243473Z"
    },
    "papermill": {
     "duration": 0.061042,
     "end_time": "2022-02-24T14:36:46.628645",
     "exception": false,
     "start_time": "2022-02-24T14:36:46.567603",
     "status": "completed"
    },
    "tags": []
   },
   "outputs": [
    {
     "data": {
      "text/html": [
       "<div>\n",
       "<style scoped>\n",
       "    .dataframe tbody tr th:only-of-type {\n",
       "        vertical-align: middle;\n",
       "    }\n",
       "\n",
       "    .dataframe tbody tr th {\n",
       "        vertical-align: top;\n",
       "    }\n",
       "\n",
       "    .dataframe thead th {\n",
       "        text-align: right;\n",
       "    }\n",
       "</style>\n",
       "<table border=\"1\" class=\"dataframe\">\n",
       "  <thead>\n",
       "    <tr style=\"text-align: right;\">\n",
       "      <th></th>\n",
       "      <th>marksA</th>\n",
       "      <th>marksB</th>\n",
       "      <th>marksC</th>\n",
       "    </tr>\n",
       "  </thead>\n",
       "  <tbody>\n",
       "    <tr>\n",
       "      <th>0</th>\n",
       "      <td>19.0</td>\n",
       "      <td>41.0</td>\n",
       "      <td>42.0</td>\n",
       "    </tr>\n",
       "    <tr>\n",
       "      <th>1</th>\n",
       "      <td>25.0</td>\n",
       "      <td>3.0</td>\n",
       "      <td>97.0</td>\n",
       "    </tr>\n",
       "    <tr>\n",
       "      <th>4</th>\n",
       "      <td>45.0</td>\n",
       "      <td>1.0</td>\n",
       "      <td>95.0</td>\n",
       "    </tr>\n",
       "    <tr>\n",
       "      <th>3</th>\n",
       "      <td>66.0</td>\n",
       "      <td>66.0</td>\n",
       "      <td>54.0</td>\n",
       "    </tr>\n",
       "    <tr>\n",
       "      <th>2</th>\n",
       "      <td>73.0</td>\n",
       "      <td>19.0</td>\n",
       "      <td>10.0</td>\n",
       "    </tr>\n",
       "  </tbody>\n",
       "</table>\n",
       "</div>"
      ],
      "text/plain": [
       "   marksA  marksB  marksC\n",
       "0    19.0    41.0    42.0\n",
       "1    25.0     3.0    97.0\n",
       "4    45.0     1.0    95.0\n",
       "3    66.0    66.0    54.0\n",
       "2    73.0    19.0    10.0"
      ]
     },
     "execution_count": 24,
     "metadata": {},
     "output_type": "execute_result"
    }
   ],
   "source": [
    "mydata.sort_values(by=[\"marksA\"],ascending=True)"
   ]
  },
  {
   "cell_type": "code",
   "execution_count": 25,
   "id": "de704bda",
   "metadata": {
    "execution": {
     "iopub.execute_input": "2022-02-24T14:36:46.719930Z",
     "iopub.status.busy": "2022-02-24T14:36:46.719175Z",
     "iopub.status.idle": "2022-02-24T14:36:46.722797Z",
     "shell.execute_reply": "2022-02-24T14:36:46.723509Z",
     "shell.execute_reply.started": "2022-02-24T14:35:20.258213Z"
    },
    "papermill": {
     "duration": 0.052006,
     "end_time": "2022-02-24T14:36:46.723788",
     "exception": false,
     "start_time": "2022-02-24T14:36:46.671782",
     "status": "completed"
    },
    "tags": []
   },
   "outputs": [
    {
     "name": "stdout",
     "output_type": "stream",
     "text": [
      "<class 'numpy.ndarray'> (5, 3)\n"
     ]
    }
   ],
   "source": [
    "data_array=mydata.values\n",
    "print(type(data_array),data_array.shape)"
   ]
  },
  {
   "cell_type": "code",
   "execution_count": 26,
   "id": "ad4951f3",
   "metadata": {
    "execution": {
     "iopub.execute_input": "2022-02-24T14:36:46.818341Z",
     "iopub.status.busy": "2022-02-24T14:36:46.817625Z",
     "iopub.status.idle": "2022-02-24T14:36:46.821599Z",
     "shell.execute_reply": "2022-02-24T14:36:46.821047Z",
     "shell.execute_reply.started": "2022-02-24T14:35:20.264131Z"
    },
    "papermill": {
     "duration": 0.053645,
     "end_time": "2022-02-24T14:36:46.821798",
     "exception": false,
     "start_time": "2022-02-24T14:36:46.768153",
     "status": "completed"
    },
    "tags": []
   },
   "outputs": [
    {
     "data": {
      "text/plain": [
       "10.0"
      ]
     },
     "execution_count": 26,
     "metadata": {},
     "output_type": "execute_result"
    }
   ],
   "source": [
    "data_array[2][2\n",
    "             ]"
   ]
  },
  {
   "cell_type": "code",
   "execution_count": 27,
   "id": "8ad22698",
   "metadata": {
    "execution": {
     "iopub.execute_input": "2022-02-24T14:36:46.914551Z",
     "iopub.status.busy": "2022-02-24T14:36:46.913783Z",
     "iopub.status.idle": "2022-02-24T14:36:46.917194Z",
     "shell.execute_reply": "2022-02-24T14:36:46.916566Z",
     "shell.execute_reply.started": "2022-02-24T14:35:20.277398Z"
    },
    "papermill": {
     "duration": 0.052548,
     "end_time": "2022-02-24T14:36:46.917376",
     "exception": false,
     "start_time": "2022-02-24T14:36:46.864828",
     "status": "completed"
    },
    "tags": []
   },
   "outputs": [],
   "source": [
    "#numpy aarrays back in dataframe\n",
    "new_df=pd.DataFrame(data_array,dtype='int32',columns=[\"phy\",\"chem\",\"math\"])"
   ]
  },
  {
   "cell_type": "code",
   "execution_count": 28,
   "id": "881c964f",
   "metadata": {
    "execution": {
     "iopub.execute_input": "2022-02-24T14:36:47.019178Z",
     "iopub.status.busy": "2022-02-24T14:36:47.018373Z",
     "iopub.status.idle": "2022-02-24T14:36:47.022836Z",
     "shell.execute_reply": "2022-02-24T14:36:47.022118Z",
     "shell.execute_reply.started": "2022-02-24T14:35:20.292211Z"
    },
    "papermill": {
     "duration": 0.058996,
     "end_time": "2022-02-24T14:36:47.023000",
     "exception": false,
     "start_time": "2022-02-24T14:36:46.964004",
     "status": "completed"
    },
    "tags": []
   },
   "outputs": [
    {
     "data": {
      "text/html": [
       "<div>\n",
       "<style scoped>\n",
       "    .dataframe tbody tr th:only-of-type {\n",
       "        vertical-align: middle;\n",
       "    }\n",
       "\n",
       "    .dataframe tbody tr th {\n",
       "        vertical-align: top;\n",
       "    }\n",
       "\n",
       "    .dataframe thead th {\n",
       "        text-align: right;\n",
       "    }\n",
       "</style>\n",
       "<table border=\"1\" class=\"dataframe\">\n",
       "  <thead>\n",
       "    <tr style=\"text-align: right;\">\n",
       "      <th></th>\n",
       "      <th>phy</th>\n",
       "      <th>chem</th>\n",
       "      <th>math</th>\n",
       "    </tr>\n",
       "  </thead>\n",
       "  <tbody>\n",
       "    <tr>\n",
       "      <th>0</th>\n",
       "      <td>19</td>\n",
       "      <td>41</td>\n",
       "      <td>42</td>\n",
       "    </tr>\n",
       "    <tr>\n",
       "      <th>1</th>\n",
       "      <td>25</td>\n",
       "      <td>3</td>\n",
       "      <td>97</td>\n",
       "    </tr>\n",
       "    <tr>\n",
       "      <th>2</th>\n",
       "      <td>73</td>\n",
       "      <td>19</td>\n",
       "      <td>10</td>\n",
       "    </tr>\n",
       "    <tr>\n",
       "      <th>3</th>\n",
       "      <td>66</td>\n",
       "      <td>66</td>\n",
       "      <td>54</td>\n",
       "    </tr>\n",
       "    <tr>\n",
       "      <th>4</th>\n",
       "      <td>45</td>\n",
       "      <td>1</td>\n",
       "      <td>95</td>\n",
       "    </tr>\n",
       "  </tbody>\n",
       "</table>\n",
       "</div>"
      ],
      "text/plain": [
       "   phy  chem  math\n",
       "0   19    41    42\n",
       "1   25     3    97\n",
       "2   73    19    10\n",
       "3   66    66    54\n",
       "4   45     1    95"
      ]
     },
     "execution_count": 28,
     "metadata": {},
     "output_type": "execute_result"
    }
   ],
   "source": [
    "new_df"
   ]
  },
  {
   "cell_type": "code",
   "execution_count": 29,
   "id": "2b5b1611",
   "metadata": {
    "execution": {
     "iopub.execute_input": "2022-02-24T14:36:47.119301Z",
     "iopub.status.busy": "2022-02-24T14:36:47.118611Z",
     "iopub.status.idle": "2022-02-24T14:36:47.122076Z",
     "shell.execute_reply": "2022-02-24T14:36:47.121067Z",
     "shell.execute_reply.started": "2022-02-24T14:35:20.304607Z"
    },
    "papermill": {
     "duration": 0.055955,
     "end_time": "2022-02-24T14:36:47.122300",
     "exception": false,
     "start_time": "2022-02-24T14:36:47.066345",
     "status": "completed"
    },
    "tags": []
   },
   "outputs": [],
   "source": [
    "new_df.to_csv(\"new.csv\",index=False)"
   ]
  },
  {
   "cell_type": "code",
   "execution_count": 30,
   "id": "d7a0342e",
   "metadata": {
    "execution": {
     "iopub.execute_input": "2022-02-24T14:36:47.219130Z",
     "iopub.status.busy": "2022-02-24T14:36:47.218373Z",
     "iopub.status.idle": "2022-02-24T14:36:47.223546Z",
     "shell.execute_reply": "2022-02-24T14:36:47.224227Z",
     "shell.execute_reply.started": "2022-02-24T14:35:20.313258Z"
    },
    "papermill": {
     "duration": 0.056099,
     "end_time": "2022-02-24T14:36:47.224442",
     "exception": false,
     "start_time": "2022-02-24T14:36:47.168343",
     "status": "completed"
    },
    "tags": []
   },
   "outputs": [],
   "source": [
    "pcm=pd.read_csv(\"new.csv\")"
   ]
  },
  {
   "cell_type": "code",
   "execution_count": 31,
   "id": "5a2a86c4",
   "metadata": {
    "execution": {
     "iopub.execute_input": "2022-02-24T14:36:47.315085Z",
     "iopub.status.busy": "2022-02-24T14:36:47.314291Z",
     "iopub.status.idle": "2022-02-24T14:36:47.324353Z",
     "shell.execute_reply": "2022-02-24T14:36:47.323653Z",
     "shell.execute_reply.started": "2022-02-24T14:35:20.324477Z"
    },
    "papermill": {
     "duration": 0.05753,
     "end_time": "2022-02-24T14:36:47.324513",
     "exception": false,
     "start_time": "2022-02-24T14:36:47.266983",
     "status": "completed"
    },
    "tags": []
   },
   "outputs": [
    {
     "data": {
      "text/html": [
       "<div>\n",
       "<style scoped>\n",
       "    .dataframe tbody tr th:only-of-type {\n",
       "        vertical-align: middle;\n",
       "    }\n",
       "\n",
       "    .dataframe tbody tr th {\n",
       "        vertical-align: top;\n",
       "    }\n",
       "\n",
       "    .dataframe thead th {\n",
       "        text-align: right;\n",
       "    }\n",
       "</style>\n",
       "<table border=\"1\" class=\"dataframe\">\n",
       "  <thead>\n",
       "    <tr style=\"text-align: right;\">\n",
       "      <th></th>\n",
       "      <th>phy</th>\n",
       "      <th>chem</th>\n",
       "      <th>math</th>\n",
       "    </tr>\n",
       "  </thead>\n",
       "  <tbody>\n",
       "    <tr>\n",
       "      <th>0</th>\n",
       "      <td>19</td>\n",
       "      <td>41</td>\n",
       "      <td>42</td>\n",
       "    </tr>\n",
       "    <tr>\n",
       "      <th>1</th>\n",
       "      <td>25</td>\n",
       "      <td>3</td>\n",
       "      <td>97</td>\n",
       "    </tr>\n",
       "    <tr>\n",
       "      <th>2</th>\n",
       "      <td>73</td>\n",
       "      <td>19</td>\n",
       "      <td>10</td>\n",
       "    </tr>\n",
       "    <tr>\n",
       "      <th>3</th>\n",
       "      <td>66</td>\n",
       "      <td>66</td>\n",
       "      <td>54</td>\n",
       "    </tr>\n",
       "    <tr>\n",
       "      <th>4</th>\n",
       "      <td>45</td>\n",
       "      <td>1</td>\n",
       "      <td>95</td>\n",
       "    </tr>\n",
       "  </tbody>\n",
       "</table>\n",
       "</div>"
      ],
      "text/plain": [
       "   phy  chem  math\n",
       "0   19    41    42\n",
       "1   25     3    97\n",
       "2   73    19    10\n",
       "3   66    66    54\n",
       "4   45     1    95"
      ]
     },
     "execution_count": 31,
     "metadata": {},
     "output_type": "execute_result"
    }
   ],
   "source": [
    "pcm"
   ]
  },
  {
   "cell_type": "code",
   "execution_count": null,
   "id": "0b97d9c7",
   "metadata": {
    "papermill": {
     "duration": 0.04376,
     "end_time": "2022-02-24T14:36:47.412258",
     "exception": false,
     "start_time": "2022-02-24T14:36:47.368498",
     "status": "completed"
    },
    "tags": []
   },
   "outputs": [],
   "source": []
  }
 ],
 "metadata": {
  "kernelspec": {
   "display_name": "Python 3",
   "language": "python",
   "name": "python3"
  },
  "language_info": {
   "codemirror_mode": {
    "name": "ipython",
    "version": 3
   },
   "file_extension": ".py",
   "mimetype": "text/x-python",
   "name": "python",
   "nbconvert_exporter": "python",
   "pygments_lexer": "ipython3",
   "version": "3.7.12"
  },
  "papermill": {
   "default_parameters": {},
   "duration": 47.863163,
   "end_time": "2022-02-24T14:36:48.367598",
   "environment_variables": {},
   "exception": null,
   "input_path": "__notebook__.ipynb",
   "output_path": "__notebook__.ipynb",
   "parameters": {},
   "start_time": "2022-02-24T14:36:00.504435",
   "version": "2.3.3"
  }
 },
 "nbformat": 4,
 "nbformat_minor": 5
}
