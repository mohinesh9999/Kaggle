{
 "cells": [
  {
   "cell_type": "code",
   "execution_count": 1,
   "id": "c70542ac",
   "metadata": {
    "_cell_guid": "b1076dfc-b9ad-4769-8c92-a6c4dae69d19",
    "_uuid": "8f2839f25d086af736a60e9eeb907d3b93b6e0e5",
    "execution": {
     "iopub.execute_input": "2022-02-19T15:03:29.305997Z",
     "iopub.status.busy": "2022-02-19T15:03:29.305169Z",
     "iopub.status.idle": "2022-02-19T15:03:29.308662Z",
     "shell.execute_reply": "2022-02-19T15:03:29.307935Z"
    },
    "papermill": {
     "duration": 0.033099,
     "end_time": "2022-02-19T15:03:29.308858",
     "exception": false,
     "start_time": "2022-02-19T15:03:29.275759",
     "status": "completed"
    },
    "tags": []
   },
   "outputs": [],
   "source": [
    "# This Python 3 environment comes with many helpful analytics libraries installed\n",
    "# It is defined by the kaggle/python Docker image: https://github.com/kaggle/docker-python\n",
    "# For example, here's several helpful packages to load\n",
    "\n",
    "import numpy as np # linear algebra\n",
    "import pandas as pd # data processing, CSV file I/O (e.g. pd.read_csv)\n",
    "\n",
    "# Input data files are available in the read-only \"../input/\" directory\n",
    "# For example, running this (by clicking run or pressing Shift+Enter) will list all files under the input directory\n",
    "\n",
    "import os\n",
    "for dirname, _, filenames in os.walk('/kaggle/input'):\n",
    "    for filename in filenames:\n",
    "        print(os.path.join(dirname, filename))\n",
    "\n",
    "# You can write up to 20GB to the current directory (/kaggle/working/) that gets preserved as output when you create a version using \"Save & Run All\" \n",
    "# You can also write temporary files to /kaggle/temp/, but they won't be saved outside of the current session"
   ]
  },
  {
   "cell_type": "code",
   "execution_count": 2,
   "id": "7b6ee402",
   "metadata": {
    "execution": {
     "iopub.execute_input": "2022-02-19T15:03:29.352546Z",
     "iopub.status.busy": "2022-02-19T15:03:29.351188Z",
     "iopub.status.idle": "2022-02-19T15:03:59.978859Z",
     "shell.execute_reply": "2022-02-19T15:03:59.979579Z",
     "shell.execute_reply.started": "2022-02-19T14:54:54.325878Z"
    },
    "papermill": {
     "duration": 30.655193,
     "end_time": "2022-02-19T15:03:59.979787",
     "exception": false,
     "start_time": "2022-02-19T15:03:29.324594",
     "status": "completed"
    },
    "tags": []
   },
   "outputs": [
    {
     "name": "stdout",
     "output_type": "stream",
     "text": [
      "Requirement already satisfied: pandas in /opt/conda/lib/python3.7/site-packages (1.3.5)\r\n",
      "Requirement already satisfied: python-dateutil>=2.7.3 in /opt/conda/lib/python3.7/site-packages (from pandas) (2.8.2)\r\n",
      "Requirement already satisfied: pytz>=2017.3 in /opt/conda/lib/python3.7/site-packages (from pandas) (2021.3)\r\n",
      "Requirement already satisfied: numpy>=1.17.3 in /opt/conda/lib/python3.7/site-packages (from pandas) (1.20.3)\r\n",
      "Requirement already satisfied: six>=1.5 in /opt/conda/lib/python3.7/site-packages (from python-dateutil>=2.7.3->pandas) (1.16.0)\r\n",
      "\u001b[33mWARNING: Running pip as the 'root' user can result in broken permissions and conflicting behaviour with the system package manager. It is recommended to use a virtual environment instead: https://pip.pypa.io/warnings/venv\u001b[0m\r\n"
     ]
    }
   ],
   "source": [
    "! pip install pandas"
   ]
  },
  {
   "cell_type": "code",
   "execution_count": 3,
   "id": "c65931a5",
   "metadata": {
    "execution": {
     "iopub.execute_input": "2022-02-19T15:04:00.019130Z",
     "iopub.status.busy": "2022-02-19T15:04:00.018019Z",
     "iopub.status.idle": "2022-02-19T15:04:00.021109Z",
     "shell.execute_reply": "2022-02-19T15:04:00.020459Z",
     "shell.execute_reply.started": "2022-02-19T14:56:25.274718Z"
    },
    "papermill": {
     "duration": 0.024449,
     "end_time": "2022-02-19T15:04:00.021269",
     "exception": false,
     "start_time": "2022-02-19T15:03:59.996820",
     "status": "completed"
    },
    "tags": []
   },
   "outputs": [],
   "source": [
    "import numpy as np\n",
    "import pandas as pd"
   ]
  },
  {
   "cell_type": "code",
   "execution_count": 4,
   "id": "d4c41513",
   "metadata": {
    "execution": {
     "iopub.execute_input": "2022-02-19T15:04:00.065445Z",
     "iopub.status.busy": "2022-02-19T15:04:00.060325Z",
     "iopub.status.idle": "2022-02-19T15:04:00.067580Z",
     "shell.execute_reply": "2022-02-19T15:04:00.068175Z",
     "shell.execute_reply.started": "2022-02-19T14:57:49.351405Z"
    },
    "papermill": {
     "duration": 0.029859,
     "end_time": "2022-02-19T15:04:00.068392",
     "exception": false,
     "start_time": "2022-02-19T15:04:00.038533",
     "status": "completed"
    },
    "tags": []
   },
   "outputs": [],
   "source": [
    "user_data={\n",
    "    \"marksA\":np.random.randint(1,100,5),\n",
    "    \"marksB\":np.random.randint(1,100,5),\n",
    "    \"marksC\":np.random.randint(1,100,5),\n",
    "}"
   ]
  },
  {
   "cell_type": "code",
   "execution_count": 5,
   "id": "5346ac7f",
   "metadata": {
    "execution": {
     "iopub.execute_input": "2022-02-19T15:04:00.112183Z",
     "iopub.status.busy": "2022-02-19T15:04:00.111376Z",
     "iopub.status.idle": "2022-02-19T15:04:00.114837Z",
     "shell.execute_reply": "2022-02-19T15:04:00.115433Z",
     "shell.execute_reply.started": "2022-02-19T14:57:14.196251Z"
    },
    "papermill": {
     "duration": 0.030063,
     "end_time": "2022-02-19T15:04:00.115630",
     "exception": false,
     "start_time": "2022-02-19T15:04:00.085567",
     "status": "completed"
    },
    "tags": []
   },
   "outputs": [
    {
     "data": {
      "text/plain": [
       "array([88, 71, 33, 20, 20])"
      ]
     },
     "execution_count": 5,
     "metadata": {},
     "output_type": "execute_result"
    }
   ],
   "source": [
    "np.random.randint(1,100,5)"
   ]
  },
  {
   "cell_type": "code",
   "execution_count": 6,
   "id": "e1dd41a6",
   "metadata": {
    "execution": {
     "iopub.execute_input": "2022-02-19T15:04:00.156150Z",
     "iopub.status.busy": "2022-02-19T15:04:00.155401Z",
     "iopub.status.idle": "2022-02-19T15:04:00.158380Z",
     "shell.execute_reply": "2022-02-19T15:04:00.158924Z",
     "shell.execute_reply.started": "2022-02-19T14:57:58.743427Z"
    },
    "papermill": {
     "duration": 0.026756,
     "end_time": "2022-02-19T15:04:00.159112",
     "exception": false,
     "start_time": "2022-02-19T15:04:00.132356",
     "status": "completed"
    },
    "tags": []
   },
   "outputs": [
    {
     "data": {
      "text/plain": [
       "{'marksA': array([81, 15, 90, 59, 32]),\n",
       " 'marksB': array([58, 41, 63, 33, 24]),\n",
       " 'marksC': array([41, 34, 28, 67, 16])}"
      ]
     },
     "execution_count": 6,
     "metadata": {},
     "output_type": "execute_result"
    }
   ],
   "source": [
    "user_data"
   ]
  },
  {
   "cell_type": "code",
   "execution_count": 7,
   "id": "0d8e73a9",
   "metadata": {
    "execution": {
     "iopub.execute_input": "2022-02-19T15:04:00.197394Z",
     "iopub.status.busy": "2022-02-19T15:04:00.196634Z",
     "iopub.status.idle": "2022-02-19T15:04:00.203736Z",
     "shell.execute_reply": "2022-02-19T15:04:00.204323Z",
     "shell.execute_reply.started": "2022-02-19T15:00:13.358980Z"
    },
    "papermill": {
     "duration": 0.028083,
     "end_time": "2022-02-19T15:04:00.204526",
     "exception": false,
     "start_time": "2022-02-19T15:04:00.176443",
     "status": "completed"
    },
    "tags": []
   },
   "outputs": [],
   "source": [
    "df=pd.DataFrame(user_data,dtype='float32')"
   ]
  },
  {
   "cell_type": "code",
   "execution_count": 8,
   "id": "48453c32",
   "metadata": {
    "execution": {
     "iopub.execute_input": "2022-02-19T15:04:00.243538Z",
     "iopub.status.busy": "2022-02-19T15:04:00.242807Z",
     "iopub.status.idle": "2022-02-19T15:04:00.263366Z",
     "shell.execute_reply": "2022-02-19T15:04:00.263907Z",
     "shell.execute_reply.started": "2022-02-19T15:00:14.756052Z"
    },
    "papermill": {
     "duration": 0.042352,
     "end_time": "2022-02-19T15:04:00.264119",
     "exception": false,
     "start_time": "2022-02-19T15:04:00.221767",
     "status": "completed"
    },
    "tags": []
   },
   "outputs": [
    {
     "data": {
      "text/html": [
       "<div>\n",
       "<style scoped>\n",
       "    .dataframe tbody tr th:only-of-type {\n",
       "        vertical-align: middle;\n",
       "    }\n",
       "\n",
       "    .dataframe tbody tr th {\n",
       "        vertical-align: top;\n",
       "    }\n",
       "\n",
       "    .dataframe thead th {\n",
       "        text-align: right;\n",
       "    }\n",
       "</style>\n",
       "<table border=\"1\" class=\"dataframe\">\n",
       "  <thead>\n",
       "    <tr style=\"text-align: right;\">\n",
       "      <th></th>\n",
       "      <th>marksA</th>\n",
       "      <th>marksB</th>\n",
       "      <th>marksC</th>\n",
       "    </tr>\n",
       "  </thead>\n",
       "  <tbody>\n",
       "    <tr>\n",
       "      <th>0</th>\n",
       "      <td>81.0</td>\n",
       "      <td>58.0</td>\n",
       "      <td>41.0</td>\n",
       "    </tr>\n",
       "    <tr>\n",
       "      <th>1</th>\n",
       "      <td>15.0</td>\n",
       "      <td>41.0</td>\n",
       "      <td>34.0</td>\n",
       "    </tr>\n",
       "    <tr>\n",
       "      <th>2</th>\n",
       "      <td>90.0</td>\n",
       "      <td>63.0</td>\n",
       "      <td>28.0</td>\n",
       "    </tr>\n",
       "    <tr>\n",
       "      <th>3</th>\n",
       "      <td>59.0</td>\n",
       "      <td>33.0</td>\n",
       "      <td>67.0</td>\n",
       "    </tr>\n",
       "    <tr>\n",
       "      <th>4</th>\n",
       "      <td>32.0</td>\n",
       "      <td>24.0</td>\n",
       "      <td>16.0</td>\n",
       "    </tr>\n",
       "  </tbody>\n",
       "</table>\n",
       "</div>"
      ],
      "text/plain": [
       "   marksA  marksB  marksC\n",
       "0    81.0    58.0    41.0\n",
       "1    15.0    41.0    34.0\n",
       "2    90.0    63.0    28.0\n",
       "3    59.0    33.0    67.0\n",
       "4    32.0    24.0    16.0"
      ]
     },
     "execution_count": 8,
     "metadata": {},
     "output_type": "execute_result"
    }
   ],
   "source": [
    "df"
   ]
  },
  {
   "cell_type": "code",
   "execution_count": 9,
   "id": "df56454f",
   "metadata": {
    "execution": {
     "iopub.execute_input": "2022-02-19T15:04:00.312566Z",
     "iopub.status.busy": "2022-02-19T15:04:00.304049Z",
     "iopub.status.idle": "2022-02-19T15:04:00.315577Z",
     "shell.execute_reply": "2022-02-19T15:04:00.316073Z",
     "shell.execute_reply.started": "2022-02-19T15:00:17.018863Z"
    },
    "papermill": {
     "duration": 0.033628,
     "end_time": "2022-02-19T15:04:00.316272",
     "exception": false,
     "start_time": "2022-02-19T15:04:00.282644",
     "status": "completed"
    },
    "tags": []
   },
   "outputs": [
    {
     "data": {
      "text/html": [
       "<div>\n",
       "<style scoped>\n",
       "    .dataframe tbody tr th:only-of-type {\n",
       "        vertical-align: middle;\n",
       "    }\n",
       "\n",
       "    .dataframe tbody tr th {\n",
       "        vertical-align: top;\n",
       "    }\n",
       "\n",
       "    .dataframe thead th {\n",
       "        text-align: right;\n",
       "    }\n",
       "</style>\n",
       "<table border=\"1\" class=\"dataframe\">\n",
       "  <thead>\n",
       "    <tr style=\"text-align: right;\">\n",
       "      <th></th>\n",
       "      <th>marksA</th>\n",
       "      <th>marksB</th>\n",
       "      <th>marksC</th>\n",
       "    </tr>\n",
       "  </thead>\n",
       "  <tbody>\n",
       "    <tr>\n",
       "      <th>0</th>\n",
       "      <td>81.0</td>\n",
       "      <td>58.0</td>\n",
       "      <td>41.0</td>\n",
       "    </tr>\n",
       "    <tr>\n",
       "      <th>1</th>\n",
       "      <td>15.0</td>\n",
       "      <td>41.0</td>\n",
       "      <td>34.0</td>\n",
       "    </tr>\n",
       "    <tr>\n",
       "      <th>2</th>\n",
       "      <td>90.0</td>\n",
       "      <td>63.0</td>\n",
       "      <td>28.0</td>\n",
       "    </tr>\n",
       "  </tbody>\n",
       "</table>\n",
       "</div>"
      ],
      "text/plain": [
       "   marksA  marksB  marksC\n",
       "0    81.0    58.0    41.0\n",
       "1    15.0    41.0    34.0\n",
       "2    90.0    63.0    28.0"
      ]
     },
     "execution_count": 9,
     "metadata": {},
     "output_type": "execute_result"
    }
   ],
   "source": [
    "df.head(n=3)"
   ]
  },
  {
   "cell_type": "code",
   "execution_count": 10,
   "id": "65f25d70",
   "metadata": {
    "execution": {
     "iopub.execute_input": "2022-02-19T15:04:00.359224Z",
     "iopub.status.busy": "2022-02-19T15:04:00.358283Z",
     "iopub.status.idle": "2022-02-19T15:04:00.361690Z",
     "shell.execute_reply": "2022-02-19T15:04:00.362220Z",
     "shell.execute_reply.started": "2022-02-19T15:00:18.772444Z"
    },
    "papermill": {
     "duration": 0.027915,
     "end_time": "2022-02-19T15:04:00.362390",
     "exception": false,
     "start_time": "2022-02-19T15:04:00.334475",
     "status": "completed"
    },
    "tags": []
   },
   "outputs": [
    {
     "data": {
      "text/plain": [
       "Index(['marksA', 'marksB', 'marksC'], dtype='object')"
      ]
     },
     "execution_count": 10,
     "metadata": {},
     "output_type": "execute_result"
    }
   ],
   "source": [
    "df.columns"
   ]
  },
  {
   "cell_type": "code",
   "execution_count": 11,
   "id": "7d722f25",
   "metadata": {
    "execution": {
     "iopub.execute_input": "2022-02-19T15:04:00.404419Z",
     "iopub.status.busy": "2022-02-19T15:04:00.403387Z",
     "iopub.status.idle": "2022-02-19T15:04:00.412501Z",
     "shell.execute_reply": "2022-02-19T15:04:00.411675Z",
     "shell.execute_reply.started": "2022-02-19T15:00:50.683706Z"
    },
    "papermill": {
     "duration": 0.031052,
     "end_time": "2022-02-19T15:04:00.412675",
     "exception": false,
     "start_time": "2022-02-19T15:04:00.381623",
     "status": "completed"
    },
    "tags": []
   },
   "outputs": [],
   "source": [
    "df.to_csv(\"marks.csv\")"
   ]
  },
  {
   "cell_type": "code",
   "execution_count": 12,
   "id": "fac7e89b",
   "metadata": {
    "execution": {
     "iopub.execute_input": "2022-02-19T15:04:00.467833Z",
     "iopub.status.busy": "2022-02-19T15:04:00.466691Z",
     "iopub.status.idle": "2022-02-19T15:04:00.468852Z",
     "shell.execute_reply": "2022-02-19T15:04:00.469404Z",
     "shell.execute_reply.started": "2022-02-19T15:02:47.098301Z"
    },
    "papermill": {
     "duration": 0.038186,
     "end_time": "2022-02-19T15:04:00.469586",
     "exception": false,
     "start_time": "2022-02-19T15:04:00.431400",
     "status": "completed"
    },
    "tags": []
   },
   "outputs": [],
   "source": [
    "mydata=pd.read_csv(\"marks.csv\")\n",
    "mydata=mydata.drop(columns=[\"Unnamed: 0\"])"
   ]
  },
  {
   "cell_type": "code",
   "execution_count": 13,
   "id": "d1560e64",
   "metadata": {
    "execution": {
     "iopub.execute_input": "2022-02-19T15:04:00.511256Z",
     "iopub.status.busy": "2022-02-19T15:04:00.510133Z",
     "iopub.status.idle": "2022-02-19T15:04:00.521508Z",
     "shell.execute_reply": "2022-02-19T15:04:00.522056Z",
     "shell.execute_reply.started": "2022-02-19T15:02:48.814878Z"
    },
    "papermill": {
     "duration": 0.033924,
     "end_time": "2022-02-19T15:04:00.522240",
     "exception": false,
     "start_time": "2022-02-19T15:04:00.488316",
     "status": "completed"
    },
    "tags": []
   },
   "outputs": [
    {
     "data": {
      "text/html": [
       "<div>\n",
       "<style scoped>\n",
       "    .dataframe tbody tr th:only-of-type {\n",
       "        vertical-align: middle;\n",
       "    }\n",
       "\n",
       "    .dataframe tbody tr th {\n",
       "        vertical-align: top;\n",
       "    }\n",
       "\n",
       "    .dataframe thead th {\n",
       "        text-align: right;\n",
       "    }\n",
       "</style>\n",
       "<table border=\"1\" class=\"dataframe\">\n",
       "  <thead>\n",
       "    <tr style=\"text-align: right;\">\n",
       "      <th></th>\n",
       "      <th>marksA</th>\n",
       "      <th>marksB</th>\n",
       "      <th>marksC</th>\n",
       "    </tr>\n",
       "  </thead>\n",
       "  <tbody>\n",
       "    <tr>\n",
       "      <th>0</th>\n",
       "      <td>81.0</td>\n",
       "      <td>58.0</td>\n",
       "      <td>41.0</td>\n",
       "    </tr>\n",
       "    <tr>\n",
       "      <th>1</th>\n",
       "      <td>15.0</td>\n",
       "      <td>41.0</td>\n",
       "      <td>34.0</td>\n",
       "    </tr>\n",
       "    <tr>\n",
       "      <th>2</th>\n",
       "      <td>90.0</td>\n",
       "      <td>63.0</td>\n",
       "      <td>28.0</td>\n",
       "    </tr>\n",
       "    <tr>\n",
       "      <th>3</th>\n",
       "      <td>59.0</td>\n",
       "      <td>33.0</td>\n",
       "      <td>67.0</td>\n",
       "    </tr>\n",
       "    <tr>\n",
       "      <th>4</th>\n",
       "      <td>32.0</td>\n",
       "      <td>24.0</td>\n",
       "      <td>16.0</td>\n",
       "    </tr>\n",
       "  </tbody>\n",
       "</table>\n",
       "</div>"
      ],
      "text/plain": [
       "   marksA  marksB  marksC\n",
       "0    81.0    58.0    41.0\n",
       "1    15.0    41.0    34.0\n",
       "2    90.0    63.0    28.0\n",
       "3    59.0    33.0    67.0\n",
       "4    32.0    24.0    16.0"
      ]
     },
     "execution_count": 13,
     "metadata": {},
     "output_type": "execute_result"
    }
   ],
   "source": [
    "mydata"
   ]
  },
  {
   "cell_type": "code",
   "execution_count": null,
   "id": "492e345b",
   "metadata": {
    "papermill": {
     "duration": 0.018855,
     "end_time": "2022-02-19T15:04:00.562068",
     "exception": false,
     "start_time": "2022-02-19T15:04:00.543213",
     "status": "completed"
    },
    "tags": []
   },
   "outputs": [],
   "source": []
  }
 ],
 "metadata": {
  "kernelspec": {
   "display_name": "Python 3",
   "language": "python",
   "name": "python3"
  },
  "language_info": {
   "codemirror_mode": {
    "name": "ipython",
    "version": 3
   },
   "file_extension": ".py",
   "mimetype": "text/x-python",
   "name": "python",
   "nbconvert_exporter": "python",
   "pygments_lexer": "ipython3",
   "version": "3.7.12"
  },
  "papermill": {
   "default_parameters": {},
   "duration": 43.925312,
   "end_time": "2022-02-19T15:04:01.303816",
   "environment_variables": {},
   "exception": null,
   "input_path": "__notebook__.ipynb",
   "output_path": "__notebook__.ipynb",
   "parameters": {},
   "start_time": "2022-02-19T15:03:17.378504",
   "version": "2.3.3"
  }
 },
 "nbformat": 4,
 "nbformat_minor": 5
}
