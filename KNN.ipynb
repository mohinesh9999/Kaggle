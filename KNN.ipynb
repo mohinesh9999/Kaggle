{
  "nbformat": 4,
  "nbformat_minor": 0,
  "metadata": {
    "colab": {
      "name": "KNN",
      "provenance": [],
      "authorship_tag": "ABX9TyM8UKM/ZKbTUTSHKCmAaCET",
      "include_colab_link": true
    },
    "kernelspec": {
      "name": "python3",
      "display_name": "Python 3"
    },
    "language_info": {
      "name": "python"
    }
  },
  "cells": [
    {
      "cell_type": "markdown",
      "metadata": {
        "id": "view-in-github",
        "colab_type": "text"
      },
      "source": [
        "<a href=\"https://colab.research.google.com/github/mohinesh9999/Kaggle/blob/main/KNN.ipynb\" target=\"_parent\"><img src=\"https://colab.research.google.com/assets/colab-badge.svg\" alt=\"Open In Colab\"/></a>"
      ]
    },
    {
      "cell_type": "code",
      "execution_count": 6,
      "metadata": {
        "id": "f20H9CHxUqH9"
      },
      "outputs": [],
      "source": [
        "import pandas as pd\n",
        "import numpy as np\n",
        "import matplotlib.pyplot as plt\n"
      ]
    },
    {
      "cell_type": "code",
      "source": [
        "'''\n",
        "supervised\n",
        "majority vote\n",
        "no training\n",
        "non - parametric\n",
        "baselime\n",
        "no training O(1)\n",
        "All work in query time O(N*Q) sorting also required\n",
        "'''"
      ],
      "metadata": {
        "colab": {
          "base_uri": "https://localhost:8080/",
          "height": 53
        },
        "id": "t3VQbZ6-VaUA",
        "outputId": "2c9ae771-b1b1-48c6-bd0a-74e284bbd54b"
      },
      "execution_count": 5,
      "outputs": [
        {
          "output_type": "execute_result",
          "data": {
            "application/vnd.google.colaboratory.intrinsic+json": {
              "type": "string"
            },
            "text/plain": [
              "'\\nsupervised\\nmajority vote\\nno training\\nnon - parametric\\nbaselime\\nno training O(1)\\nAll work in query time O(N*Q) sorting also required\\n'"
            ]
          },
          "metadata": {},
          "execution_count": 5
        }
      ]
    },
    {
      "cell_type": "code",
      "source": [
        "from keras.datasets import mnist\n",
        "(train_X, train_y), (test_X, test_y) = mnist.load_data()"
      ],
      "metadata": {
        "colab": {
          "base_uri": "https://localhost:8080/"
        },
        "id": "vRmHU7WOVnMi",
        "outputId": "729f6274-c81f-40f1-cad2-0f1cfb711b9f"
      },
      "execution_count": 7,
      "outputs": [
        {
          "output_type": "stream",
          "name": "stdout",
          "text": [
            "Downloading data from https://storage.googleapis.com/tensorflow/tf-keras-datasets/mnist.npz\n",
            "11493376/11490434 [==============================] - 0s 0us/step\n",
            "11501568/11490434 [==============================] - 0s 0us/step\n"
          ]
        }
      ]
    },
    {
      "cell_type": "code",
      "source": [
        "#Data prepration\n",
        "train_X.shape"
      ],
      "metadata": {
        "colab": {
          "base_uri": "https://localhost:8080/"
        },
        "id": "y_B-9oV_ZMA7",
        "outputId": "5e94ddd2-4201-4e4a-85c7-bcfb44065390"
      },
      "execution_count": 8,
      "outputs": [
        {
          "output_type": "execute_result",
          "data": {
            "text/plain": [
              "(60000, 28, 28)"
            ]
          },
          "metadata": {},
          "execution_count": 8
        }
      ]
    },
    {
      "cell_type": "code",
      "source": [
        "train_y.shape"
      ],
      "metadata": {
        "colab": {
          "base_uri": "https://localhost:8080/"
        },
        "id": "56ljLF_BZeA_",
        "outputId": "bb5daac0-e35b-4bfe-ab32-cf5d2b099518"
      },
      "execution_count": 9,
      "outputs": [
        {
          "output_type": "execute_result",
          "data": {
            "text/plain": [
              "(60000,)"
            ]
          },
          "metadata": {},
          "execution_count": 9
        }
      ]
    },
    {
      "cell_type": "code",
      "source": [
        "train_X=train_X.reshape((60000,-1))"
      ],
      "metadata": {
        "id": "KTcDdBgdZwI4"
      },
      "execution_count": 12,
      "outputs": []
    },
    {
      "cell_type": "code",
      "source": [
        "train_X.shape"
      ],
      "metadata": {
        "colab": {
          "base_uri": "https://localhost:8080/"
        },
        "id": "zjN52z01Zfzl",
        "outputId": "c1924669-47f4-4ac5-efca-c4a86b56d0d1"
      },
      "execution_count": 13,
      "outputs": [
        {
          "output_type": "execute_result",
          "data": {
            "text/plain": [
              "(60000, 784)"
            ]
          },
          "metadata": {},
          "execution_count": 13
        }
      ]
    },
    {
      "cell_type": "code",
      "source": [
        "test_X=test_X.reshape((10000,-1))"
      ],
      "metadata": {
        "id": "9-qOPjsgZ8iT"
      },
      "execution_count": 17,
      "outputs": []
    },
    {
      "cell_type": "code",
      "source": [
        "test_X.shape"
      ],
      "metadata": {
        "colab": {
          "base_uri": "https://localhost:8080/"
        },
        "id": "vZw7Y-pKa3aa",
        "outputId": "71ce4841-8a4a-46d8-91a6-983ca17f099d"
      },
      "execution_count": 18,
      "outputs": [
        {
          "output_type": "execute_result",
          "data": {
            "text/plain": [
              "(10000, 784)"
            ]
          },
          "metadata": {},
          "execution_count": 18
        }
      ]
    },
    {
      "cell_type": "code",
      "source": [
        "#visualize\n",
        "def drawImg(sample):\n",
        "  img=sample.reshape((28,28))\n",
        "  plt.imshow(img,cmap='gray')\n",
        "  plt.show()\n",
        "drawImg(train_X[0])\n",
        "print(train_y[0])\n"
      ],
      "metadata": {
        "colab": {
          "base_uri": "https://localhost:8080/",
          "height": 282
        },
        "id": "RRDPNmYmbBAA",
        "outputId": "52961656-4987-401f-c880-17fa66b18870"
      },
      "execution_count": 27,
      "outputs": [
        {
          "output_type": "display_data",
          "data": {
            "image/png": "[encoded data removed]",
            "text/plain": [
              "<Figure size 432x288 with 1 Axes>"
            ]
          },
          "metadata": {
            "needs_background": "light"
          }
        },
        {
          "output_type": "stream",
          "name": "stdout",
          "text": [
            "5\n"
          ]
        }
      ]
    },
    {
      "cell_type": "code",
      "source": [
        "#make predictions\n",
        "def dist(x1,x2):\n",
        "  return np.sqrt(sum((x1-x2)**2))\n",
        "def knn(X,Y,queryPoint,k=5):\n",
        "  vals=[]\n",
        "  m=X.shape[0]\n",
        "  for i in range(m):\n",
        "    d=dist(queryPoint,X[i])\n",
        "    vals.append([d,Y[i]])\n",
        "  vals.sort()\n",
        "  vals=vals[:k]\n",
        "  vals=np.array(vals)\n",
        "  new_vals=np.unique(vals[:,1],return_counts=True)\n",
        "  idx=new_vals[1].argmax()\n",
        "  pred=new_vals[0][idx]\n",
        "  return pred\n",
        "pred=knn(train_X,train_y,test_X[2])\n",
        "drawImg(test_X[2])\n",
        "print(pred,test_y[2])"
      ],
      "metadata": {
        "colab": {
          "base_uri": "https://localhost:8080/",
          "height": 282
        },
        "id": "haXEqv7bbyQ3",
        "outputId": "fa6ee2dc-c668-4053-f96c-d938018ec4bb"
      },
      "execution_count": 34,
      "outputs": [
        {
          "output_type": "display_data",
          "data": {
            "image/png": "[encoded data removed]",
            "text/plain": [
              "<Figure size 432x288 with 1 Axes>"
            ]
          },
          "metadata": {
            "needs_background": "light"
          }
        },
        {
          "output_type": "stream",
          "name": "stdout",
          "text": [
            "1.0 1\n"
          ]
        }
      ]
    },
    {
      "cell_type": "code",
      "source": [
        "def accuracy(x,y):\n",
        "  ans=0\n",
        "  for i in range(x.shape[0]):\n",
        "    pred=knn(train_X,train_y,x[i])\n",
        "    if(int(pred)==int(y[i])):\n",
        "      ans+=1\n",
        "  return ans/(x.shape[0])\n",
        "print(accuracy(test_X[:10,:],test_y[:10]))\n"
      ],
      "metadata": {
        "colab": {
          "base_uri": "https://localhost:8080/"
        },
        "id": "bcamQmlJhHlo",
        "outputId": "ad71610d-a130-4aff-b634-29a075b36b17"
      },
      "execution_count": 38,
      "outputs": [
        {
          "output_type": "stream",
          "name": "stdout",
          "text": [
            "0.5\n"
          ]
        }
      ]
    },
    {
      "cell_type": "code",
      "source": [
        ""
      ],
      "metadata": {
        "id": "SgXAJoy2i9xX"
      },
      "execution_count": null,
      "outputs": []
    }
  ]
}